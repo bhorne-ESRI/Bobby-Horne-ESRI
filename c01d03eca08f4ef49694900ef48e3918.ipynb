{
 "cells": [
  {
   "cell_type": "markdown",
   "metadata": {},
   "source": [
    "### Configure your ArcGIS Online or Enterprise cnonnections, and specify a group from your src_gis to be copied."
   ]
  },
  {
   "cell_type": "code",
   "execution_count": 61,
   "metadata": {},
   "outputs": [],
   "source": [
    "import arcgis\n",
    "from arcgis.gis import GIS\n",
    "from arcgis.mapping import WebMap\n",
    "import csv\n",
    "from datetime import datetime\n",
    "csv_file = r'C:/Users/bob10704/Desktop/Projects/1.Active Projects/HHS_HubMigration/hub_itemIDs.csv'"
   ]
  },
  {
   "cell_type": "code",
   "execution_count": 62,
   "metadata": {},
   "outputs": [
    {
     "name": "stdout",
     "output_type": "stream",
     "text": [
      "Successfully logged in as: HHS_PROTECT_PUBLIC\n",
      "Successfully logged in as: bhorne_PS_DBS\n"
     ]
    }
   ],
   "source": [
    "src_gis_url = 'https://hhsgov.maps.arcgis.com'     #https://grid3.maps.arcgis.com - can also use 'home' if you are running the notebook from the org you want to use as the src. \n",
    "src_group_id = 'a1e26ee36cb44ad2b97e0a57b9b1d6f8'\n",
    "src_gis_username = 'HHS_PROTECT_PUBLIC' # Your username for the source organization\n",
    "src_gis_password = 'nN96#wz@&EGP' # provide a password for that user, if None is left, you will be prompted to provide the password.\n",
    "#src_client_id = 'aCa70VOCEMfck6ya' #appID for source org; OAuth\n",
    "\n",
    "target_gis_url = 'https://ps-dbs.maps.arcgis.com'  #https://myneworg.maps.arcgis.coNm\n",
    "target_gis_username = 'bhorne_PS_DBS' # Username for Target Org\n",
    "target_gis_password = '78tHbDv5' # Password for Target Org\n",
    "target_folder_name = 'HHS Hub Migration' #Name for the Folder in the target user's content that you want to copy content into.\n",
    "target_group_ID = '5486511c3e614aa6b2f4b4d258d025d6'\n",
    "#target_client_id = 'u4z280xNRnQn2JWU' #appID for target org; OAuth\n",
    "\n",
    "src_gis = arcgis.gis.GIS(src_gis_url, src_gis_username, src_gis_password)\n",
    "#src_gis = arcgis.gis.GIS(src_gis_url, client_id='aCa70VOCEMfck6ya')\n",
    "target_gis = arcgis.gis.GIS(target_gis_url, target_gis_username, target_gis_password)\n",
    "print(\"Successfully logged in as: \" + src_gis.properties.user.username)\n",
    "print(\"Successfully logged in as: \" + target_gis.properties.user.username)"
   ]
  },
  {
   "cell_type": "markdown",
   "metadata": {},
   "source": [
    "#### Validate how many items are in the group to be copied."
   ]
  },
  {
   "cell_type": "code",
   "execution_count": 63,
   "metadata": {},
   "outputs": [
    {
     "name": "stdout",
     "output_type": "stream",
     "text": [
      "73 Total items in Group to be copied\n"
     ]
    }
   ],
   "source": [
    "src_group = src_gis.groups.get(src_group_id)\n",
    "src_group_content = src_group.content()\n",
    "print(\"{} Total items in Group to be copied\".format(len(src_group_content)))"
   ]
  },
  {
   "cell_type": "code",
   "execution_count": 68,
   "metadata": {},
   "outputs": [
    {
     "name": "stdout",
     "output_type": "stream",
     "text": [
      "[]\n"
     ]
    }
   ],
   "source": [
    "content_group= 'HHS Hub Migration Content'\n",
    "group_search = f'title:content_group'\n",
    "map_group= target_gis.groups.search(group_search, max_groups=10)\n",
    "print(map_group)"
   ]
  },
  {
   "cell_type": "markdown",
   "metadata": {},
   "source": [
    "#### Execute the copy! This code below also accounts for hosted tile layers, navigating the item relationship back to the source item, copying that item, and republishing it in the target system."
   ]
  },
  {
   "cell_type": "code",
   "execution_count": 19,
   "metadata": {
    "collapsed": true
   },
   "outputs": [
    {
     "name": "stdout",
     "output_type": "stream",
     "text": [
      "Copying Item: About HHS Protect - Hub Page\n",
      "\t Error copying item: About HHS Protect -- clone_items() got an unexpected keyword argument 'group' \n",
      "Copying Item: Community Profile Report Counties - Feature Service\n",
      "\t Error copying item: Community Profile Report Counties -- clone_items() got an unexpected keyword argument 'group' \n",
      "Copying Item: Community Profile Report Nation - Feature Service\n",
      "\t Error copying item: Community Profile Report Nation -- clone_items() got an unexpected keyword argument 'group' \n",
      "Copying Item: COVID-19 Diagnostic Lab Testing - Feature Service\n",
      "\t Error copying item: COVID-19 Diagnostic Lab Testing -- clone_items() got an unexpected keyword argument 'group' \n",
      "Copying Item: Districts by Learning Modality - Web Map\n",
      "\t Error copying item: Districts by Learning Modality -- clone_items() got an unexpected keyword argument 'group' \n",
      "Copying Item: Districts by Learning Modality - Dashboard\n",
      "\t Error copying item: Districts by Learning Modality -- clone_items() got an unexpected keyword argument 'group' \n",
      "Copying Item: Districts by Learning Modality (mobile) - Dashboard\n",
      "\t Error copying item: Districts by Learning Modality (mobile) -- clone_items() got an unexpected keyword argument 'group' \n",
      "Copying Item: Districts by Learning Modality - New - Dashboard\n",
      "\t Error copying item: Districts by Learning Modality - New -- clone_items() got an unexpected keyword argument 'group' \n",
      "Copying Item: Districts by Learning Modality _ New - Web Map\n",
      "\t Error copying item: Districts by Learning Modality _ New -- clone_items() got an unexpected keyword argument 'group' \n",
      "Copying Item: Districts by Learning Modality Gauges - Dashboard\n",
      "\t Error copying item: Districts by Learning Modality Gauges -- clone_items() got an unexpected keyword argument 'group' \n",
      "Copying Item: districts_learning_modalities - Feature Service\n",
      "\t Error copying item: districts_learning_modalities -- clone_items() got an unexpected keyword argument 'group' \n",
      "Copying Item: Estimated Hospital Utilization - Hub Page\n",
      "\t Error copying item: Estimated Hospital Utilization -- clone_items() got an unexpected keyword argument 'group' \n",
      "Copying Item: Full List of School Districts - Feature Service\n",
      "\t Error copying item: Full List of School Districts -- clone_items() got an unexpected keyword argument 'group' \n",
      "Copying Item: full_point_districts - Feature Service\n",
      "\t Error copying item: full_point_districts -- clone_items() got an unexpected keyword argument 'group' \n",
      "Copying Item: HHS Protect Public Data Hub - Hub Site Application\n",
      "\t Error copying item: HHS Protect Public Data Hub -- clone_items() got an unexpected keyword argument 'group' \n",
      "Copying Item: Hospital Data Coverage Report - Feature Service\n",
      "\t Error copying item: Hospital Data Coverage Report -- clone_items() got an unexpected keyword argument 'group' \n",
      "Copying Item: Hospital Reporting - Hub Page\n",
      "\t Error copying item: Hospital Reporting -- clone_items() got an unexpected keyword argument 'group' \n",
      "Copying Item: Hospital Utilization - Hub Page\n",
      "\t Error copying item: Hospital Utilization -- clone_items() got an unexpected keyword argument 'group' \n",
      "Copying Item: Hospitals Reporting State Level - Feature Service\n",
      "\t Error copying item: Hospitals Reporting State Level -- clone_items() got an unexpected keyword argument 'group' \n",
      "Copying Item: Learning Modalities - Hub Page\n",
      "\t Error copying item: Learning Modalities -- clone_items() got an unexpected keyword argument 'group' \n",
      "Copying Item: modalities_data - Feature Service\n",
      "\t Error copying item: modalities_data -- clone_items() got an unexpected keyword argument 'group' \n",
      "Copying Item: New Therapeutics - Hub Page\n",
      "\t Error copying item: New Therapeutics -- clone_items() got an unexpected keyword argument 'group' \n",
      "Copying Item: Overview - Hub Page\n",
      "\t Error copying item: Overview -- clone_items() got an unexpected keyword argument 'group' \n",
      "Copying Item: Reported State Hospital Capacity and COVID19 Patient Impact - Feature Service\n",
      "\t Error copying item: Reported State Hospital Capacity and COVID19 Patient Impact -- clone_items() got an unexpected keyword argument 'group' \n",
      "Copying Item: School Districts by Learning Modalities - Feature Service\n",
      "\t Error copying item: School Districts by Learning Modalities -- clone_items() got an unexpected keyword argument 'group' \n",
      "Copying Item: State Representative Estimates for Hospital Utilization - Feature Service\n",
      "\t Error copying item: State Representative Estimates for Hospital Utilization -- clone_items() got an unexpected keyword argument 'group' \n",
      "Copying Item: Therapeutics Distribution - Hub Page\n",
      "\t Error copying item: Therapeutics Distribution -- clone_items() got an unexpected keyword argument 'group' \n",
      "Copying Item: Therapeutics Distribution 2 - Hub Page\n",
      "\t Error copying item: Therapeutics Distribution 2 -- clone_items() got an unexpected keyword argument 'group' \n",
      "Copying Item: Vaccination and Testing - Hub Page\n",
      "\t Error copying item: Vaccination and Testing -- clone_items() got an unexpected keyword argument 'group' \n",
      "Copying Item: Weekly Hospital Capacity - Feature Service\n",
      "\t Error copying item: Weekly Hospital Capacity -- clone_items() got an unexpected keyword argument 'group' \n"
     ]
    }
   ],
   "source": [
    "for src_item in src_group_content:\n",
    "    print(\"Copying Item: {} - {}\".format(src_item.title, src_item.type))\n",
    "    try:\n",
    "        #Handle Hosted Tile Layers\n",
    "        if 'Hosted Service' in src_item.typeKeywords and 'Map Service' in src_item.typeKeywords:\n",
    "            if len(target_gis.content.search(\"source-{}\".format(src_item.id)))>0:\n",
    "                print(\"\\t Item Already copied\")\n",
    "                continue\n",
    "            #Clone TPK:\n",
    "            print(\"\\t Hosted Tile Layer found, copying source tile package\")\n",
    "            tpk_result = target_gis.content.clone_items(src_item.related_items('Service2Data'),folder=target_folder_name)\n",
    "            if tpk_result == []:\n",
    "                tpk_result = target_gis.content.search(\"source-{}\".format(src_item.related_items('Service2Data')[0].id))\n",
    "            print(\"\\t Source Tile Package copied as {}\".format(tpk_result[0].id))\n",
    "            print(\"\\t Publishing service...\")\n",
    "            service_result = tpk_result[0].publish(build_initial_cache=True)\n",
    "            service_result.update({\"typeKeywords\":service_result.typeKeywords+[\"source-{}\".format(src_item.id)]})\n",
    "            print(\"\\t Service Result: {}\".format(service_result))\n",
    "        else:\n",
    "            result = target_gis.content.clone_items([src_item],group=target_folder_name)\n",
    "            if result == []:\n",
    "                print(\"\\t Item Already copied\")\n",
    "            else:\n",
    "                print(\"\\t Result: {}\".format(result))\n",
    "   \n",
    "    except Exception as e:\n",
    "        if \"already exists\" in str(e):\n",
    "            print(\"\\tService already copied to target organization\")\n",
    "        else:\n",
    "            print(\"\\t Error copying item: {} -- {} \".format(src_item.title, e))\n",
    "            \n"
   ]
  },
  {
   "cell_type": "code",
   "execution_count": 44,
   "metadata": {},
   "outputs": [],
   "source": [
    "now = datetime.now()\n",
    "dt_string = now.strftime(\"%Y%m%d_%H%M%S\")"
   ]
  },
  {
   "cell_type": "code",
   "execution_count": 55,
   "metadata": {},
   "outputs": [
    {
     "name": "stdout",
     "output_type": "stream",
     "text": [
      "[<Group title:\"HHS Hub Migration  Content\" owner:bhorne_PS_DBS>]\n"
     ]
    }
   ],
   "source": [
    "mygroup = target_gis.groups.search('5486511c3e614aa6b2f4b4d258d025d6')\n",
    "migration = mygroup[0]\n",
    "print(mygroup)"
   ]
  },
  {
   "cell_type": "code",
   "execution_count": 58,
   "metadata": {},
   "outputs": [],
   "source": [
    "migration_content = mygroup[0].content()"
   ]
  },
  {
   "cell_type": "code",
   "execution_count": 60,
   "metadata": {},
   "outputs": [
    {
     "name": "stdout",
     "output_type": "stream",
     "text": [
      "2a456d96d79a4f6ebdf1ebe4eb227b16\n",
      "cc37eab2e81749a5a462c4a9e4180086\n",
      "3ee6bfb9c9034738892fd28f6d24c6ba\n",
      "a41bed03211647f4adc9aab2a07f72cd\n",
      "80374b43e9c848cc924e28cddb6993bc\n",
      "60e2e59e0eb344c29c63aaf4aedda12b\n",
      "0f1f450f78ff4c3dbe1619c73c053c1f\n",
      "b7876e769f0242b99e7579e7df957d7d\n",
      "3a397f93ec904d1ba4e0181e2def2db1\n",
      "d953680d5f99478e9d33a3a1d900d7ee\n",
      "3afb0464379140a5a6732aa84bc16339\n",
      "7350c3af539448e3ba107e623021015b\n",
      "32d35878f7d3498d9b55f1dbf8aceba5\n",
      "3c781ae10d4b45e99e327f6af7a8dc9e\n",
      "1442a1b41531486688c668afde1beb0a\n",
      "143b9a468414469dacd9d49b4e7c60e0\n",
      "ee44df5d3d1c4e7e9a62db871fcb7125\n",
      "a83feaf0a69b49dba78b202701e026f7\n",
      "e513756f5bd04ac0b8c45857263a91f4\n",
      "00bedbac15824fb7a7e566e2480740eb\n"
     ]
    }
   ],
   "source": [
    "with open(csv_file.format(dt_string), 'w') as csvfile:\n",
    "    dataWriter = csv.writer(csvfile, delimiter=',', quotechar='\"', quoting=csv.QUOTE_MINIMAL, lineterminator='\\n')\n",
    "    dataWriter.writerow(['Title',\n",
    "                         'Item ID',\n",
    "                         'Item Type'])\n",
    "    for item in migration_content:\n",
    "        dataWriter.writerow([\n",
    "            item.title,\n",
    "            item.id,\n",
    "            item.type\n",
    "        ])"
   ]
  },
  {
   "cell_type": "markdown",
   "metadata": {},
   "source": [
    "### Pinde Experince Builder code"
   ]
  },
  {
   "cell_type": "code",
   "execution_count": null,
   "metadata": {},
   "outputs": [],
   "source": [
    "newPortalUrl = \"https://xxxx.xx.xx/portal\"\n",
    "def rewire_Web_Experience_items(source, target, source_exp_id):\n",
    "    print(\"\\n\\n\\n ****** To rewire {}*******\".format(source_exp_id))    \n",
    "    found_items = target.content.search(query=\"source-\"+source_exp_id)\n",
    "    if found_items is None or len(found_items) == 0:\n",
    "        print(\"\\n   item doesn't exist in target: source-{} \".format(source_exp_id))\n",
    "        return\n",
    "    new_exp_id_in_target = found_items[0].id\n",
    "    print(\"new_exp_id_in_target {}\".format(new_exp_id_in_target))\n",
    "    targetItem = target.content.get(new_exp_id_in_target)\n",
    "    sourceItem = source.content.get(source_exp_id)\n",
    "    item_data = sourceItem.get_data()\n",
    "    #item_data = item.get_data()\n",
    "    # replace portal url in the layouts\n",
    "    if \"attributes\" in item_data and \"portalUrl\" in item_data[\"attributes\"]:\n",
    "        item_data[\"attributes\"][\"portalUrl\"] = newPortalUrl\n",
    "    # replace the embeded items\n",
    "    print(\"\\n\\n### Replace the embeded items, for example WAB apps and ExB apps\")\n",
    "    widgets_data = item_data[\"widgets\"]\n",
    "    print(\"widgets: {}\".format(len(widgets_data.items())))    \n",
    "    for k, v in widgets_data.items():\n",
    "        if v[\"config\"] and \"staticUrl\" in v[\"config\"]:\n",
    "            embed_Url = v[\"config\"][\"staticUrl\"]\n",
    "            print(\"\\n\\nOld url: {}\".format(embed_Url))\n",
    "            old_item_id = None            \n",
    "            if \"/experience/\" in embed_Url:\n",
    "                l_parts = embed_Url.split(\"/\")\n",
    "                if len(l_parts[len(l_parts)-1])==0:\n",
    "                    old_item_id = l_parts[len(l_parts)-2]\n",
    "                else:\n",
    "                    old_item_id = l_parts[len(l_parts)-1]\n",
    "            if \"/apps/webappviewer/\" in embed_Url:\n",
    "                l_parts = embed_Url.split(\"=\")\n",
    "                old_item_id = l_parts[len(l_parts)-1]\n",
    "            print(\"     old_item_id {}\".format(old_item_id))\n",
    "            if old_item_id is not None:                \n",
    "                # search for the new item in the target\n",
    "                found_new_items = target.content.search(query=\"source-\"+old_item_id)\n",
    "                if found_new_items is None or len(found_new_items)==0 :\n",
    "                    print(\"\\n   New item doesn't exist {} for the source item\".format(old_item_id))\n",
    "                    continue                \n",
    "                else:\n",
    "                    print(\"      found new item {} for the source item\".format(found_new_items[0].id))\n",
    "                    print(\"New url: {}\".format(found_new_items[0].url))\n",
    "                    # replace the item url\n",
    "                    v[\"config\"][\"staticUrl\"] = found_new_items[0].url\n",
    "    print(\"\\n\\n### Replace the web maps in the data sources\")\n",
    "    data_sources_data= item_data[\"dataSources\"]\n",
    "    for k, v in data_sources_data.items():\n",
    "        if \"type\" in v and v[\"type\"] == \"WEB_MAP\" and \"itemId\" in v:\n",
    "            old_item_id = v[\"itemId\"]\n",
    "            print(\"\\nOld web map: {} {}\".format(v[\"portalUrl\"], old_item_id))\n",
    "            found_new_items = target.content.search(query=\"source-\"+old_item_id)\n",
    "            if found_new_items is None or len(found_new_items)==0 :\n",
    "                print(\"\\n   New map doesn't exist for the source item {} \".format(old_item_id))\n",
    "                continue                \n",
    "            else:\n",
    "                v[\"itemId\"] =  found_new_items[0].id\n",
    "                v[\"portalUrl\"] = newPortalUrl\n",
    "                print(\"New web map: {} {}\".format(v[\"portalUrl\"], v[\"itemId\"]))\n",
    "    #print(json.dumps(item_data))\n",
    "    targetItem.update({\"text\": json.dumps(item_data)})\n",
    "    print(\"\\n  Item content rewired!\")"
   ]
  }
 ],
 "metadata": {
  "esriNotebookRuntime": {
   "notebookRuntimeName": "ArcGIS Notebook Python 3 Standard",
   "notebookRuntimeVersion": "5.0"
  },
  "kernelspec": {
   "display_name": "ArcGISPro",
   "language": "Python",
   "name": "python3"
  },
  "language_info": {
   "file_extension": ".py",
   "name": "python",
   "version": "3"
  }
 },
 "nbformat": 4,
 "nbformat_minor": 2
}
