{
 "cells": [
  {
   "cell_type": "code",
   "execution_count": 1,
   "metadata": {},
   "outputs": [],
   "source": [
    "from arcgis.gis import *\n",
    "import itertools\n",
    "gis = GIS(\"https://ps-dbs.maps.arcgis.com\", \"bhorne_ps\")"
   ]
  },
  {
   "cell_type": "code",
   "execution_count": 2,
   "metadata": {},
   "outputs": [],
   "source": [
    "#Identifying users and siging into AGOL (Both users need to have Administrator role)\n",
    "orig_userid = \"bhorne_PS\"\n",
    "new_userid = \"bhorne_PS_DBS\"\n",
    "olduser = gis.users.get(orig_userid)"
   ]
  },
  {
   "cell_type": "code",
   "execution_count": 3,
   "metadata": {},
   "outputs": [
    {
     "data": {
      "text/html": [
       "<div class=\"9item_container\" style=\"height: auto; overflow: hidden; border: 1px solid #cfcfcf; border-radius: 2px; background: #f6fafa; line-height: 1.21429em; padding: 10px;\">\n",
       "                    <div class=\"item_left\" style=\"width: 210px; float: left;\">\n",
       "                       <a href='https://PS-DBS.maps.arcgis.com/home/user.html?user=bhorne_PS' target='_blank'>\n",
       "                        <img src='https://PS-DBS.maps.arcgis.com/home/js/arcgisonline/css/images/no-user-thumb.jpg' class=\"itemThumbnail\">\n",
       "                       </a>\n",
       "                    </div>\n",
       "\n",
       "                    <div class=\"item_right\" style=\"float: none; width: auto; overflow: hidden;\">\n",
       "                        <a href='https://PS-DBS.maps.arcgis.com/home/user.html?user=bhorne_PS' target='_blank'><b>bobby Horne</b>\n",
       "                        </a>\n",
       "                        <br/><br/><b>Bio</b>: None\n",
       "                        <br/><b>First Name</b>: bobby\n",
       "                        <br/><b>Last Name</b>: Horne\n",
       "                        <br/><b>Username</b>: bhorne_PS\n",
       "                        <br/><b>Joined</b>: May 27, 2020\n",
       "\n",
       "                    </div>\n",
       "                </div>\n",
       "                "
      ],
      "text/plain": [
       "<User username:bhorne_PS>"
      ]
     },
     "execution_count": 3,
     "metadata": {},
     "output_type": "execute_result"
    }
   ],
   "source": [
    "gis.users.me"
   ]
  },
  {
   "cell_type": "code",
   "execution_count": 5,
   "metadata": {},
   "outputs": [
    {
     "name": "stdout",
     "output_type": "stream",
     "text": [
      "\n",
      "***Transferring the ownership of groups...\n",
      "The ownership of groups was successfully transferred!\n"
     ]
    }
   ],
   "source": [
    "#Transferring the ownership of ALL GROUPS owned by this user\n",
    "print(\"\\n***Transferring the ownership of groups...\")\n",
    "usergroups = olduser.groups\n",
    "for group in usergroups:\n",
    "    grp = gis.groups.get(group['id'])\n",
    "    if (grp.owner == orig_userid):\n",
    "        grp.reassign_to(new_userid)\n",
    "    else:\n",
    "        grp.add_users(new_userid)\n",
    "\n",
    "print(\"The ownership of groups was successfully transferred!\")\n",
    "# usergroups"
   ]
  },
  {
   "cell_type": "code",
   "execution_count": 6,
   "metadata": {},
   "outputs": [
    {
     "name": "stdout",
     "output_type": "stream",
     "text": [
      "\n",
      "***Transferring the ownership of items in selected folders...\n",
      "Folder already exists.\n",
      "Transferring 5 item(s) from folder: Survey-Dragon Sightings\n",
      "<Item title:\"Dragon Sightings\" type:Feature Layer Collection owner:bhorne_PS_DBS> was reassigned\n",
      "<Item title:\"Dragon Sightings\" type:Form owner:bhorne_PS_DBS> was reassigned\n",
      "<Item title:\"Dragon Sightings\" type:Web Map owner:bhorne_PS_DBS> was reassigned\n",
      "<Item title:\"Dragon Sightings\" type:Feature Layer Collection owner:bhorne_PS_DBS> was reassigned\n",
      "<Item title:\"DrogonWinterfell8x01\" type:Image owner:bhorne_PS_DBS> was reassigned\n",
      "Transferring 4 item(s) from folder: Survey-Fire Analysis\n",
      "<Item title:\"Fire Analysis\" type:Form owner:bhorne_PS_DBS> was reassigned\n",
      "<Item title:\"Fire Analysis\" type:Feature Layer Collection owner:bhorne_PS_DBS> was reassigned\n",
      "<Item title:\"Fire Analysis_stakeholder\" type:Feature Layer Collection owner:bhorne_PS_DBS> was reassigned\n",
      "<Item title:\"Fire Analysis\" type:Feature Layer Collection owner:bhorne_PS_DBS> was reassigned\n",
      "Transferring 5 item(s) from folder: Survey-Horne_Holycross Survey\n",
      "<Item title:\"Horne_Holycross Survey\" type:Feature Layer Collection owner:bhorne_PS_DBS> was reassigned\n",
      "<Item title:\"Horne_Holycross Survey\" type:Form owner:bhorne_PS_DBS> was reassigned\n",
      "<Item title:\"Horne_Holycross Survey\" type:Web Map owner:bhorne_PS_DBS> was reassigned\n",
      "<Item title:\"Horne_Holycross Survey_sampleTemplate\" type:Microsoft Word owner:bhorne_PS_DBS> was reassigned\n",
      "<Item title:\"Horne_Holycross Survey_stakeholder\" type:Feature Layer Collection owner:bhorne_PS_DBS> was reassigned\n",
      "\n",
      "The ownership of 14 items was successfully transferred!\n"
     ]
    }
   ],
   "source": [
    "#Transferring items in folders        \n",
    "print(\"\\n***Transferring the ownership of items in selected folders...\")\n",
    "\n",
    "folders = olduser.folders\n",
    "num_list=[]\n",
    "for folder in folders:\n",
    "    gis.content.create_folder(folder['title'], new_userid)\n",
    "    folderitems = olduser.items(folder=folder['title'])\n",
    "    num_items=int(len(folderitems))\n",
    "    num_list.append(num_items)\n",
    "    print(\"Transferring \"+ str(num_items) + \" item(s) from folder: \"+folder['title'])\n",
    "    for item in folderitems:\n",
    "        if 'View Service' in item.typeKeywords:\n",
    "            print(item.title + \"This View will automatically be transferred\")\n",
    "        elif 'Microsoft' in item.type:\n",
    "            print(item.title + \" - Forget it\")\n",
    "        elif 'Code Attachment' in item.type:\n",
    "            print(\"Forget This type\")\n",
    "        else:\n",
    "            itemsharing=item.shared_with\n",
    "            item.unshare(groups=itemsharing['groups'])\n",
    "            item.reassign_to(new_userid, target_folder=folder['title'])\n",
    "            item.share(everyone=itemsharing['everyone'], org=itemsharing['org'], groups=itemsharing['groups'], allow_members_to_edit=True)\n",
    "            print(f\"{item} was reassigned\")\n",
    "\n",
    "    def sum_list(num_list):\n",
    "        sum = 0\n",
    "        for x in num_list:\n",
    "            sum += x\n",
    "        return sum\n",
    "    total_items=sum_list(num_list)\n",
    "\n",
    "print(\"\\nThe ownership of \" +str(total_items) + \" items was successfully transferred!\")"
   ]
  },
  {
   "cell_type": "code",
   "execution_count": 15,
   "metadata": {},
   "outputs": [
    {
     "name": "stdout",
     "output_type": "stream",
     "text": [
      "\n",
      "***Transferring the ownership of items in the root folder...\n",
      "Folder already exists.\n",
      "<Item title:\"USBP Sector AOR\" type:Feature Layer Collection owner:bhorne_PS>\n",
      "<Item title:\"ArcGIS Online Administration\" type:Notebook owner:bhorne_PS>\n",
      "<Item title:\"Item Management Dashboard - Sample\" type:Dashboard owner:bhorne_PS>\n",
      "<Item title:\"Only Canada\" type:Form owner:bhorne_PS>\n",
      "<Item title:\"Westeros___Fire_and_Blood_WTL1\" type:Service Definition owner:bhorne_PS>\n",
      "<Item title:\"Westeros___Fire_and_Blood_WTL1\" type:Map Image Layer owner:bhorne_PS>\n",
      "<Item title:\"GOT_Continents\" type:Service Definition owner:bhorne_PS>\n",
      "<Item title:\"GOT_Continents\" type:Feature Layer Collection owner:bhorne_PS>\n",
      "<Item title:\"Item Management Dashboard\" type:Dashboard owner:bhorne_PS>\n",
      "<Item title:\"OES Wildfire Situational Awareness Dashboard - Public Desktop Version\" type:Dashboard owner:bhorne_PS>\n",
      "<Item title:\"Test_Layer\" type:Feature Layer Collection owner:bhorne_PS>\n"
     ]
    }
   ],
   "source": [
    "#Transferring items in the root folder   \n",
    "print(\"\\n***Transferring the ownership of items in the root folder...\")\n",
    "userrootcontent = olduser.items()\n",
    "num_root_items=int(len(userrootcontent))\n",
    "rootfoldername=olduser.username+\"_RootFolderNew\"\n",
    "gis.content.create_folder(rootfoldername, new_userid)\n",
    "root_groups_list=[]\n",
    "# print(userrootcontent)\n",
    "\n",
    "for item in userrootcontent:\n",
    "    print(item)\n",
    "    rootitemsharing=item.shared_with\n",
    "    root_group=rootitemsharing['groups']\n",
    "    root_groups_list.append(root_group)\n",
    "    valueToBeRemoved = []\n",
    "    try:\n",
    "        while True:\n",
    "            root_groups_list.remove(valueToBeRemoved)\n",
    "    except ValueError:\n",
    "        pass\n",
    "\n",
    "    root_groups= list(itertools.chain(*root_groups_list))\n",
    "\n",
    "    for group in root_groups:\n",
    "        grop = gis.groups.get(group['id'])\n",
    "        if (grop.owner == orig_userid):\n",
    "            grop.reassign_to(new_userid)\n",
    "        else:\n",
    "            grop.add_users(new_userid)\n",
    "            grop.remove_users(orig_userid)\n",
    "    if 'View Service' in item.typeKeywords:\n",
    "        print(item.title + \"This View will automatically be transferred\")\n",
    "    elif 'Microsoft' in item.type:\n",
    "        print(item.title + \" - Forget it\")\n",
    "    elif 'Code Attachment' in item.type:\n",
    "        print(\"Forget This type\")\n",
    "    else: \n",
    "        item.unshare(groups=rootitemsharing['groups'])\n",
    "        item.reassign_to(new_userid, target_folder=rootfoldername)\n",
    "        item.share(everyone=rootitemsharing['everyone'], org=rootitemsharing['org'], groups=rootitemsharing['groups'], allow_members_to_edit=True)\n",
    "\n",
    "# print(\"The ownership of \"+ str(num_root_items)+\" items in Root Folder was transferred successfully!\")\n",
    "\n",
    "# print (\"\\nTotal number of items transferred: \"+str(total_items+num_root_items)+\" items\") \n",
    "\n",
    "# print(\"\\n***Process was completed!***\")"
   ]
  },
  {
   "cell_type": "code",
   "execution_count": null,
   "metadata": {},
   "outputs": [],
   "source": []
  }
 ],
 "metadata": {
  "kernelspec": {
   "display_name": "Python 3",
   "language": "python",
   "name": "python3"
  },
  "language_info": {
   "codemirror_mode": {
    "name": "ipython",
    "version": 3
   },
   "file_extension": ".py",
   "mimetype": "text/x-python",
   "name": "python",
   "nbconvert_exporter": "python",
   "pygments_lexer": "ipython3",
   "version": "3.9.11"
  },
  "orig_nbformat": 4,
  "vscode": {
   "interpreter": {
    "hash": "ce21b655b4d6c9e397d5ad93d5666c623f49909f6d0cc2f72076dafcf1b3ecfb"
   }
  }
 },
 "nbformat": 4,
 "nbformat_minor": 2
}
