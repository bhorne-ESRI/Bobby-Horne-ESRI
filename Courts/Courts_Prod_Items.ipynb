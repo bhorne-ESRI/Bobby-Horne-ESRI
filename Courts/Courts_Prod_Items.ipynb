{
 "cells": [
  {
   "cell_type": "code",
   "execution_count": 1,
   "metadata": {},
   "outputs": [],
   "source": [
    "from arcgis.gis import GIS\n",
    "from arcgis.mapping import WebMap\n",
    "gis = GIS('https://www.jdart.uscourts.gov/arcgis', \"ao_admin\")\n",
    "import csv\n",
    "from datetime import datetime"
   ]
  },
  {
   "cell_type": "code",
   "execution_count": 2,
   "metadata": {},
   "outputs": [
    {
     "data": {
      "text/plain": [
       "'ao_admin'"
      ]
     },
     "execution_count": 2,
     "metadata": {},
     "output_type": "execute_result"
    }
   ],
   "source": [
    "userid = \"ao_admin\"\n",
    "userid"
   ]
  },
  {
   "cell_type": "code",
   "execution_count": 21,
   "metadata": {},
   "outputs": [
    {
     "data": {
      "text/plain": [
       "[<Item title:\"Active and Imminent Incidents\" type:Feature Layer Collection owner:ao_admin>,\n",
       " <Item title:\"Administrative Office (AO) Application Gallery\" type:Web Experience owner:ao_admin>,\n",
       " <Item title:\"Administrative Office (Thurgood Marshall Federal Judiciary) Building\" type:Mobile Map Package owner:ao_admin>,\n",
       " <Item title:\"AKX - Public View - Survey Reporting - Web Map\" type:Web Map owner:ao_admin>,\n",
       " <Item title:\"AKX - Survey Review App - Web Map\" type:Web Map owner:ao_admin>,\n",
       " <Item title:\"AKX Application Gallery\" type:Web Experience owner:ao_admin>,\n",
       " <Item title:\"AKX Courts Employee Safety Reporting CUE View\" type:Feature Layer Collection owner:ao_admin>,\n",
       " <Item title:\"AKX Courts Employee Safety Reporting Public View\" type:Feature Layer Collection owner:ao_admin>,\n",
       " <Item title:\"AKX Courts Facility Reporting CUE View\" type:Feature Layer Collection owner:ao_admin>,\n",
       " <Item title:\"AKX Courts Facility Reporting Public View\" type:Feature Layer Collection owner:ao_admin>,\n",
       " <Item title:\"AKX Courts Incident Reporting CUE View\" type:Feature Layer Collection owner:ao_admin>,\n",
       " <Item title:\"AKX Courts Incident Reporting Public View\" type:Feature Layer Collection owner:ao_admin>,\n",
       " <Item title:\"AKX JDART Dashboard - Combined Dashboards\" type:Dashboard owner:ao_admin>,\n",
       " <Item title:\"AKX Reporting Viewer\" type:Code Attachment owner:ao_admin>,\n",
       " <Item title:\"AKX Reporting Viewer\" type:Web Mapping Application owner:ao_admin>,\n",
       " <Item title:\"AKX Survey Review App\" type:Web Mapping Application owner:ao_admin>,\n",
       " <Item title:\"ALM - Public View - Survey Reporting - Web Map\" type:Web Map owner:ao_admin>,\n",
       " <Item title:\"ALM - Survey Review App\" type:Web Mapping Application owner:ao_admin>,\n",
       " <Item title:\"ALM - Survey Review App - Web Map\" type:Web Map owner:ao_admin>,\n",
       " <Item title:\"ALM Application Gallery\" type:Web Experience owner:ao_admin>,\n",
       " <Item title:\"ALM Courts Employee Safety Reporting CUE View\" type:Feature Layer Collection owner:ao_admin>,\n",
       " <Item title:\"ALM Courts Employee Safety Reporting Public View\" type:Feature Layer Collection owner:ao_admin>,\n",
       " <Item title:\"ALM Courts Facility Reporting CUE Viewer\" type:Feature Layer Collection owner:ao_admin>,\n",
       " <Item title:\"ALM Courts Facility Reporting Public View\" type:Feature Layer Collection owner:ao_admin>,\n",
       " <Item title:\"ALM Courts Incident Reporting CUE View\" type:Feature Layer Collection owner:ao_admin>,\n",
       " <Item title:\"ALM Courts Incident Reporting Public View\" type:Feature Layer Collection owner:ao_admin>,\n",
       " <Item title:\"ALM JDART Dashboard - Combined Dashboard\" type:Dashboard owner:ao_admin>,\n",
       " <Item title:\"ALM Reporting Viewer\" type:Code Attachment owner:ao_admin>,\n",
       " <Item title:\"ALM Reporting Viewer\" type:Web Mapping Application owner:ao_admin>,\n",
       " <Item title:\"ALM TEST\" type:Web Mapping Application owner:ao_admin>,\n",
       " <Item title:\"ALN - Public View - Survey Reporting - Web Map\" type:Web Map owner:ao_admin>,\n",
       " <Item title:\"ALN - Survey Review App\" type:Web Mapping Application owner:ao_admin>,\n",
       " <Item title:\"ALN - Survey Review App - Web Map\" type:Web Map owner:ao_admin>,\n",
       " <Item title:\"ALN Application Gallery\" type:Web Experience owner:ao_admin>,\n",
       " <Item title:\"ALN Courts Employee Safety Reporting CUE View\" type:Feature Layer Collection owner:ao_admin>,\n",
       " <Item title:\"ALN Courts Employee Safety Reporting Public View\" type:Feature Layer Collection owner:ao_admin>,\n",
       " <Item title:\"ALN Courts Facility Reporting CUE View\" type:Feature Layer Collection owner:ao_admin>,\n",
       " <Item title:\"ALN Courts Facility Reporting Public View\" type:Feature Layer Collection owner:ao_admin>,\n",
       " <Item title:\"ALN Courts Incident Reporting CUE View\" type:Feature Layer Collection owner:ao_admin>,\n",
       " <Item title:\"ALN Courts Incident Reporting Public View\" type:Feature Layer Collection owner:ao_admin>,\n",
       " <Item title:\"ALN Dashboard - Combined Dashboard\" type:Dashboard owner:ao_admin>,\n",
       " <Item title:\"ALN Reporting Viewer\" type:Code Attachment owner:ao_admin>,\n",
       " <Item title:\"ALN Reporting Viewer\" type:Web Mapping Application owner:ao_admin>,\n",
       " <Item title:\"ALS - Public View - Survey Reporting - Web Map\" type:Web Map owner:ao_admin>,\n",
       " <Item title:\"ALS - Survey Review App\" type:Web Mapping Application owner:ao_admin>,\n",
       " <Item title:\"ALS - Survey Review App - Web Map\" type:Web Map owner:ao_admin>,\n",
       " <Item title:\"ALS Courts Employee Safety Reporting CUE View\" type:Feature Layer Collection owner:ao_admin>,\n",
       " <Item title:\"ALS Courts Employee Safety Reporting Public View\" type:Feature Layer Collection owner:ao_admin>,\n",
       " <Item title:\"ALS Courts Facility Reporting CUE View\" type:Feature Layer Collection owner:ao_admin>,\n",
       " <Item title:\"ALS Courts Facility Reporting Public View\" type:Feature Layer Collection owner:ao_admin>,\n",
       " <Item title:\"ALS Courts Incident Reporting CUE View\" type:Feature Layer Collection owner:ao_admin>,\n",
       " <Item title:\"ALS Courts Incident Reporting Public View\" type:Feature Layer Collection owner:ao_admin>,\n",
       " <Item title:\"ALS Dashboard - Combined Dashboard\" type:Dashboard owner:ao_admin>,\n",
       " <Item title:\"ALS Reporting Viewer\" type:Code Attachment owner:ao_admin>,\n",
       " <Item title:\"ALS Reporting Viewer\" type:Web Mapping Application owner:ao_admin>,\n",
       " <Item title:\"Analyst Incident Dashboard\" type:Dashboard owner:ao_admin>,\n",
       " <Item title:\"Analyst Resources Dashboard\" type:Dashboard owner:ao_admin>,\n",
       " <Item title:\"AO Courts Employee Safety Reporting CUE View\" type:Feature Layer Collection owner:ao_admin>,\n",
       " <Item title:\"AO Courts Employee Safety Reporting Public View\" type:Feature Layer Collection owner:ao_admin>,\n",
       " <Item title:\"AO Courts Facility Reporting CUE View\" type:Feature Layer Collection owner:ao_admin>,\n",
       " <Item title:\"AO Courts Facility Reporting Public View\" type:Feature Layer Collection owner:ao_admin>,\n",
       " <Item title:\"AO Courts Incident Reporting CUE View\" type:Feature Layer Collection owner:ao_admin>,\n",
       " <Item title:\"AO Courts Incident Reporting Public View\" type:Feature Layer Collection owner:ao_admin>,\n",
       " <Item title:\"AO Courts Reporting Views - Public View - Web Map\" type:Web Map owner:ao_admin>,\n",
       " <Item title:\"AO JDART - Alert Status Web Map\" type:Web Map owner:ao_admin>,\n",
       " <Item title:\"AO JDART - Earthquakes Alert Status Web Map\" type:Web Map owner:ao_admin>,\n",
       " <Item title:\"AO JDART - Power Outage Web Map\" type:Web Map owner:ao_admin>,\n",
       " <Item title:\"AO JDART - Severe Weather Alert Status Web Map\" type:Web Map owner:ao_admin>,\n",
       " <Item title:\"AO JDART - Tropical Storm Alert Status Web Map\" type:Web Map owner:ao_admin>,\n",
       " <Item title:\"AO JDART - Wildfires  Alert Status Web Map\" type:Web Map owner:ao_admin>,\n",
       " <Item title:\"AO JDART Dashboard - Combined Dashboards\" type:Dashboard owner:ao_admin>,\n",
       " <Item title:\"AO Judiciary Security Division - JDART - Power Outage\" type:Dashboard owner:ao_admin>,\n",
       " <Item title:\"AO Offices - Counties\" type:Feature Layer Collection owner:ao_admin>,\n",
       " <Item title:\"AO Offices - Location Boundaries\" type:Feature Layer Collection owner:ao_admin>,\n",
       " <Item title:\"AO Public View - Survey Reporting - Web Map\" type:Web Map owner:ao_admin>,\n",
       " <Item title:\"AO Reporting Viewer\" type:Code Attachment owner:ao_admin>,\n",
       " <Item title:\"AO Reporting Viewer\" type:Web Mapping Application owner:ao_admin>,\n",
       " <Item title:\"AO Survey Review App\" type:Web Mapping Application owner:ao_admin>,\n",
       " <Item title:\"AO Survey Review App - Web Map\" type:Web Map owner:ao_admin>,\n",
       " <Item title:\"Applications\" type:Image owner:ao_admin>,\n",
       " <Item title:\"Archived Threats\" type:File Geodatabase owner:ao_admin>,\n",
       " <Item title:\"Blue Sky Application\" type:Web Experience owner:ao_admin>,\n",
       " <Item title:\"Blue Sky Incident Feed\" type:Dashboard owner:ao_admin>,\n",
       " <Item title:\"Blue Sky Map\" type:Web Map owner:ao_admin>,\n",
       " <Item title:\"Boundary Map\" type:Web Map owner:ao_admin>,\n",
       " <Item title:\"Buffer_of_World_Nuclear_Power_Plant\" type:Feature Layer Collection owner:ao_admin>,\n",
       " <Item title:\"Buffer_of_World_Nuclear_Power_Plant\" type:Service Definition owner:ao_admin>,\n",
       " <Item title:\"CAC - Public View - Survey Reporting - Web Map\" type:Web Map owner:ao_admin>,\n",
       " <Item title:\"CAC - Survey Review App\" type:Web Mapping Application owner:ao_admin>,\n",
       " <Item title:\"CAC - Survey Review App - Web Map\" type:Web Map owner:ao_admin>,\n",
       " <Item title:\"CAC Courts Employee Safety Reporting CUE View\" type:Feature Layer Collection owner:ao_admin>,\n",
       " <Item title:\"CAC Courts Employee Safety Reporting Public View\" type:Feature Layer Collection owner:ao_admin>,\n",
       " <Item title:\"CAC Courts Facility Reporting CUE View\" type:Feature Layer Collection owner:ao_admin>,\n",
       " <Item title:\"CAC Courts Facility Reporting Public View1\" type:Feature Layer Collection owner:ao_admin>,\n",
       " <Item title:\"CAC Courts Incident Reporting CUE View\" type:Feature Layer Collection owner:ao_admin>,\n",
       " <Item title:\"CAC Courts Incident Reporting Public View\" type:Feature Layer Collection owner:ao_admin>,\n",
       " <Item title:\"CAC JDART Dashboard - Combined Dashboard\" type:Dashboard owner:ao_admin>,\n",
       " <Item title:\"CAC Reporting Viewer\" type:Code Attachment owner:ao_admin>,\n",
       " <Item title:\"CAC Reporting Viewer\" type:Web Mapping Application owner:ao_admin>,\n",
       " <Item title:\"CAC_Courts_Facility_Reporting_Public_View\" type:Feature Layer Collection owner:ao_admin>]"
      ]
     },
     "execution_count": 21,
     "metadata": {},
     "output_type": "execute_result"
    }
   ],
   "source": [
    "rootcontent = gis.content.advanced_search(query='owner:AO_ADMIN')\n",
    "resutls = rootcontent[\"results\"]\n",
    "resutls"
   ]
  },
  {
   "cell_type": "code",
   "execution_count": 12,
   "metadata": {},
   "outputs": [
    {
     "ename": "AttributeError",
     "evalue": "'str' object has no attribute 'folders'",
     "output_type": "error",
     "traceback": [
      "\u001b[1;31m---------------------------------------------------------------------------\u001b[0m",
      "\u001b[1;31mAttributeError\u001b[0m                            Traceback (most recent call last)",
      "\u001b[1;32m<ipython-input-12-543f5b9b2519>\u001b[0m in \u001b[0;36m<module>\u001b[1;34m\u001b[0m\n\u001b[1;32m----> 1\u001b[1;33m \u001b[0mfolders\u001b[0m \u001b[1;33m=\u001b[0m \u001b[0muserid\u001b[0m\u001b[1;33m.\u001b[0m\u001b[0mfolders\u001b[0m\u001b[1;33m\u001b[0m\u001b[1;33m\u001b[0m\u001b[0m\n\u001b[0m\u001b[0;32m      2\u001b[0m \u001b[0mfolders\u001b[0m\u001b[1;33m\u001b[0m\u001b[1;33m\u001b[0m\u001b[0m\n",
      "\u001b[1;31mAttributeError\u001b[0m: 'str' object has no attribute 'folders'"
     ]
    }
   ],
   "source": [
    "folders = userid.folders\n",
    "folders"
   ]
  },
  {
   "cell_type": "code",
   "execution_count": 86,
   "metadata": {
    "collapsed": true
   },
   "outputs": [
    {
     "data": {
      "text/plain": [
       "[<Item title:\"DefQueryTesting\" type:Web Map owner:bhorne>, <Item title:\"DefQueryTesting - Missouri Sector\" type:Web Map owner:bhorne>, <Item title:\"GeometryTesting\" type:Feature Layer Collection owner:bhorne>, <Item title:\"GeometryTesting_map2\" type:Feature Layer Collection owner:bhorne>, <Item title:\"GeometryTesting_Take3\" type:Feature Layer Collection owner:bhorne>, <Item title:\"OfflineLayerTest\" type:Feature Layer Collection owner:bhorne>, <Item title:\"OfflineLayerTest\" type:Map Image Layer owner:bhorne>, <Item title:\"RelationshipTest\" type:Feature Layer Collection owner:bhorne>, <Item title:\"Tactical Infrastructure Field Collection_MIL1\" type:Feature Layer Collection owner:bhorne>, <Item title:\"TI Field Collection - Big Bend Sector\" type:Web Map owner:bhorne>, <Item title:\"TI Field Collection - Blaine Sector\" type:Web Map owner:bhorne>, <Item title:\"TI Field Collection - Buffalo Sector\" type:Web Map owner:bhorne>, <Item title:\"TI Field Collection - Del Rio Sector\" type:Web Map owner:bhorne>, <Item title:\"TI Field Collection - Detroit Sector\" type:Web Map owner:bhorne>, <Item title:\"TI Field Collection - El Centro Sector\" type:Web Map owner:bhorne>, <Item title:\"TI Field Collection - El Paso Sector\" type:Web Map owner:bhorne>, <Item title:\"TI Field Collection - Grand Forks Sector\" type:Web Map owner:bhorne>, <Item title:\"TI Field Collection - Havre Sector\" type:Web Map owner:bhorne>, <Item title:\"TI Field Collection - Houlton Sector\" type:Web Map owner:bhorne>, <Item title:\"TI Field Collection - Laredo Sector\" type:Web Map owner:bhorne>, <Item title:\"TI Field Collection - Miami Sector\" type:Web Map owner:bhorne>, <Item title:\"TI Field Collection - New Orleans Sector\" type:Web Map owner:bhorne>, <Item title:\"TI Field Collection - Ramey Sector\" type:Web Map owner:bhorne>, <Item title:\"TI Field Collection - Rio Grande Valley Sector\" type:Web Map owner:bhorne>, <Item title:\"TI Field Collection - San Diego Sector\" type:Web Map owner:bhorne>, <Item title:\"TI Field Collection - Spokane Sector\" type:Web Map owner:bhorne>, <Item title:\"TI Field Collection - Swanton Sector\" type:Web Map owner:bhorne>, <Item title:\"TI Field Collection - Tucson Sector\" type:Web Map owner:bhorne>, <Item title:\"TI Field Collection - Yuma Sector\" type:Web Map owner:bhorne>]"
      ]
     },
     "execution_count": 86,
     "metadata": {},
     "output_type": "execute_result"
    }
   ],
   "source": [
    "fieldmaps = TI_Field_Maps[0].content()\n",
    "fieldmaps"
   ]
  },
  {
   "cell_type": "code",
   "execution_count": 22,
   "metadata": {},
   "outputs": [],
   "source": [
    "now = datetime.now()\n",
    "dt_string = now.strftime(\"%Y%m%d_%H%M%S\")"
   ]
  },
  {
   "cell_type": "code",
   "execution_count": 38,
   "metadata": {},
   "outputs": [
    {
     "ename": "KeyError",
     "evalue": "'list{id}'",
     "output_type": "error",
     "traceback": [
      "\u001b[1;31m---------------------------------------------------------------------------\u001b[0m",
      "\u001b[1;31mKeyError\u001b[0m                                  Traceback (most recent call last)",
      "\u001b[1;32m<ipython-input-38-57e57a35b2af>\u001b[0m in \u001b[0;36m<module>\u001b[1;34m\u001b[0m\n\u001b[0;32m     11\u001b[0m         \u001b[1;31m# for i in itemd:\u001b[0m\u001b[1;33m\u001b[0m\u001b[1;33m\u001b[0m\u001b[0m\n\u001b[0;32m     12\u001b[0m         \u001b[1;31m#     print(i)\u001b[0m\u001b[1;33m\u001b[0m\u001b[1;33m\u001b[0m\u001b[0m\n\u001b[1;32m---> 13\u001b[1;33m         \u001b[0mdependent_to\u001b[0m \u001b[1;33m=\u001b[0m \u001b[0mitem\u001b[0m\u001b[1;33m.\u001b[0m\u001b[0mdependent_to\u001b[0m\u001b[1;33m(\u001b[0m\u001b[1;33m)\u001b[0m\u001b[1;33m[\u001b[0m\u001b[1;34m\"list{id}\"\u001b[0m\u001b[1;33m]\u001b[0m\u001b[1;33m\u001b[0m\u001b[1;33m\u001b[0m\u001b[0m\n\u001b[0m\u001b[0;32m     14\u001b[0m         \u001b[1;31m# print(i[\"id\"])\u001b[0m\u001b[1;33m\u001b[0m\u001b[1;33m\u001b[0m\u001b[0m\n\u001b[0;32m     15\u001b[0m         dataWriter.writerow([\n",
      "\u001b[1;31mKeyError\u001b[0m: 'list{id}'"
     ]
    }
   ],
   "source": [
    "with open(r'C:/Users/bob10704/Desktop/Projects/1.Active Projects/US Courts/CSV_Transfer.csv'.format(dt_string), 'w') as output:\n",
    "    dataWriter = csv.writer(output, delimiter=',', quotechar='\"', quoting=csv.QUOTE_MINIMAL, lineterminator='\\n')\n",
    "    dataWriter.writerow(['Title',\n",
    "                         'Item ID',\n",
    "                         'Item Type',\n",
    "                         'Item Dep To',\n",
    "                         'Item Dep Upon'])\n",
    "    for item in resutls:\n",
    "        # if item.title.startswith(\"TI\"):\n",
    "        # itemd = item.depend_type\n",
    "        # for i in itemd:\n",
    "        #     print(i)\n",
    "        dependent_to = item.dependent_to()[\"list{id}\"]\n",
    "        # print(i[\"id\"])\n",
    "        dataWriter.writerow([\n",
    "            item.title,\n",
    "            item.id,\n",
    "            item.type,\n",
    "            dependent_to,\n",
    "            item.dependent_upon()[\"list{id}\"]\n",
    "            ])"
   ]
  },
  {
   "cell_type": "code",
   "execution_count": null,
   "metadata": {},
   "outputs": [],
   "source": []
  }
 ],
 "metadata": {
  "kernelspec": {
   "display_name": "Python 3",
   "language": "python",
   "name": "python3"
  },
  "language_info": {
   "codemirror_mode": {
    "name": "ipython",
    "version": 3
   },
   "file_extension": ".py",
   "mimetype": "text/x-python",
   "name": "python",
   "nbconvert_exporter": "python",
   "pygments_lexer": "ipython3",
   "version": "3.9.11"
  },
  "vscode": {
   "interpreter": {
    "hash": "ce21b655b4d6c9e397d5ad93d5666c623f49909f6d0cc2f72076dafcf1b3ecfb"
   }
  }
 },
 "nbformat": 4,
 "nbformat_minor": 2
}
