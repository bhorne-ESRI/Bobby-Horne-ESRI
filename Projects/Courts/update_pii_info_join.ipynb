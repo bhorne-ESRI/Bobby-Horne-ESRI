{
 "cells": [
  {
   "cell_type": "markdown",
   "metadata": {},
   "source": [
    "## Welcome to your notebook.\n"
   ]
  },
  {
   "cell_type": "markdown",
   "metadata": {},
   "source": [
    "#### Run this cell to connect to your GIS and get started:"
   ]
  },
  {
   "cell_type": "code",
   "execution_count": null,
   "metadata": {},
   "outputs": [],
   "source": [
    "from arcgis.gis import GIS\n",
    "gis = GIS(\"home\")"
   ]
  },
  {
   "cell_type": "markdown",
   "metadata": {},
   "source": [
    "# Join tables based on Email Address"
   ]
  },
  {
   "cell_type": "code",
   "execution_count": null,
   "metadata": {},
   "outputs": [],
   "source": [
    "# publish tables that christina gave me - done\n",
    "# read in the tables - done\n",
    "# create email_lower column and populate with lower case version of the email \n",
    "# trim whitespace from both emails so that the join is successful\n",
    "# join on this EMAIL UPPER column\n",
    "# update 4 fields in PII services table based on the data in the incoming table"
   ]
  },
  {
   "cell_type": "code",
   "execution_count": null,
   "metadata": {},
   "outputs": [],
   "source": [
    "import pandas as pd\n",
    "from pandas.testing import assert_frame_equal"
   ]
  },
  {
   "cell_type": "markdown",
   "metadata": {},
   "source": [
    "#### Read in Hosted Tables as Dataframes"
   ]
  },
  {
   "cell_type": "code",
   "execution_count": null,
   "metadata": {},
   "outputs": [],
   "source": [
    "# Add pii services item\n",
    "pii_services_item = gis.content.get(\"c2e4b1b7254047a3ba970bddda528f7d\") # update this item to point to the PII Services itemid\n",
    "pii_services_item"
   ]
  },
  {
   "cell_type": "code",
   "execution_count": null,
   "metadata": {},
   "outputs": [],
   "source": [
    "# convert hosted table layer as a data frame\n",
    "# https://community.esri.com/t5/arcgis-online-questions/access-non-spatial-hosted-table-with-python/m-p/1255062#M50136\n",
    "pii_services_df = pii_services_item.tables[0].query(as_df=True)\n",
    "pii_services_df"
   ]
  },
  {
   "cell_type": "code",
   "execution_count": null,
   "metadata": {},
   "outputs": [],
   "source": [
    "# Add dm circuit item\n",
    "dm_circuit_item = gis.content.get(\"e3226cdd7d5c4cd794f205b472d012d7\")\n",
    "dm_circuit_item"
   ]
  },
  {
   "cell_type": "code",
   "execution_count": null,
   "metadata": {},
   "outputs": [],
   "source": [
    "# convert hosted table layer as a data frame\n",
    "# https://community.esri.com/t5/arcgis-online-questions/access-non-spatial-hosted-table-with-python/m-p/1255062#M50136\n",
    "dm_circuit_df= dm_circuit_item.tables[0].query(as_df=True)\n",
    "dm_circuit_df"
   ]
  },
  {
   "cell_type": "code",
   "execution_count": null,
   "metadata": {},
   "outputs": [],
   "source": [
    "# check the column names\n",
    "# we require keeping the object id of the PII Services table as it will be used to update records accordingly\n",
    "print(pii_services_df.columns)\n",
    "print(dm_circuit_df.columns)"
   ]
  },
  {
   "cell_type": "markdown",
   "metadata": {},
   "source": [
    "##### Create email lower column"
   ]
  },
  {
   "cell_type": "code",
   "execution_count": null,
   "metadata": {},
   "outputs": [],
   "source": [
    "# create email_lower field and remove white space from field\n",
    "pii_services_email_lower_df = pii_services_df\n",
    "pii_services_email_lower_df['email_lower'] = pii_services_email_lower_df['DME_Email_Address'].apply(lambda x: x.lower() if isinstance(x, str) else x).str.strip()\n",
    "pii_services_email_lower_df"
   ]
  },
  {
   "cell_type": "code",
   "execution_count": null,
   "metadata": {},
   "outputs": [],
   "source": [
    "pii_services_email_lower_df.columns"
   ]
  },
  {
   "cell_type": "code",
   "execution_count": null,
   "metadata": {},
   "outputs": [],
   "source": [
    "# create email_lower field and remove white space from field\n",
    "# drop objectid column\n",
    "dm_circuit_email_lower_df = dm_circuit_df\n",
    "dm_circuit_email_lower_df['email_lower'] = dm_circuit_email_lower_df['Email'].apply(lambda x: x.lower() if isinstance(x, str) else x).str.strip()\n",
    "dm_circuit_email_lower_df = dm_circuit_email_lower_df.drop(['ObjectId'], axis=1)\n",
    "dm_circuit_email_lower_df"
   ]
  },
  {
   "cell_type": "code",
   "execution_count": null,
   "metadata": {},
   "outputs": [],
   "source": [
    "dm_circuit_email_lower_df.columns"
   ]
  },
  {
   "cell_type": "markdown",
   "metadata": {},
   "source": [
    "### Join PII Services table and Incoming table on lower case email column (email_lower)"
   ]
  },
  {
   "cell_type": "code",
   "execution_count": null,
   "metadata": {},
   "outputs": [],
   "source": [
    "# Join the dataframes on the 'ID' column\n",
    "merged_df = pd.merge(pii_services_email_lower_df, dm_circuit_email_lower_df, on='email_lower', how='inner')\n",
    "merged_df"
   ]
  },
  {
   "cell_type": "code",
   "execution_count": null,
   "metadata": {},
   "outputs": [],
   "source": [
    "# Update DME_Total_Listing_Reviewed field with value from joined table if present\n",
    "merged_df.columns\n",
    "merged_df['DME_Total_Listing_Reviewed']"
   ]
  },
  {
   "cell_type": "code",
   "execution_count": null,
   "metadata": {},
   "outputs": [],
   "source": [
    "merged_df['DME_Total_Listing_Removed']"
   ]
  },
  {
   "cell_type": "code",
   "execution_count": null,
   "metadata": {},
   "outputs": [],
   "source": [
    "merged_df['DME_Total_Searches']"
   ]
  },
  {
   "cell_type": "code",
   "execution_count": null,
   "metadata": {},
   "outputs": [],
   "source": [
    "merged_df['DME_Total_PII_Removed']"
   ]
  },
  {
   "cell_type": "markdown",
   "metadata": {},
   "source": [
    "### Update PII Services Dataframe with values from join table"
   ]
  },
  {
   "cell_type": "code",
   "execution_count": null,
   "metadata": {},
   "outputs": [],
   "source": [
    "merged_df['DME_Total_Listing_Reviewed'] = merged_df.apply(lambda row: row['Total_Listings_Reviewed'] if row['Total_Listings_Reviewed'] else row['DME_Total_Listing_Reviewed'], axis=1)\n",
    "merged_df['DME_Total_Listing_Removed'] = merged_df.apply(lambda row: row['Total_Listings_Removed'] if row['Total_Listings_Removed'] else row['DME_Total_Listing_Removed'], axis=1)\n",
    "merged_df['DME_Total_Searches'] = merged_df.apply(lambda row: row['Total_Searches'] if row['Total_Searches'] else row['DME_Total_Searches'], axis=1)\n",
    "merged_df['DME_Total_PII_Removed'] = merged_df.apply(lambda row: row['Total_PII_Removed'] if row['Total_PII_Removed'] else row['DME_Total_Listing_Reviewed'], axis=1)\n",
    "merged_df"
   ]
  },
  {
   "cell_type": "code",
   "execution_count": null,
   "metadata": {},
   "outputs": [],
   "source": [
    "merged_df['DME_Total_Listing_Reviewed']"
   ]
  },
  {
   "cell_type": "code",
   "execution_count": null,
   "metadata": {},
   "outputs": [],
   "source": [
    "merged_df['DME_Total_Listing_Removed']"
   ]
  },
  {
   "cell_type": "code",
   "execution_count": null,
   "metadata": {},
   "outputs": [],
   "source": [
    "merged_df['DME_Total_Searches']"
   ]
  },
  {
   "cell_type": "code",
   "execution_count": null,
   "metadata": {},
   "outputs": [],
   "source": [
    "merged_df['DME_Total_PII_Removed']"
   ]
  },
  {
   "cell_type": "markdown",
   "metadata": {},
   "source": [
    "### Create updates Dataframe with only the columns that need to be updated"
   ]
  },
  {
   "cell_type": "code",
   "execution_count": null,
   "metadata": {},
   "outputs": [],
   "source": [
    "updates_df = merged_df[['ObjectId', 'DME_Email_Address', 'DME_Total_Listing_Reviewed', 'DME_Total_Listing_Removed', 'DME_Total_Searches', 'DME_Total_PII_Removed']].copy()\n",
    "updates_df"
   ]
  },
  {
   "cell_type": "markdown",
   "metadata": {},
   "source": [
    "### Update the PII Services Hosted Table Layer"
   ]
  },
  {
   "cell_type": "code",
   "execution_count": null,
   "metadata": {},
   "outputs": [],
   "source": [
    "def batch_edits(feature_list, batch_size):\n",
    "\n",
    "    for i in range(0, len(feature_list), batch_size):\n",
    "        yield feature_list[i:i + batch_size]\n",
    "\n",
    "def append_service(gis, input_sdf, input_service_itemid, input_service_layerid):\n",
    "\n",
    "    input_layer_fs = input_sdf.spatial.to_featureset()\n",
    "\n",
    "    # Chunk edits into lists\n",
    "    batch_size = 25\n",
    "    update_sets = list(batch_edits(input_layer_fs.features, batch_size))\n",
    "\n",
    "    # Get Hosted Table Layer Service to Update\n",
    "    input_service = gis.content.get(input_service_itemid).tables[input_service_layerid]\n",
    "    \n",
    "    print(input_service)\n",
    "\n",
    "    # Append Feature Service\n",
    "    for edits in update_sets:\n",
    "        res = input_service.edit_features(updates=edits, rollback_on_failure=False)['updateResults']\n",
    "        for obj in res:\n",
    "            if(obj['success']):\n",
    "                print(\"Successfully updated ObjectId: \" + str(obj['objectId']))\n",
    "            else:\n",
    "                print(\"ObjectId \" + str(obj['objectId']) + \" not updated!\" )"
   ]
  },
  {
   "cell_type": "code",
   "execution_count": null,
   "metadata": {},
   "outputs": [],
   "source": [
    "# update the PII Services Hosted table using the updated_df\n",
    "if not updates_df.empty:\n",
    "    print(\"Dataframe is not empty.\")\n",
    "    append_service(gis, updates_df, \"e3226cdd7d5c4cd794f205b472d012d7\", 0) # update the itemid and the hosted table index (0 - in my example to the left)\n",
    "    print(\"Updated Records successfully!\")\n",
    "else:\n",
    "    print(\"Failed to update records in PII Services Hosted Table.\")"
   ]
  },
  {
   "cell_type": "markdown",
   "metadata": {},
   "source": [
    "----------------------------------------------------"
   ]
  }
 ],
 "metadata": {
  "esriNotebookRuntime": {
   "notebookRuntimeName": "ArcGIS Notebook Python 3 Standard",
   "notebookRuntimeVersion": "9.0"
  },
  "kernelspec": {
   "display_name": "Python 3 (ipykernel)",
   "language": "python",
   "name": "python3"
  },
  "language_info": {
   "codemirror_mode": {
    "name": "ipython",
    "version": 3
   },
   "file_extension": ".py",
   "mimetype": "text/x-python",
   "name": "python",
   "nbconvert_exporter": "python",
   "pygments_lexer": "ipython3",
   "version": "3.9.18"
  }
 },
 "nbformat": 4,
 "nbformat_minor": 2
}
