{
 "cells": [
  {
   "cell_type": "code",
   "execution_count": 1,
   "metadata": {},
   "outputs": [],
   "source": [
    "from arcgis.gis import GIS\n",
    "from arcgis.mapping import WebMap\n",
    "gis = GIS('https://www.jdart.uscourts.gov/arcgis', \"ao_admin\")\n",
    "import csv\n",
    "from datetime import datetime\n",
    "now = datetime.now()\n",
    "dt_string = now.strftime(\"%Y%m%d_%H%M%S\")"
   ]
  },
  {
   "cell_type": "code",
   "execution_count": 2,
   "metadata": {},
   "outputs": [
    {
     "data": {
      "text/plain": [
       "'ao_admin'"
      ]
     },
     "execution_count": 2,
     "metadata": {},
     "output_type": "execute_result"
    }
   ],
   "source": [
    "userid = \"ao_admin\"\n",
    "userid"
   ]
  },
  {
   "cell_type": "code",
   "execution_count": 3,
   "metadata": {},
   "outputs": [
    {
     "data": {
      "text/plain": [
       "[<Item title:\"Active and Imminent Incidents\" type:Feature Layer Collection owner:ao_admin>,\n",
       " <Item title:\"Administrative Office (AO) Application Gallery\" type:Web Experience owner:ao_admin>,\n",
       " <Item title:\"Administrative Office (Thurgood Marshall Federal Judiciary) Building\" type:Mobile Map Package owner:ao_admin>,\n",
       " <Item title:\"AKX - Public View - Survey Reporting - Web Map\" type:Web Map owner:ao_admin>,\n",
       " <Item title:\"AKX - Survey Review App - Web Map\" type:Web Map owner:ao_admin>,\n",
       " <Item title:\"AKX Application Gallery\" type:Web Experience owner:ao_admin>,\n",
       " <Item title:\"AKX Courts Employee Safety Reporting CUE View\" type:Feature Layer Collection owner:ao_admin>,\n",
       " <Item title:\"AKX Courts Employee Safety Reporting Public View\" type:Feature Layer Collection owner:ao_admin>,\n",
       " <Item title:\"AKX Courts Facility Reporting CUE View\" type:Feature Layer Collection owner:ao_admin>,\n",
       " <Item title:\"AKX Courts Facility Reporting Public View\" type:Feature Layer Collection owner:ao_admin>,\n",
       " <Item title:\"AKX Courts Incident Reporting CUE View\" type:Feature Layer Collection owner:ao_admin>,\n",
       " <Item title:\"AKX Courts Incident Reporting Public View\" type:Feature Layer Collection owner:ao_admin>,\n",
       " <Item title:\"AKX JDART Dashboard - Combined Dashboards\" type:Dashboard owner:ao_admin>,\n",
       " <Item title:\"AKX Reporting Viewer\" type:Code Attachment owner:ao_admin>,\n",
       " <Item title:\"AKX Reporting Viewer\" type:Web Mapping Application owner:ao_admin>,\n",
       " <Item title:\"AKX Survey Review App\" type:Web Mapping Application owner:ao_admin>,\n",
       " <Item title:\"ALM - Public View - Survey Reporting - Web Map\" type:Web Map owner:ao_admin>,\n",
       " <Item title:\"ALM - Survey Review App\" type:Web Mapping Application owner:ao_admin>,\n",
       " <Item title:\"ALM - Survey Review App - Web Map\" type:Web Map owner:ao_admin>,\n",
       " <Item title:\"ALM Application Gallery\" type:Web Experience owner:ao_admin>,\n",
       " <Item title:\"ALM Courts Employee Safety Reporting CUE View\" type:Feature Layer Collection owner:ao_admin>,\n",
       " <Item title:\"ALM Courts Employee Safety Reporting Public View\" type:Feature Layer Collection owner:ao_admin>,\n",
       " <Item title:\"ALM Courts Facility Reporting CUE Viewer\" type:Feature Layer Collection owner:ao_admin>,\n",
       " <Item title:\"ALM Courts Facility Reporting Public View\" type:Feature Layer Collection owner:ao_admin>,\n",
       " <Item title:\"ALM Courts Incident Reporting CUE View\" type:Feature Layer Collection owner:ao_admin>,\n",
       " <Item title:\"ALM Courts Incident Reporting Public View\" type:Feature Layer Collection owner:ao_admin>,\n",
       " <Item title:\"ALM JDART Dashboard - Combined Dashboard\" type:Dashboard owner:ao_admin>,\n",
       " <Item title:\"ALM Reporting Viewer\" type:Code Attachment owner:ao_admin>,\n",
       " <Item title:\"ALM Reporting Viewer\" type:Web Mapping Application owner:ao_admin>,\n",
       " <Item title:\"ALM TEST\" type:Web Mapping Application owner:ao_admin>,\n",
       " <Item title:\"ALN - Public View - Survey Reporting - Web Map\" type:Web Map owner:ao_admin>,\n",
       " <Item title:\"ALN - Survey Review App\" type:Web Mapping Application owner:ao_admin>,\n",
       " <Item title:\"ALN - Survey Review App - Web Map\" type:Web Map owner:ao_admin>,\n",
       " <Item title:\"ALN Application Gallery\" type:Web Experience owner:ao_admin>,\n",
       " <Item title:\"ALN Courts Employee Safety Reporting CUE View\" type:Feature Layer Collection owner:ao_admin>,\n",
       " <Item title:\"ALN Courts Employee Safety Reporting Public View\" type:Feature Layer Collection owner:ao_admin>,\n",
       " <Item title:\"ALN Courts Facility Reporting CUE View\" type:Feature Layer Collection owner:ao_admin>,\n",
       " <Item title:\"ALN Courts Facility Reporting Public View\" type:Feature Layer Collection owner:ao_admin>,\n",
       " <Item title:\"ALN Courts Incident Reporting CUE View\" type:Feature Layer Collection owner:ao_admin>,\n",
       " <Item title:\"ALN Courts Incident Reporting Public View\" type:Feature Layer Collection owner:ao_admin>,\n",
       " <Item title:\"ALN Dashboard - Combined Dashboard\" type:Dashboard owner:ao_admin>,\n",
       " <Item title:\"ALN Reporting Viewer\" type:Code Attachment owner:ao_admin>,\n",
       " <Item title:\"ALN Reporting Viewer\" type:Web Mapping Application owner:ao_admin>,\n",
       " <Item title:\"ALS - Public View - Survey Reporting - Web Map\" type:Web Map owner:ao_admin>,\n",
       " <Item title:\"ALS - Survey Review App\" type:Web Mapping Application owner:ao_admin>,\n",
       " <Item title:\"ALS - Survey Review App - Web Map\" type:Web Map owner:ao_admin>,\n",
       " <Item title:\"ALS Courts Employee Safety Reporting CUE View\" type:Feature Layer Collection owner:ao_admin>,\n",
       " <Item title:\"ALS Courts Employee Safety Reporting Public View\" type:Feature Layer Collection owner:ao_admin>,\n",
       " <Item title:\"ALS Courts Facility Reporting CUE View\" type:Feature Layer Collection owner:ao_admin>,\n",
       " <Item title:\"ALS Courts Facility Reporting Public View\" type:Feature Layer Collection owner:ao_admin>,\n",
       " <Item title:\"ALS Courts Incident Reporting CUE View\" type:Feature Layer Collection owner:ao_admin>,\n",
       " <Item title:\"ALS Courts Incident Reporting Public View\" type:Feature Layer Collection owner:ao_admin>,\n",
       " <Item title:\"ALS Dashboard - Combined Dashboard\" type:Dashboard owner:ao_admin>,\n",
       " <Item title:\"ALS Reporting Viewer\" type:Code Attachment owner:ao_admin>,\n",
       " <Item title:\"ALS Reporting Viewer\" type:Web Mapping Application owner:ao_admin>,\n",
       " <Item title:\"Analyst Incident Dashboard\" type:Dashboard owner:ao_admin>,\n",
       " <Item title:\"Analyst Resources Dashboard\" type:Dashboard owner:ao_admin>,\n",
       " <Item title:\"AO Courts Employee Safety Reporting CUE View\" type:Feature Layer Collection owner:ao_admin>,\n",
       " <Item title:\"AO Courts Employee Safety Reporting Public View\" type:Feature Layer Collection owner:ao_admin>,\n",
       " <Item title:\"AO Courts Facility Reporting CUE View\" type:Feature Layer Collection owner:ao_admin>,\n",
       " <Item title:\"AO Courts Facility Reporting Public View\" type:Feature Layer Collection owner:ao_admin>,\n",
       " <Item title:\"AO Courts Incident Reporting CUE View\" type:Feature Layer Collection owner:ao_admin>,\n",
       " <Item title:\"AO Courts Incident Reporting Public View\" type:Feature Layer Collection owner:ao_admin>,\n",
       " <Item title:\"AO Courts Reporting Views - Public View - Web Map\" type:Web Map owner:ao_admin>,\n",
       " <Item title:\"AO JDART - Alert Status Web Map\" type:Web Map owner:ao_admin>,\n",
       " <Item title:\"AO JDART - Earthquakes Alert Status Web Map\" type:Web Map owner:ao_admin>,\n",
       " <Item title:\"AO JDART - Power Outage Web Map\" type:Web Map owner:ao_admin>,\n",
       " <Item title:\"AO JDART - Severe Weather Alert Status Web Map\" type:Web Map owner:ao_admin>,\n",
       " <Item title:\"AO JDART - Tropical Storm Alert Status Web Map\" type:Web Map owner:ao_admin>,\n",
       " <Item title:\"AO JDART - Wildfires  Alert Status Web Map\" type:Web Map owner:ao_admin>,\n",
       " <Item title:\"AO JDART Dashboard - Combined Dashboards\" type:Dashboard owner:ao_admin>,\n",
       " <Item title:\"AO Judiciary Security Division - JDART - Power Outage\" type:Dashboard owner:ao_admin>,\n",
       " <Item title:\"AO Offices - Counties\" type:Feature Layer Collection owner:ao_admin>,\n",
       " <Item title:\"AO Offices - Location Boundaries\" type:Feature Layer Collection owner:ao_admin>,\n",
       " <Item title:\"AO Public View - Survey Reporting - Web Map\" type:Web Map owner:ao_admin>,\n",
       " <Item title:\"AO Reporting Viewer\" type:Code Attachment owner:ao_admin>,\n",
       " <Item title:\"AO Reporting Viewer\" type:Web Mapping Application owner:ao_admin>,\n",
       " <Item title:\"AO Survey Review App\" type:Web Mapping Application owner:ao_admin>,\n",
       " <Item title:\"AO Survey Review App - Web Map\" type:Web Map owner:ao_admin>,\n",
       " <Item title:\"Applications\" type:Image owner:ao_admin>,\n",
       " <Item title:\"Archived Threats\" type:File Geodatabase owner:ao_admin>,\n",
       " <Item title:\"Blue Sky Application\" type:Web Experience owner:ao_admin>,\n",
       " <Item title:\"Blue Sky Incident Feed\" type:Dashboard owner:ao_admin>,\n",
       " <Item title:\"Blue Sky Map\" type:Web Map owner:ao_admin>,\n",
       " <Item title:\"Boundary Map\" type:Web Map owner:ao_admin>,\n",
       " <Item title:\"Buffer_of_World_Nuclear_Power_Plant\" type:Feature Layer Collection owner:ao_admin>,\n",
       " <Item title:\"Buffer_of_World_Nuclear_Power_Plant\" type:Service Definition owner:ao_admin>,\n",
       " <Item title:\"CAC - Public View - Survey Reporting - Web Map\" type:Web Map owner:ao_admin>,\n",
       " <Item title:\"CAC - Survey Review App\" type:Web Mapping Application owner:ao_admin>,\n",
       " <Item title:\"CAC - Survey Review App - Web Map\" type:Web Map owner:ao_admin>,\n",
       " <Item title:\"CAC Courts Employee Safety Reporting CUE View\" type:Feature Layer Collection owner:ao_admin>,\n",
       " <Item title:\"CAC Courts Employee Safety Reporting Public View\" type:Feature Layer Collection owner:ao_admin>,\n",
       " <Item title:\"CAC Courts Facility Reporting CUE View\" type:Feature Layer Collection owner:ao_admin>,\n",
       " <Item title:\"CAC Courts Facility Reporting Public View1\" type:Feature Layer Collection owner:ao_admin>,\n",
       " <Item title:\"CAC Courts Incident Reporting CUE View\" type:Feature Layer Collection owner:ao_admin>,\n",
       " <Item title:\"CAC Courts Incident Reporting Public View\" type:Feature Layer Collection owner:ao_admin>,\n",
       " <Item title:\"CAC JDART Dashboard - Combined Dashboard\" type:Dashboard owner:ao_admin>,\n",
       " <Item title:\"CAC Reporting Viewer\" type:Code Attachment owner:ao_admin>,\n",
       " <Item title:\"CAC Reporting Viewer\" type:Web Mapping Application owner:ao_admin>,\n",
       " <Item title:\"CAC_Courts_Facility_Reporting_Public_View\" type:Feature Layer Collection owner:ao_admin>]"
      ]
     },
     "execution_count": 3,
     "metadata": {},
     "output_type": "execute_result"
    }
   ],
   "source": [
    "rootcontent = gis.content.advanced_search(query='owner:AO_ADMIN')\n",
    "resutls = rootcontent[\"results\"]\n",
    "resutls"
   ]
  },
  {
   "cell_type": "code",
   "execution_count": 4,
   "metadata": {},
   "outputs": [],
   "source": [
    "with open(r'C:/Users/bob10704/Desktop/Projects/1.Active Projects/US Courts/CSV_Transfer.csv'.format(dt_string), 'w') as output:\n",
    "    dataWriter = csv.writer(output, delimiter=',', quotechar='\"', quoting=csv.QUOTE_MINIMAL, lineterminator='\\n')\n",
    "    dataWriter.writerow(['Title',\n",
    "                         'Item ID',\n",
    "                         'Item Type',\n",
    "                         'Item Dep To',\n",
    "                         'Item Dep Upon'])\n",
    "    for item in resutls:\n",
    "        # itemd = item.dependent_to()\n",
    "        # for i in itemd:\n",
    "        #     print(i)\n",
    "        # dependent_to = item.dependent_to()[\"list\"]\n",
    "        # print(i[\"id\"])\n",
    "        dataWriter.writerow([\n",
    "            item.title,\n",
    "            item.id,\n",
    "            item.type,\n",
    "            item.dependent_to(),\n",
    "            item.dependent_upon()['list']\n",
    "            ])"
   ]
  },
  {
   "cell_type": "code",
   "execution_count": null,
   "metadata": {},
   "outputs": [],
   "source": []
  }
 ],
 "metadata": {
  "kernelspec": {
   "display_name": "Python 3",
   "language": "python",
   "name": "python3"
  },
  "language_info": {
   "codemirror_mode": {
    "name": "ipython",
    "version": 3
   },
   "file_extension": ".py",
   "mimetype": "text/x-python",
   "name": "python",
   "nbconvert_exporter": "python",
   "pygments_lexer": "ipython3",
   "version": "3.9.18"
  },
  "vscode": {
   "interpreter": {
    "hash": "ce21b655b4d6c9e397d5ad93d5666c623f49909f6d0cc2f72076dafcf1b3ecfb"
   }
  }
 },
 "nbformat": 4,
 "nbformat_minor": 2
}
