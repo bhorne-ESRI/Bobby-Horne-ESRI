{
 "cells": [
  {
   "cell_type": "markdown",
   "metadata": {},
   "source": [
    "## Welcome to your notebook.\n"
   ]
  },
  {
   "cell_type": "markdown",
   "metadata": {},
   "source": [
    "#### Run this cell to connect to your GIS and get started:"
   ]
  },
  {
   "cell_type": "code",
   "execution_count": 2,
   "metadata": {},
   "outputs": [
    {
     "data": {
      "text/html": [
       "GIS @ <a href=\"https://geospatial-stg.hhs.gov/arcgis/\">https://geospatial-stg.hhs.gov/arcgis/</a>"
      ],
      "text/plain": [
       "GIS @ https://geospatial-stg.hhs.gov/arcgis/ version:10.3"
      ]
     },
     "execution_count": 2,
     "metadata": {},
     "output_type": "execute_result"
    }
   ],
   "source": [
    "from arcgis.gis import GIS\n",
    "gis = GIS(\"home\")\n",
    "gis"
   ]
  },
  {
   "cell_type": "markdown",
   "metadata": {},
   "source": [
    "#### Now you are ready to start!"
   ]
  },
  {
   "cell_type": "code",
   "execution_count": null,
   "metadata": {},
   "outputs": [],
   "source": [
    "# add Hosted Table Layer to Notebook\n",
    "item = gis.content.get(\"dfd2942a881c48e8aa9e08103b39ae9b\") # update the itemid to match your Hosted table layer\n",
    "item"
   ]
  },
  {
   "cell_type": "code",
   "execution_count": null,
   "metadata": {},
   "outputs": [],
   "source": [
    "# update this path to point to the dataset you uploaded to the Files tab\n",
    "# ex. dataset = '/arcgis/home/rts/MO_PublicSchools.csv'\n",
    "\n",
    "dataset = '/arcgis/home/path/to/MO_PublicSchools.csv'"
   ]
  },
  {
   "cell_type": "code",
   "execution_count": null,
   "metadata": {},
   "outputs": [],
   "source": [
    "# update the dataset with the new data\n",
    "item.update(data=dataset)"
   ]
  },
  {
   "cell_type": "code",
   "execution_count": null,
   "metadata": {},
   "outputs": [],
   "source": [
    "# this allows me to access the manager helper object to overwrite my currently existing hosted table (outTable)\n",
    "from arcgis.features import FeatureLayerCollection\n",
    "outTable_collection = FeatureLayerCollection.fromitem(item)"
   ]
  },
  {
   "cell_type": "code",
   "execution_count": null,
   "metadata": {},
   "outputs": [],
   "source": [
    "# print the Feature Layer Collection object for troubleshooting purposes\n",
    "# outTable_collection"
   ]
  },
  {
   "cell_type": "code",
   "execution_count": null,
   "metadata": {},
   "outputs": [],
   "source": [
    "# This uses the manager helper object to overwrite my existing hosted table with the new CSV (outTable)\n",
    "outTable_collection.manager.overwrite(data_file=dataset)"
   ]
  },
  {
   "cell_type": "code",
   "execution_count": null,
   "metadata": {},
   "outputs": [],
   "source": [
    "# todo items\n",
    "# remove csv from files tab when the script finishes\n",
    "# clean any datasets"
   ]
  }
 ],
 "metadata": {
  "esriNotebookRuntime": {
   "notebookRuntimeName": "ArcGIS Notebook Python 3 Standard",
   "notebookRuntimeVersion": "9.0"
  },
  "kernelspec": {
   "display_name": "Python 3 (ipykernel)",
   "language": "python",
   "name": "python3"
  },
  "language_info": {
   "codemirror_mode": {
    "name": "ipython",
    "version": 3
   },
   "file_extension": ".py",
   "mimetype": "text/x-python",
   "name": "python",
   "nbconvert_exporter": "python",
   "pygments_lexer": "ipython3",
   "version": "3.9.18"
  }
 },
 "nbformat": 4,
 "nbformat_minor": 2
}
