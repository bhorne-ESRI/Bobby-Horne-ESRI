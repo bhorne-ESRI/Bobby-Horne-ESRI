{
 "cells": [
  {
   "cell_type": "code",
   "execution_count": 45,
   "metadata": {},
   "outputs": [],
   "source": [
    "from arcgis.gis import GIS\n",
    "gis = GIS(\"HOME\")\n",
    "base_wm = gis.content.get('bc92dc7d89e5424198fa138a0dabdbc1')"
   ]
  },
  {
   "cell_type": "code",
   "execution_count": 46,
   "metadata": {},
   "outputs": [
    {
     "name": "stdout",
     "output_type": "stream",
     "text": [
      "{'Big Bend': 'BBT', 'Blaine': 'BLW', 'Buffalo': 'BUN', 'Del Rio': 'DRT', 'Detroit': 'DTM', 'El Centro': 'ELC', 'El Paso': 'EPT', 'Grand Forks': 'GFN', 'Havre': 'HVM', 'Houlton': 'HLT', 'Laredo': 'LRT', 'Miami': 'MIP', 'New Orleans': 'NLL', 'Ramey': 'RMY', 'Rio Grande Valley': 'RGV', 'San Diego': 'SDC', 'Spokane': 'SPW', 'Swanton': 'SWB', 'Tucson': 'TCA', 'Yuma': 'YUM'}\n",
      "{'Big Bend': 'Operation Waypoint 2.0-Big Bend', 'Blaine': 'Operation Waypoint 2.0-Blaine', 'Buffalo': 'Operation Waypoint 2.0-Buffalo', 'Del Rio': 'Operation Waypoint 2.0-Del Rio', 'Detroit': 'Operation Waypoint 2.0-Detroit', 'El Centro': 'Operation Waypoint 2.0-El Centro', 'El Paso': 'Operation Waypoint 2.0-El Paso', 'Grand Forks': 'Operation Waypoint 2.0-Grand Forks', 'Havre': 'Operation Waypoint 2.0-Havre', 'Houlton': 'Operation Waypoint 2.0-Houlton', 'Laredo': 'Operation Waypoint 2.0-Laredo', 'Miami': 'Operation Waypoint 2.0-Miami', 'New Orleans': 'Operation Waypoint 2.0-New Orleans', 'Ramey': 'Operation Waypoint 2.0-Ramey', 'Rio Grande Valley': 'Operation Waypoint 2.0-Rio Grande Valley', 'San Diego': 'Operation Waypoint 2.0-San Diego', 'Spokane': 'Operation Waypoint 2.0-Spokane', 'Swanton': 'Operation Waypoint 2.0-Swanton', 'Tucson': 'Operation Waypoint 2.0-Tucson', 'Yuma': 'Operation Waypoint 2.0-Yuma'}\n"
     ]
    }
   ],
   "source": [
    "sectors = ['Big Bend', 'Blaine', 'Buffalo', 'Del Rio', 'Detroit', 'El Centro', 'El Paso', 'Grand Forks', 'Havre', 'Houlton', 'Laredo', 'Miami', 'New Orleans', 'Ramey', 'Rio Grande Valley', 'San Diego', 'Spokane', 'Swanton', 'Tucson', 'Yuma']\n",
    "codes = ['BBT', 'BLW', 'BUN', 'DRT', 'DTM', 'ELC', 'EPT', 'GFN', 'HVM', 'HLT', 'LRT', 'MIP', 'NLL', 'RMY', 'RGV', 'SDC', 'SPW', 'SWB', 'TCA', 'YUM']\n",
    "groups = [\"Operation Waypoint 2.0-Big Bend\", \"Operation Waypoint 2.0-Blaine\", \"Operation Waypoint 2.0-Buffalo\", \"Operation Waypoint 2.0-Del Rio\", \"Operation Waypoint 2.0-Detroit\", \"Operation Waypoint 2.0-El Centro\", \"Operation Waypoint 2.0-El Paso\", \"Operation Waypoint 2.0-Grand Forks\", \"Operation Waypoint 2.0-Havre\", \"Operation Waypoint 2.0-Houlton\", \"Operation Waypoint 2.0-Laredo\", \"Operation Waypoint 2.0-Miami\", \"Operation Waypoint 2.0-New Orleans\", \"Operation Waypoint 2.0-Ramey\", \"Operation Waypoint 2.0-Rio Grande Valley\", \"Operation Waypoint 2.0-San Diego\", \"Operation Waypoint 2.0-Spokane\", \"Operation Waypoint 2.0-Swanton\", \"Operation Waypoint 2.0-Tucson\", \"Operation Waypoint 2.0-Yuma\"]\n",
    "dictionary = dict(zip(sectors, codes))\n",
    "dictionary2 = dict(zip(sectors, groups))\n",
    "print(dictionary)\n",
    "print(dictionary2)"
   ]
  },
  {
   "cell_type": "code",
   "execution_count": 47,
   "metadata": {},
   "outputs": [],
   "source": [
    "from arcgis.mapping import WebMap\n",
    "wm = WebMap(base_wm)"
   ]
  },
  {
   "cell_type": "code",
   "execution_count": null,
   "metadata": {},
   "outputs": [],
   "source": [
    "for sector in sectors:\n",
    "    webmap_item_properties = {'title':'Reference Field Collection - ' + sector + ' Sector', 'snippet':'Field Collection map for OpWaypoint 2.0 field data collection.', 'tags':[sector]}\n",
    "    new_wm_item = wm.save(webmap_item_properties)\n",
    "    group_search = f'title:{dictionary2[sector]}'\n",
    "    map_group = gis.groups.search(group_search, max_groups=10)\n",
    "    new_wm_item.share(groups=map_group)\n",
    "    print(map_group)\n",
    "    print(new_wm_item.id)\n",
    "    print(new_wm_item.title)\n",
    "    wm_new = WebMap(new_wm_item)\n",
    "    for layer in wm_new.layers:\n",
    "        print(layer.title)\n",
    "        if layer.layerType == \"ArcGISFeatureLayer\":\n",
    "            new_def_query = f\"COLL_SEC = '{dictionary[sector]}' AND LEGACY = 'NO' AND COORDINATOR = 'NO'\"\n",
    "            layer.layerDefinition.definitionExpression = new_def_query\n",
    "            wm_new.update()\n",
    "            print(layer.layerDefinition.definitionExpression)"
   ]
  },
  {
   "cell_type": "code",
   "execution_count": null,
   "metadata": {},
   "outputs": [],
   "source": []
  }
 ],
 "metadata": {
  "kernelspec": {
   "display_name": "Python 3",
   "language": "python",
   "name": "python3"
  },
  "language_info": {
   "file_extension": ".py",
   "name": "python",
   "version": "3.9.11"
  },
  "vscode": {
   "interpreter": {
    "hash": "ce21b655b4d6c9e397d5ad93d5666c623f49909f6d0cc2f72076dafcf1b3ecfb"
   }
  }
 },
 "nbformat": 4,
 "nbformat_minor": 2
}
