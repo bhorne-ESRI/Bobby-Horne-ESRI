{
 "cells": [
  {
   "cell_type": "code",
   "execution_count": 76,
   "metadata": {},
   "outputs": [],
   "source": [
    "from arcgis.gis import GIS\n",
    "from arcgis.mapping import WebMap\n",
    "gis = GIS('HOME')\n",
    "import csv\n",
    "from datetime import datetime"
   ]
  },
  {
   "cell_type": "code",
   "execution_count": 77,
   "metadata": {},
   "outputs": [
    {
     "data": {
      "text/html": [
       "<div class=\"9item_container\" style=\"height: auto; overflow: hidden; border: 1px solid #cfcfcf; border-radius: 2px; background: #f6fafa; line-height: 1.21429em; padding: 10px;\">\n",
       "                    <div class=\"item_left\" style=\"width: 210px; float: left;\">\n",
       "                       <a href='https://bhorne1.esri.com/portal//home/group.html?id=06ff667617db4f57b9448e1e85173fc0' target='_blank'>\n",
       "                        <img src='https://bhorne1.esri.com/portal//home/images/group-no-image.png' class=\"itemThumbnail\">\n",
       "                       </a>\n",
       "                    </div>\n",
       "\n",
       "                    <div class=\"item_right\" style=\"float: none; width: auto; overflow: hidden;\">\n",
       "                        <a href='https://bhorne1.esri.com/portal//home/group.html?id=06ff667617db4f57b9448e1e85173fc0' target='_blank'><b>Field Map Testing</b>\n",
       "                        </a>\n",
       "                        <br/>\n",
       "                        <br/><b>Summary</b>: None\n",
       "                        <br/><b>Description</b>: None\n",
       "                        <br/><b>Owner</b>: bhorne\n",
       "                        <br/><b>Created</b>: December 01, 2021\n",
       "\n",
       "                    </div>\n",
       "                </div>\n",
       "                "
      ],
      "text/plain": [
       "<Group title:\"Field Map Testing\" owner:bhorne>"
      ]
     },
     "execution_count": 77,
     "metadata": {},
     "output_type": "execute_result"
    }
   ],
   "source": [
    "TI_Field_Maps = gis.groups.search('Field Map Testing')\n",
    "TI_Field_Maps[0]\n"
   ]
  },
  {
   "cell_type": "code",
   "execution_count": 86,
   "metadata": {
    "collapsed": true
   },
   "outputs": [
    {
     "data": {
      "text/plain": [
       "[<Item title:\"DefQueryTesting\" type:Web Map owner:bhorne>, <Item title:\"DefQueryTesting - Missouri Sector\" type:Web Map owner:bhorne>, <Item title:\"GeometryTesting\" type:Feature Layer Collection owner:bhorne>, <Item title:\"GeometryTesting_map2\" type:Feature Layer Collection owner:bhorne>, <Item title:\"GeometryTesting_Take3\" type:Feature Layer Collection owner:bhorne>, <Item title:\"OfflineLayerTest\" type:Feature Layer Collection owner:bhorne>, <Item title:\"OfflineLayerTest\" type:Map Image Layer owner:bhorne>, <Item title:\"RelationshipTest\" type:Feature Layer Collection owner:bhorne>, <Item title:\"Tactical Infrastructure Field Collection_MIL1\" type:Feature Layer Collection owner:bhorne>, <Item title:\"TI Field Collection - Big Bend Sector\" type:Web Map owner:bhorne>, <Item title:\"TI Field Collection - Blaine Sector\" type:Web Map owner:bhorne>, <Item title:\"TI Field Collection - Buffalo Sector\" type:Web Map owner:bhorne>, <Item title:\"TI Field Collection - Del Rio Sector\" type:Web Map owner:bhorne>, <Item title:\"TI Field Collection - Detroit Sector\" type:Web Map owner:bhorne>, <Item title:\"TI Field Collection - El Centro Sector\" type:Web Map owner:bhorne>, <Item title:\"TI Field Collection - El Paso Sector\" type:Web Map owner:bhorne>, <Item title:\"TI Field Collection - Grand Forks Sector\" type:Web Map owner:bhorne>, <Item title:\"TI Field Collection - Havre Sector\" type:Web Map owner:bhorne>, <Item title:\"TI Field Collection - Houlton Sector\" type:Web Map owner:bhorne>, <Item title:\"TI Field Collection - Laredo Sector\" type:Web Map owner:bhorne>, <Item title:\"TI Field Collection - Miami Sector\" type:Web Map owner:bhorne>, <Item title:\"TI Field Collection - New Orleans Sector\" type:Web Map owner:bhorne>, <Item title:\"TI Field Collection - Ramey Sector\" type:Web Map owner:bhorne>, <Item title:\"TI Field Collection - Rio Grande Valley Sector\" type:Web Map owner:bhorne>, <Item title:\"TI Field Collection - San Diego Sector\" type:Web Map owner:bhorne>, <Item title:\"TI Field Collection - Spokane Sector\" type:Web Map owner:bhorne>, <Item title:\"TI Field Collection - Swanton Sector\" type:Web Map owner:bhorne>, <Item title:\"TI Field Collection - Tucson Sector\" type:Web Map owner:bhorne>, <Item title:\"TI Field Collection - Yuma Sector\" type:Web Map owner:bhorne>]"
      ]
     },
     "execution_count": 86,
     "metadata": {},
     "output_type": "execute_result"
    }
   ],
   "source": [
    "fieldmaps = TI_Field_Maps[0].content()\n",
    "fieldmaps"
   ]
  },
  {
   "cell_type": "code",
   "execution_count": 87,
   "metadata": {},
   "outputs": [],
   "source": [
    "now = datetime.now()\n",
    "dt_string = now.strftime(\"%Y%m%d_%H%M%S\")"
   ]
  },
  {
   "cell_type": "code",
   "execution_count": 92,
   "metadata": {},
   "outputs": [],
   "source": [
    "with open('C:/Users/bob10704/Desktop/CBP EGIS/CSV_Transfer.xlsx'.format(dt_string), 'w') as output:\n",
    "    dataWriter = csv.writer(output, delimiter=',', quotechar='\"', quoting=csv.QUOTE_MINIMAL, lineterminator='\\n')\n",
    "    dataWriter.writerow(['Title',\n",
    "                         'Item ID'])\n",
    "    for item in fieldmaps:\n",
    "        if item.title.startswith(\"TI\"):\n",
    "            dataWriter.writerow([\n",
    "                item.title,\n",
    "                item.id\n",
    "            ])"
   ]
  },
  {
   "cell_type": "code",
   "execution_count": null,
   "metadata": {},
   "outputs": [],
   "source": []
  }
 ],
 "metadata": {
  "kernelspec": {
   "display_name": "ArcGISPro",
   "language": "Python",
   "name": "python3"
  },
  "language_info": {
   "file_extension": ".py",
   "name": "python",
   "version": "3"
  }
 },
 "nbformat": 4,
 "nbformat_minor": 2
}
