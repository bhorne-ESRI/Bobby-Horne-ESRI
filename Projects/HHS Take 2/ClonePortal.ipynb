{
 "cells": [
  {
   "cell_type": "code",
   "execution_count": 1,
   "metadata": {},
   "outputs": [],
   "source": [
    "from arcgis.gis import GIS\n"
   ]
  },
  {
   "cell_type": "code",
   "execution_count": 4,
   "metadata": {},
   "outputs": [],
   "source": [
    "username_1 = \"bobby.horne\"\n",
    "password_1 = \"k#=Q`v6F\"\n",
    "#For Portal for ArcGIS\n",
    "gis2=GIS(r\"https://geospatial.hhs.gov/arcgis/\", username_1, password_1)"
   ]
  },
  {
   "cell_type": "code",
   "execution_count": 5,
   "metadata": {},
   "outputs": [],
   "source": [
    "username_2 = \"Cloud.DataTransfer\"\n",
    "Password_2 = \"GeoHealth2023!\"\n",
    "#For ArcGIS Online\n",
    "gis1 = GIS(r\"https://geohealth.hhs.gov/arcgis\", username_2, Password_2)\n"
   ]
  },
  {
   "cell_type": "code",
   "execution_count": 12,
   "metadata": {},
   "outputs": [],
   "source": [
    "username_3 = \"bhorne_ps_dbs\"\n",
    "password_3 = \"78tHbDv5\"\n",
    "#For Portal for ArcGIS\n",
    "gis3=GIS(r\"https://ps-dbs.maps.arcgis.com\", username_3, password_3)"
   ]
  },
  {
   "cell_type": "code",
   "execution_count": 13,
   "metadata": {},
   "outputs": [],
   "source": [
    "username_4 = \"bhorne_prof_services\"\n",
    "Password_4 = \"78thbdv5\"\n",
    "#For ArcGIS Online\n",
    "gis4 = GIS(r\"https://prof-services.maps.arcgis.com\", username_4, Password_4)"
   ]
  },
  {
   "cell_type": "code",
   "execution_count": 14,
   "metadata": {},
   "outputs": [],
   "source": [
    "#Get a specific item using item id:\n",
    "itemid = '1b48a1475a0945f2b9871a46b654be17'\n",
    "items = gis3.content.search(itemid) \n"
   ]
  },
  {
   "cell_type": "code",
   "execution_count": 15,
   "metadata": {},
   "outputs": [
    {
     "name": "stdout",
     "output_type": "stream",
     "text": [
      "1 items will be cloned. See the list below:\n"
     ]
    },
    {
     "data": {
      "text/plain": [
       "[<Item title:\"testing to test\" type:Hub Page owner:bhorne_PS_DBS>]"
      ]
     },
     "execution_count": 15,
     "metadata": {},
     "output_type": "execute_result"
    }
   ],
   "source": [
    "print(str(len(items)) + \" items will be cloned. See the list below:\") \n",
    "items"
   ]
  },
  {
   "cell_type": "code",
   "execution_count": 16,
   "metadata": {},
   "outputs": [
    {
     "name": "stdout",
     "output_type": "stream",
     "text": [
      "Cloning testing to test\n",
      "Successfully cloned testing to test\n",
      "The function has completed\n"
     ]
    }
   ],
   "source": [
    "def deep_copy_content(input_list):\n",
    "    for item in input_list:\n",
    "        try:\n",
    "            print(\"Cloning \" + item.title)\n",
    "            copy_list = []\n",
    "            copy_list.append(item)\n",
    "            gis4.content.clone_items(copy_list, copy_data=True, search_existing_items=True)\n",
    "            print(\"Successfully cloned \" + item.title)\n",
    "        except Exception as e:\n",
    "            print(e)\n",
    "    print(\"The function has completed\")\n",
    "deep_copy_content(items)"
   ]
  }
 ],
 "metadata": {
  "kernelspec": {
   "display_name": "Python 3",
   "language": "python",
   "name": "python3"
  },
  "language_info": {
   "codemirror_mode": {
    "name": "ipython",
    "version": 3
   },
   "file_extension": ".py",
   "mimetype": "text/x-python",
   "name": "python",
   "nbconvert_exporter": "python",
   "pygments_lexer": "ipython3",
   "version": "3.9.18"
  }
 },
 "nbformat": 4,
 "nbformat_minor": 2
}
