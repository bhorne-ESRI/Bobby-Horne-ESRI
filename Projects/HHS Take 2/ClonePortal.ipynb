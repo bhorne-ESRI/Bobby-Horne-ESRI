{
 "cells": [
  {
   "cell_type": "code",
   "execution_count": 1,
   "metadata": {},
   "outputs": [],
   "source": [
    "from arcgis.gis import GIS\n"
   ]
  },
  {
   "cell_type": "code",
   "execution_count": 5,
   "metadata": {},
   "outputs": [],
   "source": [
    "username_1 = input(\"Enter username of source organization: \")\n",
    "\n",
    "#For Portal for ArcGIS\n",
    "gis1=GIS(r\"https://geospatial.hhs.gov/arcgis/\", username_1)"
   ]
  },
  {
   "cell_type": "code",
   "execution_count": 6,
   "metadata": {},
   "outputs": [],
   "source": [
    "username_2 = input(\"Enter username of source organization: \")\n",
    "\n",
    "#For ArcGIS Online\n",
    "gis2 = GIS(r\"https://arcgis.com\", username_2)\n"
   ]
  },
  {
   "cell_type": "code",
   "execution_count": 7,
   "metadata": {},
   "outputs": [],
   "source": [
    "#Get a specific item using item id:\n",
    "itemid = 'df590201ee3c4049914f2b8396305366'\n",
    "items = gis1.content.search(itemid) \n"
   ]
  },
  {
   "cell_type": "code",
   "execution_count": 8,
   "metadata": {},
   "outputs": [
    {
     "name": "stdout",
     "output_type": "stream",
     "text": [
      "1 items will be cloned. See the list below:\n"
     ]
    },
    {
     "data": {
      "text/plain": [
       "[<Item title:\"Partner Portal Test Site\" type:Site Application owner:Lexi.Mitsuhashi>]"
      ]
     },
     "execution_count": 8,
     "metadata": {},
     "output_type": "execute_result"
    }
   ],
   "source": [
    "print(str(len(items)) + \" items will be cloned. See the list below:\") \n",
    "items"
   ]
  },
  {
   "cell_type": "code",
   "execution_count": 9,
   "metadata": {},
   "outputs": [
    {
     "name": "stdout",
     "output_type": "stream",
     "text": [
      "Cloning Partner Portal Test Site\n",
      "Successfully cloned Partner Portal Test Site\n",
      "The function has completed\n"
     ]
    }
   ],
   "source": [
    "def deep_copy_content(input_list):\n",
    "    for item in input_list:\n",
    "        try:\n",
    "            print(\"Cloning \" + item.title)\n",
    "            copy_list = []\n",
    "            copy_list.append(item)\n",
    "            gis2.content.clone_items(copy_list, copy_data=True, search_existing_items=True)\n",
    "            print(\"Successfully cloned \" + item.title)\n",
    "        except Exception as e:\n",
    "            print(e)\n",
    "    print(\"The function has completed\")\n",
    "deep_copy_content(items)"
   ]
  }
 ],
 "metadata": {
  "kernelspec": {
   "display_name": "Python 3",
   "language": "python",
   "name": "python3"
  },
  "language_info": {
   "codemirror_mode": {
    "name": "ipython",
    "version": 3
   },
   "file_extension": ".py",
   "mimetype": "text/x-python",
   "name": "python",
   "nbconvert_exporter": "python",
   "pygments_lexer": "ipython3",
   "version": "3.9.18"
  }
 },
 "nbformat": 4,
 "nbformat_minor": 2
}
