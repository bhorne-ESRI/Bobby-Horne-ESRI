{
 "cells": [
  {
   "cell_type": "markdown",
   "metadata": {},
   "source": [
    "### Configure your ArcGIS Online or Enterprise cnonnections, and specify a group from your src_gis to be copied."
   ]
  },
  {
   "cell_type": "code",
   "execution_count": 1,
   "metadata": {},
   "outputs": [],
   "source": [
    "import arcgis\n",
    "from arcgis.gis import GIS\n",
    "from arcgis.mapping import WebMap\n",
    "import csv\n",
    "from datetime import datetime\n",
    "csv_file = r'C:/Users/bob10704/Desktop/Projects/1.Active Projects/HHS_HubMigration/hub_itemIDs.csv'"
   ]
  },
  {
   "cell_type": "code",
   "execution_count": 7,
   "metadata": {},
   "outputs": [
    {
     "name": "stdout",
     "output_type": "stream",
     "text": [
      "Successfully logged in as: Cloud.DataTransfer\n",
      "Successfully logged in as: bhorne_PS_DBS\n"
     ]
    }
   ],
   "source": [
    "src_gis_url = 'https://geohealth.hhs.gov/arcgis'     #https://grid3.maps.arcgis.com - can also use 'home' if you are running the notebook from the org you want to use as the src. \n",
    "src_group_id = 'c1feb0feaed244429362d550932278ce'\n",
    "src_gis_username = 'Cloud.DataTransfer' # Your username for the source organization\n",
    "src_gis_password = 'GeoHealth2023!' # provide a password for that user, if None is left, you will be prompted to provide the password.\n",
    "#src_client_id = 'aCa70VOCEMfck6ya' #appID for source org; OAuth\n",
    "\n",
    "target_gis_url = 'https://ps-dbs.maps.arcgis.com'  #https://myneworg.maps.arcgis.coNm\n",
    "target_gis_username = 'bhorne_PS_DBS' # Username for Target Org\n",
    "target_gis_password = '78tHbDv5' # Password for Target Org\n",
    "target_folder_name = 'HHS Hub Migration' #Name for the Folder in the target user's content that you want to copy content into.\n",
    "target_group_ID = '5486511c3e614aa6b2f4b4d258d025d6'\n",
    "#target_client_id = 'u4z280xNRnQn2JWU' #appID for target org; OAuth\n",
    "\n",
    "src_gis = arcgis.gis.GIS(src_gis_url, src_gis_username, src_gis_password)\n",
    "#src_gis = arcgis.gis.GIS(src_gis_url, client_id='aCa70VOCEMfck6ya')\n",
    "target_gis = arcgis.gis.GIS(target_gis_url, target_gis_username, target_gis_password)\n",
    "print(\"Successfully logged in as: \" + src_gis.properties.user.username)\n",
    "print(\"Successfully logged in as: \" + target_gis.properties.user.username)"
   ]
  },
  {
   "cell_type": "markdown",
   "metadata": {},
   "source": [
    "#### Validate how many items are in the group to be copied."
   ]
  },
  {
   "cell_type": "code",
   "execution_count": 8,
   "metadata": {},
   "outputs": [
    {
     "name": "stdout",
     "output_type": "stream",
     "text": [
      "116 Total items in Group to be copied\n"
     ]
    }
   ],
   "source": [
    "src_group = src_gis.groups.get(src_group_id)\n",
    "src_group_content = src_group.content()\n",
    "print(\"{} Total items in Group to be copied\".format(len(src_group_content)))"
   ]
  },
  {
   "cell_type": "code",
   "execution_count": null,
   "metadata": {},
   "outputs": [],
   "source": []
  },
  {
   "cell_type": "code",
   "execution_count": 9,
   "metadata": {},
   "outputs": [
    {
     "name": "stdout",
     "output_type": "stream",
     "text": [
      "[]\n"
     ]
    }
   ],
   "source": [
    "content_group= 'HHS Hub Migration Content'\n",
    "group_search = f'title:content_group'\n",
    "map_group= target_gis.groups.search(group_search, max_groups=10)\n",
    "print(map_group)"
   ]
  },
  {
   "cell_type": "markdown",
   "metadata": {},
   "source": [
    "#### Execute the copy! This code below also accounts for hosted tile layers, navigating the item relationship back to the source item, copying that item, and republishing it in the target system."
   ]
  },
  {
   "cell_type": "code",
   "execution_count": 10,
   "metadata": {
    "collapsed": true
   },
   "outputs": [
    {
     "name": "stdout",
     "output_type": "stream",
     "text": [
      "Copying Item: 2017 Hanford PUREX incident - Web Mapping Application\n",
      "\t Result: [<Item title:\"2017 Hanford PUREX incident\" type:Web Map owner:bhorne_PS_DBS>, <Item title:\"2017 Hanford PUREX incident\" type:Web Mapping Application owner:bhorne_PS_DBS>]\n",
      "Copying Item: 2019 CA Wildfires - Map - Web Mapping Application\n"
     ]
    },
    {
     "ename": "KeyboardInterrupt",
     "evalue": "",
     "output_type": "error",
     "traceback": [
      "\u001b[1;31m---------------------------------------------------------------------------\u001b[0m",
      "\u001b[1;31mKeyboardInterrupt\u001b[0m                         Traceback (most recent call last)",
      "\u001b[1;32m~\\AppData\\Local\\Temp\\1\\ipykernel_49804\\559983821.py\u001b[0m in \u001b[0;36m<cell line: 1>\u001b[1;34m()\u001b[0m\n\u001b[0;32m     18\u001b[0m             \u001b[0mprint\u001b[0m\u001b[1;33m(\u001b[0m\u001b[1;34m\"\\t Service Result: {}\"\u001b[0m\u001b[1;33m.\u001b[0m\u001b[0mformat\u001b[0m\u001b[1;33m(\u001b[0m\u001b[0mservice_result\u001b[0m\u001b[1;33m)\u001b[0m\u001b[1;33m)\u001b[0m\u001b[1;33m\u001b[0m\u001b[1;33m\u001b[0m\u001b[0m\n\u001b[0;32m     19\u001b[0m         \u001b[1;32melse\u001b[0m\u001b[1;33m:\u001b[0m\u001b[1;33m\u001b[0m\u001b[1;33m\u001b[0m\u001b[0m\n\u001b[1;32m---> 20\u001b[1;33m             \u001b[0mresult\u001b[0m \u001b[1;33m=\u001b[0m \u001b[0mtarget_gis\u001b[0m\u001b[1;33m.\u001b[0m\u001b[0mcontent\u001b[0m\u001b[1;33m.\u001b[0m\u001b[0mclone_items\u001b[0m\u001b[1;33m(\u001b[0m\u001b[1;33m[\u001b[0m\u001b[0msrc_item\u001b[0m\u001b[1;33m]\u001b[0m\u001b[1;33m,\u001b[0m\u001b[0mgroup\u001b[0m\u001b[1;33m=\u001b[0m\u001b[0mtarget_folder_name\u001b[0m\u001b[1;33m)\u001b[0m\u001b[1;33m\u001b[0m\u001b[1;33m\u001b[0m\u001b[0m\n\u001b[0m\u001b[0;32m     21\u001b[0m             \u001b[1;32mif\u001b[0m \u001b[0mresult\u001b[0m \u001b[1;33m==\u001b[0m \u001b[1;33m[\u001b[0m\u001b[1;33m]\u001b[0m\u001b[1;33m:\u001b[0m\u001b[1;33m\u001b[0m\u001b[1;33m\u001b[0m\u001b[0m\n\u001b[0;32m     22\u001b[0m                 \u001b[0mprint\u001b[0m\u001b[1;33m(\u001b[0m\u001b[1;34m\"\\t Item Already copied\"\u001b[0m\u001b[1;33m)\u001b[0m\u001b[1;33m\u001b[0m\u001b[1;33m\u001b[0m\u001b[0m\n",
      "\u001b[1;32mc:\\Program Files\\ArcGIS\\Pro\\bin\\Python\\envs\\arcgispro-py3\\lib\\site-packages\\arcgis\\gis\\__init__.py\u001b[0m in \u001b[0;36mclone_items\u001b[1;34m(self, items, folder, item_extent, use_org_basemap, copy_data, copy_global_ids, search_existing_items, item_mapping, group_mapping, owner, preserve_item_id, **kwargs)\u001b[0m\n\u001b[0;32m   8560\u001b[0m             \u001b[0mwab_code_attach\u001b[0m\u001b[1;33m=\u001b[0m\u001b[0mkwargs\u001b[0m\u001b[1;33m.\u001b[0m\u001b[0mpop\u001b[0m\u001b[1;33m(\u001b[0m\u001b[1;34m\"copy_code_attachment\"\u001b[0m\u001b[1;33m,\u001b[0m \u001b[1;32mTrue\u001b[0m\u001b[1;33m)\u001b[0m\u001b[1;33m,\u001b[0m\u001b[1;33m\u001b[0m\u001b[1;33m\u001b[0m\u001b[0m\n\u001b[0;32m   8561\u001b[0m         )\n\u001b[1;32m-> 8562\u001b[1;33m         \u001b[1;32mreturn\u001b[0m \u001b[0mdeep_cloner\u001b[0m\u001b[1;33m.\u001b[0m\u001b[0mclone\u001b[0m\u001b[1;33m(\u001b[0m\u001b[1;33m)\u001b[0m\u001b[1;33m\u001b[0m\u001b[1;33m\u001b[0m\u001b[0m\n\u001b[0m\u001b[0;32m   8563\u001b[0m \u001b[1;33m\u001b[0m\u001b[0m\n\u001b[0;32m   8564\u001b[0m     def bulk_update(\n",
      "\u001b[1;32mc:\\Program Files\\ArcGIS\\Pro\\bin\\Python\\envs\\arcgispro-py3\\lib\\site-packages\\arcgis\\_impl\\common\\_clone.py\u001b[0m in \u001b[0;36mclone\u001b[1;34m(self)\u001b[0m\n\u001b[0;32m   1320\u001b[0m         \u001b[1;32melse\u001b[0m\u001b[1;33m:\u001b[0m\u001b[1;33m\u001b[0m\u001b[1;33m\u001b[0m\u001b[0m\n\u001b[0;32m   1321\u001b[0m             \u001b[1;32mwith\u001b[0m \u001b[0mconcurrent\u001b[0m\u001b[1;33m.\u001b[0m\u001b[0mfutures\u001b[0m\u001b[1;33m.\u001b[0m\u001b[0mThreadPoolExecutor\u001b[0m\u001b[1;33m(\u001b[0m\u001b[0mmax_workers\u001b[0m\u001b[1;33m=\u001b[0m\u001b[1;36m20\u001b[0m\u001b[1;33m)\u001b[0m \u001b[1;32mas\u001b[0m \u001b[0mexecutor\u001b[0m\u001b[1;33m:\u001b[0m\u001b[1;33m\u001b[0m\u001b[1;33m\u001b[0m\u001b[0m\n\u001b[1;32m-> 1322\u001b[1;33m                 \u001b[0mresults\u001b[0m \u001b[1;33m=\u001b[0m \u001b[0mexecutor\u001b[0m\u001b[1;33m.\u001b[0m\u001b[0msubmit\u001b[0m\u001b[1;33m(\u001b[0m\u001b[0mself\u001b[0m\u001b[1;33m.\u001b[0m\u001b[0m_clone\u001b[0m\u001b[1;33m,\u001b[0m \u001b[0mexecutor\u001b[0m\u001b[1;33m)\u001b[0m\u001b[1;33m.\u001b[0m\u001b[0mresult\u001b[0m\u001b[1;33m(\u001b[0m\u001b[1;33m)\u001b[0m\u001b[1;33m\u001b[0m\u001b[1;33m\u001b[0m\u001b[0m\n\u001b[0m\u001b[0;32m   1323\u001b[0m                 \u001b[1;32mreturn\u001b[0m \u001b[0mresults\u001b[0m\u001b[1;33m\u001b[0m\u001b[1;33m\u001b[0m\u001b[0m\n\u001b[0;32m   1324\u001b[0m \u001b[1;33m\u001b[0m\u001b[0m\n",
      "\u001b[1;32mc:\\Program Files\\ArcGIS\\Pro\\bin\\Python\\envs\\arcgispro-py3\\lib\\concurrent\\futures\\_base.py\u001b[0m in \u001b[0;36mresult\u001b[1;34m(self, timeout)\u001b[0m\n\u001b[0;32m    439\u001b[0m                     \u001b[1;32mreturn\u001b[0m \u001b[0mself\u001b[0m\u001b[1;33m.\u001b[0m\u001b[0m__get_result\u001b[0m\u001b[1;33m(\u001b[0m\u001b[1;33m)\u001b[0m\u001b[1;33m\u001b[0m\u001b[1;33m\u001b[0m\u001b[0m\n\u001b[0;32m    440\u001b[0m \u001b[1;33m\u001b[0m\u001b[0m\n\u001b[1;32m--> 441\u001b[1;33m                 \u001b[0mself\u001b[0m\u001b[1;33m.\u001b[0m\u001b[0m_condition\u001b[0m\u001b[1;33m.\u001b[0m\u001b[0mwait\u001b[0m\u001b[1;33m(\u001b[0m\u001b[0mtimeout\u001b[0m\u001b[1;33m)\u001b[0m\u001b[1;33m\u001b[0m\u001b[1;33m\u001b[0m\u001b[0m\n\u001b[0m\u001b[0;32m    442\u001b[0m \u001b[1;33m\u001b[0m\u001b[0m\n\u001b[0;32m    443\u001b[0m                 \u001b[1;32mif\u001b[0m \u001b[0mself\u001b[0m\u001b[1;33m.\u001b[0m\u001b[0m_state\u001b[0m \u001b[1;32min\u001b[0m \u001b[1;33m[\u001b[0m\u001b[0mCANCELLED\u001b[0m\u001b[1;33m,\u001b[0m \u001b[0mCANCELLED_AND_NOTIFIED\u001b[0m\u001b[1;33m]\u001b[0m\u001b[1;33m:\u001b[0m\u001b[1;33m\u001b[0m\u001b[1;33m\u001b[0m\u001b[0m\n",
      "\u001b[1;32mc:\\Program Files\\ArcGIS\\Pro\\bin\\Python\\envs\\arcgispro-py3\\lib\\threading.py\u001b[0m in \u001b[0;36mwait\u001b[1;34m(self, timeout)\u001b[0m\n\u001b[0;32m    310\u001b[0m         \u001b[1;32mtry\u001b[0m\u001b[1;33m:\u001b[0m    \u001b[1;31m# restore state no matter what (e.g., KeyboardInterrupt)\u001b[0m\u001b[1;33m\u001b[0m\u001b[1;33m\u001b[0m\u001b[0m\n\u001b[0;32m    311\u001b[0m             \u001b[1;32mif\u001b[0m \u001b[0mtimeout\u001b[0m \u001b[1;32mis\u001b[0m \u001b[1;32mNone\u001b[0m\u001b[1;33m:\u001b[0m\u001b[1;33m\u001b[0m\u001b[1;33m\u001b[0m\u001b[0m\n\u001b[1;32m--> 312\u001b[1;33m                 \u001b[0mwaiter\u001b[0m\u001b[1;33m.\u001b[0m\u001b[0macquire\u001b[0m\u001b[1;33m(\u001b[0m\u001b[1;33m)\u001b[0m\u001b[1;33m\u001b[0m\u001b[1;33m\u001b[0m\u001b[0m\n\u001b[0m\u001b[0;32m    313\u001b[0m                 \u001b[0mgotit\u001b[0m \u001b[1;33m=\u001b[0m \u001b[1;32mTrue\u001b[0m\u001b[1;33m\u001b[0m\u001b[1;33m\u001b[0m\u001b[0m\n\u001b[0;32m    314\u001b[0m             \u001b[1;32melse\u001b[0m\u001b[1;33m:\u001b[0m\u001b[1;33m\u001b[0m\u001b[1;33m\u001b[0m\u001b[0m\n",
      "\u001b[1;31mKeyboardInterrupt\u001b[0m: "
     ]
    }
   ],
   "source": [
    "for src_item in src_group_content:\n",
    "    print(\"Copying Item: {} - {}\".format(src_item.title, src_item.type))\n",
    "    try:\n",
    "        #Handle Hosted Tile Layers\n",
    "        if 'Hosted Service' in src_item.typeKeywords and 'Map Service' in src_item.typeKeywords:\n",
    "            if len(target_gis.content.search(\"source-{}\".format(src_item.id)))>0:\n",
    "                print(\"\\t Item Already copied\")\n",
    "                continue\n",
    "            #Clone TPK:\n",
    "            print(\"\\t Hosted Tile Layer found, copying source tile package\")\n",
    "            tpk_result = target_gis.content.clone_items(src_item.related_items('Service2Data'),folder=target_folder_name)\n",
    "            if tpk_result == []:\n",
    "                tpk_result = target_gis.content.search(\"source-{}\".format(src_item.related_items('Service2Data')[0].id))\n",
    "            print(\"\\t Source Tile Package copied as {}\".format(tpk_result[0].id))\n",
    "            print(\"\\t Publishing service...\")\n",
    "            service_result = tpk_result[0].publish(build_initial_cache=True)\n",
    "            service_result.update({\"typeKeywords\":service_result.typeKeywords+[\"source-{}\".format(src_item.id)]})\n",
    "            print(\"\\t Service Result: {}\".format(service_result))\n",
    "        else:\n",
    "            result = target_gis.content.clone_items([src_item],group=target_folder_name)\n",
    "            if result == []:\n",
    "                print(\"\\t Item Already copied\")\n",
    "            else:\n",
    "                print(\"\\t Result: {}\".format(result))\n",
    "   \n",
    "    except Exception as e:\n",
    "        if \"already exists\" in str(e):\n",
    "            print(\"\\tService already copied to target organization\")\n",
    "        else:\n",
    "            print(\"\\t Error copying item: {} -- {} \".format(src_item.title, e))\n",
    "            \n"
   ]
  },
  {
   "cell_type": "code",
   "execution_count": 44,
   "metadata": {},
   "outputs": [],
   "source": [
    "now = datetime.now()\n",
    "dt_string = now.strftime(\"%Y%m%d_%H%M%S\")"
   ]
  },
  {
   "cell_type": "code",
   "execution_count": 55,
   "metadata": {},
   "outputs": [
    {
     "name": "stdout",
     "output_type": "stream",
     "text": [
      "[<Group title:\"HHS Hub Migration  Content\" owner:bhorne_PS_DBS>]\n"
     ]
    }
   ],
   "source": [
    "mygroup = target_gis.groups.search('5486511c3e614aa6b2f4b4d258d025d6')\n",
    "migration = mygroup[0]\n",
    "print(mygroup)"
   ]
  },
  {
   "cell_type": "code",
   "execution_count": 58,
   "metadata": {},
   "outputs": [],
   "source": [
    "migration_content = mygroup[0].content()"
   ]
  },
  {
   "cell_type": "code",
   "execution_count": 60,
   "metadata": {},
   "outputs": [
    {
     "name": "stdout",
     "output_type": "stream",
     "text": [
      "2a456d96d79a4f6ebdf1ebe4eb227b16\n",
      "cc37eab2e81749a5a462c4a9e4180086\n",
      "3ee6bfb9c9034738892fd28f6d24c6ba\n",
      "a41bed03211647f4adc9aab2a07f72cd\n",
      "80374b43e9c848cc924e28cddb6993bc\n",
      "60e2e59e0eb344c29c63aaf4aedda12b\n",
      "0f1f450f78ff4c3dbe1619c73c053c1f\n",
      "b7876e769f0242b99e7579e7df957d7d\n",
      "3a397f93ec904d1ba4e0181e2def2db1\n",
      "d953680d5f99478e9d33a3a1d900d7ee\n",
      "3afb0464379140a5a6732aa84bc16339\n",
      "7350c3af539448e3ba107e623021015b\n",
      "32d35878f7d3498d9b55f1dbf8aceba5\n",
      "3c781ae10d4b45e99e327f6af7a8dc9e\n",
      "1442a1b41531486688c668afde1beb0a\n",
      "143b9a468414469dacd9d49b4e7c60e0\n",
      "ee44df5d3d1c4e7e9a62db871fcb7125\n",
      "a83feaf0a69b49dba78b202701e026f7\n",
      "e513756f5bd04ac0b8c45857263a91f4\n",
      "00bedbac15824fb7a7e566e2480740eb\n"
     ]
    }
   ],
   "source": [
    "with open(csv_file.format(dt_string), 'w') as csvfile:\n",
    "    dataWriter = csv.writer(csvfile, delimiter=',', quotechar='\"', quoting=csv.QUOTE_MINIMAL, lineterminator='\\n')\n",
    "    dataWriter.writerow(['Title',\n",
    "                         'Item ID',\n",
    "                         'Item Type'])\n",
    "    for item in migration_content:\n",
    "        dataWriter.writerow([\n",
    "            item.title,\n",
    "            item.id,\n",
    "            item.type\n",
    "        ])"
   ]
  }
 ],
 "metadata": {
  "esriNotebookRuntime": {
   "notebookRuntimeName": "ArcGIS Notebook Python 3 Standard",
   "notebookRuntimeVersion": "5.0"
  },
  "kernelspec": {
   "display_name": "ArcGISPro",
   "language": "Python",
   "name": "python3"
  },
  "language_info": {
   "codemirror_mode": {
    "name": "ipython",
    "version": 3
   },
   "file_extension": ".py",
   "mimetype": "text/x-python",
   "name": "python",
   "nbconvert_exporter": "python",
   "pygments_lexer": "ipython3",
   "version": "3.9.18"
  }
 },
 "nbformat": 4,
 "nbformat_minor": 2
}
