{
 "cells": [
  {
   "cell_type": "markdown",
   "metadata": {},
   "source": [
    "### Configure your ArcGIS Online or Enterprise cnonnections, and specify a group from your src_gis to be copied."
   ]
  },
  {
   "cell_type": "code",
   "execution_count": 2,
   "metadata": {},
   "outputs": [],
   "source": [
    "import arcgis\n",
    "from arcgis.gis import GIS\n",
    "from arcgis.mapping import WebMap\n",
    "import csv\n",
    "from datetime import datetime\n",
    "csv_file = r'C:/Users/bob10704/Desktop/Projects/1.Active Projects/HHS_HubMigration/hub_itemIDs.csv'"
   ]
  },
  {
   "cell_type": "code",
   "execution_count": 3,
   "metadata": {},
   "outputs": [
    {
     "name": "stdout",
     "output_type": "stream",
     "text": [
      "Successfully logged in as: bhorne_PS_DBS\n",
      "Successfully logged in as: bhorne_PS\n"
     ]
    }
   ],
   "source": [
    "src_gis_url = 'https://ps-dbs.maps.arcgis.com'     #https://grid3.maps.arcgis.com - can also use 'home' if you are running the notebook from the org you want to use as the src. \n",
    "src_group_id = 'cb37317883aa4b82983e59d231ab084b'\n",
    "src_gis_username = 'bhorne_ps_dbs' # Your username for the source organization\n",
    "src_gis_password = '78tHbDv5' # provide a password for that user, if None is left, you will be prompted to provide the password.\n",
    "#src_client_id = 'aCa70VOCEMfck6ya' #appID for source org; OAuth\n",
    "\n",
    "target_gis_url = 'https://ps-dbs.maps.arcgis.com'  #https://myneworg.maps.arcgis.coNm\n",
    "target_gis_username = 'bhorne_PS' # Username for Target Org\n",
    "target_gis_password = '78thbdv5' # Password for Target Org\n",
    "target_folder_name = 'item_migration' #Name for the Folder in the target user's content that you want to copy content into.\n",
    "target_group_ID = '539b9e5f9a8642d3a65ddefeae7eb444'\n",
    "#target_client_id = 'u4z280xNRnQn2JWU' #appID for target org; OAuth\n",
    "\n",
    "src_gis = arcgis.gis.GIS(src_gis_url, src_gis_username, src_gis_password)\n",
    "#src_gis = arcgis.gis.GIS(src_gis_url, client_id='aCa70VOCEMfck6ya')\n",
    "target_gis = arcgis.gis.GIS(target_gis_url, target_gis_username, target_gis_password)\n",
    "print(\"Successfully logged in as: \" + src_gis.properties.user.username)\n",
    "print(\"Successfully logged in as: \" + target_gis.properties.user.username)"
   ]
  },
  {
   "cell_type": "markdown",
   "metadata": {},
   "source": [
    "#### Validate how many items are in the group to be copied."
   ]
  },
  {
   "cell_type": "code",
   "execution_count": 4,
   "metadata": {},
   "outputs": [
    {
     "name": "stdout",
     "output_type": "stream",
     "text": [
      "61 Total items in Group to be copied\n"
     ]
    }
   ],
   "source": [
    "src_group = src_gis.groups.get(src_group_id)\n",
    "src_group_content = src_group.content()\n",
    "print(\"{} Total items in Group to be copied\".format(len(src_group_content)))"
   ]
  },
  {
   "cell_type": "code",
   "execution_count": 7,
   "metadata": {},
   "outputs": [
    {
     "name": "stdout",
     "output_type": "stream",
     "text": [
      "[]\n"
     ]
    }
   ],
   "source": [
    "content_group= 'Migrated_Content'\n",
    "group_search = f'title:content_group'\n",
    "map_group= target_gis.groups.search(group_search, max_groups=10)\n",
    "print(map_group)"
   ]
  },
  {
   "cell_type": "markdown",
   "metadata": {},
   "source": [
    "#### Execute the copy! This code below also accounts for hosted tile layers, navigating the item relationship back to the source item, copying that item, and republishing it in the target system."
   ]
  },
  {
   "cell_type": "code",
   "execution_count": 8,
   "metadata": {
    "collapsed": true
   },
   "outputs": [
    {
     "name": "stdout",
     "output_type": "stream",
     "text": [
      "Copying Item: Archive Damage Assessments - Notebook\n",
      "\t Result: [<Item title:\"IndividualAssistance\" type:Feature Layer Collection owner:bhorne_PS>, <Item title:\"PublicAssistanceArchive\" type:Feature Layer Collection owner:bhorne_PS>, <Item title:\"PublicAssistance\" type:Feature Layer Collection owner:bhorne_PS>, <Item title:\"IndividualAssistanceArchive\" type:Feature Layer Collection owner:bhorne_PS>, <Item title:\"Archive Damage Assessments\" type:Notebook owner:bhorne_PS>]\n",
      "Copying Item: Ashwaubenon_Map - Web Map\n",
      "\t Result: [<Item title:\"Ashwaubenon_Map_WFL1\" type:Feature Layer Collection owner:bhorne_PS>, <Item title:\"Ashwaubenon_Map\" type:Web Map owner:bhorne_PS>]\n",
      "Copying Item: Ashwaubenon_Map_WFL1 - Service Definition\n",
      "\t Result: [<Item title:\"Ashwaubenon_Map_WFL1\" type:Service Definition owner:bhorne_PS>]\n",
      "Copying Item: Ashwaubenon_Map_WFL1 - Feature Service\n",
      "\t Item Already copied\n",
      "Copying Item: Ashwaubenon_markup_lookalike - Project Package\n",
      "\t Result: [<Item title:\"Ashwaubenon_markup_lookalike\" type:Project Package owner:bhorne_PS>]\n",
      "Copying Item: Damage Assessment - Hub Initiative\n",
      "\t Result: [<Item title:\"Damage Assessment\" type:Hub Initiative owner:bhorne_PS>]\n",
      "Copying Item: Damage Assessment - Hub Site Application\n",
      "\t Result: [<Item title:\"Damage Assessment\" type:Hub Site Application owner:bhorne_PS>]\n",
      "Copying Item: Damage Assessment Dashboards - Web Experience\n",
      "\t Result: [<Item title:\"Damage Assessment Dashboards\" type:Web Experience owner:bhorne_PS>]\n",
      "Copying Item: Damage Assessment Manager - Web Mapping Application\n",
      "\t Result: [<Item title:\"DamageAssessmentGrid\" type:Feature Layer Collection owner:bhorne_PS>, <Item title:\"PublicAssistance_assignments\" type:Feature Layer Collection owner:bhorne_PS>, <Item title:\"IndividualAssistance_assignments\" type:Feature Layer Collection owner:bhorne_PS>, <Item title:\"Damage Assessment Manager\" type:Web Map owner:bhorne_PS>, <Item title:\"Damage Assessment Manager\" type:Web Mapping Application owner:bhorne_PS>]\n",
      "Copying Item: Damage Assessment Manager - Code Attachment\n",
      "\t Item Already copied\n",
      "Copying Item: Damage Assessment Manager - Web Map\n",
      "\t Item Already copied\n",
      "Copying Item: Damage Assessment Operations - Web Experience\n",
      "\t Result: [<Item title:\"Damage Assessment Operations\" type:Web Experience owner:bhorne_PS>]\n",
      "Copying Item: Damage Assessment Photo Extraction - Notebook\n",
      "\t Result: [<Item title:\"Damage Assessment Photo Extraction\" type:Notebook owner:bhorne_PS>]\n",
      "Copying Item: Damage Assessment Photo Viewer - Web Map\n",
      "\t Result: [<Item title:\"IndividualAssistance_public\" type:Feature Layer Collection owner:bhorne_PS>, <Item title:\"Damage Assessment Photo Viewer\" type:Web Map owner:bhorne_PS>]\n",
      "Copying Item: Damage Assessment Photo Viewer - Web Mapping Application\n",
      "\t Result: [<Item title:\"Damage Assessment Photo Viewer\" type:Web Mapping Application owner:bhorne_PS>]\n",
      "Copying Item: DamageAssessmentGrid - Feature Service\n",
      "\t Item Already copied\n",
      "Copying Item: DamageAssessmentGrid_view - Feature Service\n",
      "\t Result: [<Item title:\"DamageAssessmentGrid_view\" type:Feature Layer Collection owner:bhorne_PS>]\n",
      "Copying Item: Dragon Sightings - Form\n",
      "\t Item Already copied\n",
      "Copying Item: Fire Analysis_stakeholder - Feature Service\n",
      "\t Result: [<Item title:\"Fire Analysis\" type:Feature Layer Collection owner:bhorne_PS>, <Item title:\"Fire Analysis_stakeholder\" type:Feature Layer Collection owner:bhorne_PS>]\n",
      "Copying Item: GOT_Continents - Service Definition\n",
      "\t Result: [<Item title:\"GOT_Continents\" type:Service Definition owner:bhorne_PS>]\n",
      "Copying Item: GOT_Continents - Feature Service\n",
      "\t Item Already copied\n",
      "Copying Item: IAPreliminaryDamageAssessmentSummary.docx - Microsoft Word\n",
      "\t Result: [<Item title:\"IAPreliminaryDamageAssessmentSummary.docx\" type:Microsoft Word owner:bhorne_PS>]\n",
      "Copying Item: Individual Assistance Dashboard - Dashboard\n",
      "\t Result: [<Item title:\"IndividualAssistance_dashboard\" type:Feature Layer Collection owner:bhorne_PS>, <Item title:\"Individual Assistance Dashboard\" type:Web Map owner:bhorne_PS>, <Item title:\"Individual Assistance Dashboard\" type:Dashboard owner:bhorne_PS>]\n",
      "Copying Item: Individual Assistance Dashboard - Web Map\n",
      "\t Item Already copied\n",
      "Copying Item: Individual Assistance Survey - Web Map\n",
      "\t Result: [<Item title:\"IndividualAssistance_survey\" type:Feature Layer Collection owner:bhorne_PS>, <Item title:\"Individual Assistance Survey\" type:Web Map owner:bhorne_PS>]\n",
      "Copying Item: IndividualAssistance - Feature Service\n",
      "\t Item Already copied\n",
      "Copying Item: IndividualAssistance_assignments - Feature Service\n",
      "\t Item Already copied\n",
      "Copying Item: IndividualAssistance_complete - Feature Service\n",
      "\t Result: [<Item title:\"IndividualAssistance_complete\" type:Feature Layer Collection owner:bhorne_PS>]\n",
      "Copying Item: IndividualAssistance_dashboard - Feature Service\n",
      "\t Item Already copied\n",
      "Copying Item: IndividualAssistance_public - Feature Service\n",
      "\t Item Already copied\n",
      "Copying Item: IndividualAssistance_report - Feature Service\n",
      "\t Result: [<Item title:\"IndividualAssistance_report\" type:Feature Layer Collection owner:bhorne_PS>]\n",
      "Copying Item: IndividualAssistance_survey - Feature Service\n",
      "\t Item Already copied\n",
      "Copying Item: IndividualAssistanceArchive - Feature Service\n",
      "\t Item Already copied\n",
      "Copying Item: Internal Destination - Hub Page\n",
      "\t Result: [<Item title:\"Internal Destination\" type:Hub Page owner:bhorne_PS>]\n",
      "Copying Item: Los Angeles Health Care Facilities - Dashboard\n",
      "\t Result: [<Item title:\"Los Angeles Health Care Facilities\" type:Feature Layer Collection owner:bhorne_PS>, <Item title:\"Los Angeles Health Care Facilities\" type:Web Map owner:bhorne_PS>, <Item title:\"Los Angeles Health Care Facilities\" type:Dashboard owner:bhorne_PS>]\n",
      "Copying Item: Los Angeles Health Care Facilities Dashboard - Dashboard\n",
      "\t Result: [<Item title:\"Los Angeles Health Care Facilities Dashboard\" type:Dashboard owner:bhorne_PS>]\n",
      "Copying Item: Los Angeles Health Care Facilities Dashboard Build - Dashboard\n",
      "Already existent or Living Atlas items excluded from cloning. Check info-level logs for details.\n",
      "\t Result: [<Item title:\"Los Angeles Health Care Facilities Dashboard Build\" type:Dashboard owner:bhorne_PS>]\n",
      "Copying Item: Military Ground Mobility - Desktop Application Template\n",
      "\t Result: [<Item title:\"Military Ground Mobility\" type:Desktop Application Template owner:bhorne_PS>]\n",
      "Copying Item: Military Ground Mobility - Solution\n",
      "\t Result: [<Item title:\"Military Ground Mobility\" type:Solution owner:bhorne_PS>]\n",
      "Copying Item: OES Wildfire Situational Awareness Dashboard - Public Desktop Version - Dashboard\n",
      "\t Error copying item: OES Wildfire Situational Awareness Dashboard - Public Desktop Version -- User does not have permissions to access this service\n",
      "User does not have permissions to access this service\n",
      "(Error Code: 403) \n",
      "Copying Item: OrganizationItems_5/2/2024 - Administrative Report\n",
      "\t Result: [<Item title:\"OrganizationItems_5/2/2024\" type:Administrative Report owner:bhorne_PS>]\n",
      "Copying Item: Partner Portal Test Site - Site Application\n",
      "\t Result: [<Item title:\"Partner Portal Test Site\" type:Site Application owner:bhorne_PS>]\n",
      "Copying Item: Public Assistance Dashboard - Dashboard\n",
      "\t Result: [<Item title:\"PublicAssistance_dashboard\" type:Feature Layer Collection owner:bhorne_PS>, <Item title:\"Public Assistance Dashboard\" type:Web Map owner:bhorne_PS>, <Item title:\"Public Assistance Dashboard\" type:Dashboard owner:bhorne_PS>]\n",
      "Copying Item: Public Assistance Dashboard - Web Map\n",
      "\t Item Already copied\n",
      "Copying Item: Public Damage Report - Web Map\n",
      "\t Result: [<Item title:\"Public Damage Report\" type:Web Map owner:bhorne_PS>]\n",
      "Copying Item: PublicAssistance - Feature Service\n",
      "\t Item Already copied\n",
      "Copying Item: PublicAssistance_assignments - Feature Service\n",
      "\t Item Already copied\n",
      "Copying Item: PublicAssistance_complete - Feature Service\n",
      "\t Result: [<Item title:\"PublicAssistance_complete\" type:Feature Layer Collection owner:bhorne_PS>]\n",
      "Copying Item: PublicAssistance_dashboard - Feature Service\n",
      "\t Item Already copied\n",
      "Copying Item: PublicAssistance_survey - Feature Service\n",
      "\t Result: [<Item title:\"PublicAssistance_survey\" type:Feature Layer Collection owner:bhorne_PS>]\n",
      "Copying Item: PublicAssistanceArchive - Feature Service\n",
      "\t Item Already copied\n",
      "Copying Item: Test_Layer - Feature Service\n",
      "\t Result: [<Item title:\"Test_Layer\" type:Feature Layer Collection owner:bhorne_PS>]\n",
      "Copying Item: this is my test site - Hub Site Application\n",
      "\t Result: [<Item title:\"this is my test site\" type:Hub Site Application owner:bhorne_PS>]\n",
      "Copying Item: Ukraine COT Timelapse January 2024 - Feature Service\n",
      "\t Result: [<Item title:\"Ukraine COT Timelapse January 2024\" type:Feature Layer Collection owner:bhorne_PS>]\n",
      "Copying Item: Ukraine Time-Lapse January 2024 - Web Experience\n",
      "\t Result: [<Item title:\"Ukraine Time-Lapse January 2024\" type:Web Experience owner:bhorne_PS>]\n",
      "Copying Item: Waypoint2_0_PUBLISHER_Alien_Specific - Vector Tile Service\n",
      "\t Result: [<Item title:\"Waypoint2_0_PUBLISHER_Alien_Specific\" type:Vector Tile Layer owner:bhorne_PS>]\n",
      "Copying Item: Waypoint2_0_PUBLISHER_Alien_Specific - Service Definition\n",
      "\t Result: [<Item title:\"Waypoint2_0_PUBLISHER_Alien_Specific\" type:Service Definition owner:bhorne_PS>]\n",
      "Copying Item: Waypoint2_0_PUBLISHER_Alien_Specific - Feature Service\n",
      "\t Result: [<Item title:\"Waypoint2_0_PUBLISHER_Alien_Specific\" type:Feature Layer Collection owner:bhorne_PS>]\n",
      "Copying Item: Westeros___Fire_and_Blood_WTL1 - Map Service\n",
      "\t Hosted Tile Layer found, copying source tile package\n",
      "\t Source Tile Package copied as c1e335adb9574e9ea00c8bc014d97a47\n",
      "\t Publishing service...\n",
      "\tService already copied to target organization\n",
      "Copying Item: Westeros___Fire_and_Blood_WTL1 - Service Definition\n",
      "\t Item Already copied\n",
      "Copying Item: Windshield Damage Report - QuickCapture Project\n",
      "\t Result: [<Item title:\"Windshield Damage Report\" type:QuickCapture Project owner:bhorne_PS>]\n"
     ]
    }
   ],
   "source": [
    "for src_item in src_group_content:\n",
    "    print(\"Copying Item: {} - {}\".format(src_item.title, src_item.type))\n",
    "    try:\n",
    "        #Handle Hosted Tile Layers\n",
    "        if 'Hosted Service' in src_item.typeKeywords and 'Map Service' in src_item.typeKeywords:\n",
    "            if len(target_gis.content.search(\"source-{}\".format(src_item.id)))>0:\n",
    "                print(\"\\t Item Already copied\")\n",
    "                continue\n",
    "            #Clone TPK:\n",
    "            print(\"\\t Hosted Tile Layer found, copying source tile package\")\n",
    "            tpk_result = target_gis.content.clone_items(src_item.related_items('Service2Data'),folder=target_folder_name)\n",
    "            if tpk_result == []:\n",
    "                tpk_result = target_gis.content.search(\"source-{}\".format(src_item.related_items('Service2Data')[0].id))\n",
    "            print(\"\\t Source Tile Package copied as {}\".format(tpk_result[0].id))\n",
    "            print(\"\\t Publishing service...\")\n",
    "            service_result = tpk_result[0].publish(build_initial_cache=True)\n",
    "            service_result.update({\"typeKeywords\":service_result.typeKeywords+[\"source-{}\".format(src_item.id)]})\n",
    "            print(\"\\t Service Result: {}\".format(service_result))\n",
    "        else:\n",
    "            result = target_gis.content.clone_items([src_item],group=target_folder_name)\n",
    "            if result == []:\n",
    "                print(\"\\t Item Already copied\")\n",
    "            else:\n",
    "                print(\"\\t Result: {}\".format(result))\n",
    "   \n",
    "    except Exception as e:\n",
    "        if \"already exists\" in str(e):\n",
    "            print(\"\\tService already copied to target organization\")\n",
    "        else:\n",
    "            print(\"\\t Error copying item: {} -- {} \".format(src_item.title, e))\n",
    "            \n"
   ]
  },
  {
   "cell_type": "code",
   "execution_count": 44,
   "metadata": {},
   "outputs": [],
   "source": [
    "now = datetime.now()\n",
    "dt_string = now.strftime(\"%Y%m%d_%H%M%S\")"
   ]
  },
  {
   "cell_type": "code",
   "execution_count": 55,
   "metadata": {},
   "outputs": [
    {
     "name": "stdout",
     "output_type": "stream",
     "text": [
      "[<Group title:\"HHS Hub Migration  Content\" owner:bhorne_PS_DBS>]\n"
     ]
    }
   ],
   "source": [
    "mygroup = target_gis.groups.search('5486511c3e614aa6b2f4b4d258d025d6')\n",
    "migration = mygroup[0]\n",
    "print(mygroup)"
   ]
  },
  {
   "cell_type": "code",
   "execution_count": 58,
   "metadata": {},
   "outputs": [],
   "source": [
    "migration_content = mygroup[0].content()"
   ]
  },
  {
   "cell_type": "code",
   "execution_count": 60,
   "metadata": {},
   "outputs": [
    {
     "name": "stdout",
     "output_type": "stream",
     "text": [
      "2a456d96d79a4f6ebdf1ebe4eb227b16\n",
      "cc37eab2e81749a5a462c4a9e4180086\n",
      "3ee6bfb9c9034738892fd28f6d24c6ba\n",
      "a41bed03211647f4adc9aab2a07f72cd\n",
      "80374b43e9c848cc924e28cddb6993bc\n",
      "60e2e59e0eb344c29c63aaf4aedda12b\n",
      "0f1f450f78ff4c3dbe1619c73c053c1f\n",
      "b7876e769f0242b99e7579e7df957d7d\n",
      "3a397f93ec904d1ba4e0181e2def2db1\n",
      "d953680d5f99478e9d33a3a1d900d7ee\n",
      "3afb0464379140a5a6732aa84bc16339\n",
      "7350c3af539448e3ba107e623021015b\n",
      "32d35878f7d3498d9b55f1dbf8aceba5\n",
      "3c781ae10d4b45e99e327f6af7a8dc9e\n",
      "1442a1b41531486688c668afde1beb0a\n",
      "143b9a468414469dacd9d49b4e7c60e0\n",
      "ee44df5d3d1c4e7e9a62db871fcb7125\n",
      "a83feaf0a69b49dba78b202701e026f7\n",
      "e513756f5bd04ac0b8c45857263a91f4\n",
      "00bedbac15824fb7a7e566e2480740eb\n"
     ]
    }
   ],
   "source": [
    "with open(csv_file.format(dt_string), 'w') as csvfile:\n",
    "    dataWriter = csv.writer(csvfile, delimiter=',', quotechar='\"', quoting=csv.QUOTE_MINIMAL, lineterminator='\\n')\n",
    "    dataWriter.writerow(['Title',\n",
    "                         'Item ID',\n",
    "                         'Item Type'])\n",
    "    for item in migration_content:\n",
    "        dataWriter.writerow([\n",
    "            item.title,\n",
    "            item.id,\n",
    "            item.type\n",
    "        ])"
   ]
  }
 ],
 "metadata": {
  "esriNotebookRuntime": {
   "notebookRuntimeName": "ArcGIS Notebook Python 3 Standard",
   "notebookRuntimeVersion": "5.0"
  },
  "kernelspec": {
   "display_name": "ArcGISPro",
   "language": "Python",
   "name": "python3"
  },
  "language_info": {
   "codemirror_mode": {
    "name": "ipython",
    "version": 3
   },
   "file_extension": ".py",
   "mimetype": "text/x-python",
   "name": "python",
   "nbconvert_exporter": "python",
   "pygments_lexer": "ipython3",
   "version": "3.9.18"
  }
 },
 "nbformat": 4,
 "nbformat_minor": 2
}
