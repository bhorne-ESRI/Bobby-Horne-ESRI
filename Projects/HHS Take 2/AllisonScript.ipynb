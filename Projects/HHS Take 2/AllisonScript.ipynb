{
 "cells": [
  {
   "cell_type": "code",
   "execution_count": 1,
   "metadata": {},
   "outputs": [],
   "source": [
    "from arcgis.gis import GIS\n",
    "#source_portal_username = input(\"Enter username of source organization admin: \")\n",
    "target=GIS(url=\"https://prof-services.maps.arcgis.com/home\", username=\"bhorne_prof_services\", password=\"78thbdv5\")\n",
    "\n",
    "#target_portal_username = input(\"Enter username of target organization admin: \")\n",
    "source=GIS(url=\"https://ps-dbs.maps.arcgis.com/home\", username=\"bhorne_ps_dbs\", password=\"78tHbDv5\")"
   ]
  },
  {
   "cell_type": "code",
   "execution_count": 2,
   "metadata": {},
   "outputs": [
    {
     "data": {
      "text/plain": [
       "['421c7ac24b6e4e6f9845277a5e5ced5e']"
      ]
     },
     "execution_count": 2,
     "metadata": {},
     "output_type": "execute_result"
    }
   ],
   "source": [
    "item_ids = [\n",
    "    #'', # instant app\n",
    "    #'', # web map\n",
    "    #'', # xlsx\n",
    "    #'', # shapefile\n",
    "    #'', # image\n",
    "    #'', # pdf\n",
    "    #'', # feature layer\n",
    "    #'', # sd file\n",
    "    #'', # site app\n",
    "    #'', # story map\n",
    "    '421c7ac24b6e4e6f9845277a5e5ced5e', # dashboard\n",
    "    #'' # experience builder\n",
    "]\n",
    "item_ids"
   ]
  },
  {
   "cell_type": "code",
   "execution_count": 3,
   "metadata": {},
   "outputs": [
    {
     "name": "stdout",
     "output_type": "stream",
     "text": [
      "1 items will be cloned. See list below: \n",
      "[<Item title:\"Item Management Dashboard\" type:Dashboard owner:bhorne_PS_DBS>]\n"
     ]
    }
   ],
   "source": [
    "from arcgis.gis import User\n",
    "\n",
    "items = []\n",
    "for item_id in item_ids:\n",
    "    try:\n",
    "        item_detail = source.content.get(item_id)\n",
    "        items.append(item_detail)\n",
    "    except Exception as e:\n",
    "        print(e)\n",
    "\n",
    "print(str(len(items)) + \" items will be cloned. See list below: \")\n",
    "print(items)"
   ]
  },
  {
   "cell_type": "code",
   "execution_count": 4,
   "metadata": {},
   "outputs": [],
   "source": [
    "def get_folder_name(gis, username, folder_id):\n",
    "    user = User(gis, username)\n",
    "    for folder in user.folders:\n",
    "        if folder_id == folder['id']:\n",
    "            return folder['title']\n",
    "    print(\"Folder not found\")\n",
    "    return None"
   ]
  },
  {
   "cell_type": "code",
   "execution_count": 9,
   "metadata": {},
   "outputs": [],
   "source": [
    "def deep_copy_content(item_list):\n",
    "    for item in item_list:\n",
    "        try:\n",
    "            print(\"Cloning \" + item.title)\n",
    "            # get folder name\n",
    "            folder = get_folder_name(source, item.owner, item.ownerFolder)\n",
    "\n",
    "            # clone the item\n",
    "            target.content.clone_items(items=[item], copy_data=True, search_existing_items=True, copy_global_ids=True, folder=folder, owner=item.owner)\n",
    "            print(\"Successfully cloned \" + item.title)\n",
    "        except Exception as e:\n",
    "            print(e)\n",
    "    print(\"The function has completed\")"
   ]
  },
  {
   "cell_type": "code",
   "execution_count": 10,
   "metadata": {},
   "outputs": [
    {
     "name": "stdout",
     "output_type": "stream",
     "text": [
      "Cloning Item Management Dashboard\n",
      "'type'\n",
      "The function has completed\n"
     ]
    }
   ],
   "source": [
    "deep_copy_content(items)"
   ]
  }
 ],
 "metadata": {
  "kernelspec": {
   "display_name": "Python 3",
   "language": "python",
   "name": "python3"
  },
  "language_info": {
   "codemirror_mode": {
    "name": "ipython",
    "version": 3
   },
   "file_extension": ".py",
   "mimetype": "text/x-python",
   "name": "python",
   "nbconvert_exporter": "python",
   "pygments_lexer": "ipython3",
   "version": "3.9.18"
  }
 },
 "nbformat": 4,
 "nbformat_minor": 2
}
