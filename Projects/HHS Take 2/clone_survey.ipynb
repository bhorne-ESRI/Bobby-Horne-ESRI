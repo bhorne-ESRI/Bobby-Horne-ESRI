{
 "cells": [
  {
   "cell_type": "code",
   "execution_count": 2,
   "metadata": {},
   "outputs": [],
   "source": [
    "from arcgis.gis import GIS\n",
    "#source_portal_username = input(\"Enter username of source organization admin: \")\n",
    "target=GIS(url=\"https://ps-dbs.maps.arcgis.com/home\", username=\"bhorne_ps\", password=\"78thbdv5\")\n",
    "\n",
    "#target_portal_username = input(\"Enter username of target organization admin: \")\n",
    "source=GIS(url=\"https://ps-dbs.maps.arcgis.com/home\", username=\"bhorne_ps_dbs\", password=\"78tHbDv5\")"
   ]
  },
  {
   "cell_type": "code",
   "execution_count": 13,
   "metadata": {},
   "outputs": [],
   "source": [
    "import arcgis\n",
    "from arcgis.gis import GIS\n",
    "import os"
   ]
  },
  {
   "cell_type": "code",
   "execution_count": 10,
   "metadata": {},
   "outputs": [
    {
     "data": {
      "text/html": [
       "<div class=\"item_container\" style=\"height: auto; overflow: hidden; border: 1px solid #cfcfcf; border-radius: 2px; background: #f6fafa; line-height: 1.21429em; padding: 10px;\">\n",
       "                    <div class=\"item_left\" style=\"width: 210px; float: left;\">\n",
       "                       <a href='https://PS-DBS.maps.arcgis.com/home/item.html?id=538be0b6c9104f6482049110e8dbf65c' target='_blank'>\n",
       "                        <img src='data:image/png;base64,iVBORw0KGgoAAAANSUhEUgAAAMgAAACFCAYAAAAenrcsAAAE3UlEQVR4nO3dP4gcVRwH8LeXvctfUVTUFAoKChYKETTEYCGkEsHOyiJWYm1hCu0sYqGWks7CNFYKYmPASiUIplBQI0QwhUZQojExdzl35c3u3q3Z3d/e7t6fmZ3PB5abvM2F3O595ztv5s1do91utxMw1MKwQaBDQCAgIBAQEAgICAQEBAICAgEBgYCAQEBAICAgEBAQCAgIBAQEAgICAQGBgIBAQEAgICAQEBAICAgEBAQCzdFP1cszH12p+0tQ+OS5WwbG6kyDQECD3KSue1ANOpwGgYCAQEBAICAgEBAQCAgIBJzm3UQ7ear00Tt3pZNH9w2MMxsNAgENsoks05g/GgQCAgIBAYGAOUiX+QPDaBAI1LJBJrleoVnqTYNAoJYNohXYKA0CAQHpyvOSzV5LdfVGe2CMahGQLXLhz1Y6/unVdObnG3P59dWFgGyBHI5XP79WNMipb5c1SYUJyCbrD8f+xUZ68+i+4iPVJCBTuHStNfSThoXjgVu9xFXm3ZtQnlO8OGRuIRzzyVqsCX14YaX4hLfPXS8+HrtvceJw7MSdh+44nM7od5Gh+r/5c0hO/7CiOeaYBplQLwQ5FLk5Tn+/XPwDk4TDlfzqsKubws1h0Bzzyzs6pV4ojhxsCsccc4g1gxyS15/YW9n/P+PZ7UFAQCDgEKvLmSWG0SAQcE/6GJql3jQIBBrtdtvNCjCCBoGAs1hdvXnJdsw5qvwrl+s2J9MgENAgE5h0zz9ub3vq6eosU3nps38GxupAg0BAg0xhXDNUeY7B/2kQCAgIBBxilUiZJsJVOoGwlTQIBDRICe3kxTgnGP5Pg0BAQCDgEGsKDkPqQ4NAQIN0bWRivF2TZw1VHhoEAu5JH2M7T7m6OFc+GgQCfk86BDQIBJzF6trOe9JHmXax4r5mI73z1J6BcWanQeZMDlkUtFmfrxsNUkLTtNjFv1YHxpidBqmR36+v/4zA/m1GE5CauPh3K73x1fLaF5u38xgxAamJj39aTddW2+nEY83ikbfzGDFzkJrIgcgO37W+T+yNMZqAlNA0ixXHLVO5Y0+j+Hjy3OrAGKMJSE08/+BiMTE/e6kz73jotoVijJiAlMhWLlbMFxNfObR77RpH3mY8k3QICMgc+fLXf9e+mP5tpucQ6yZbeTffVq7zyoF477uVtT93tpfSkXt2DfxdNk5ASmSaNVB5LpEn3F/80jk79f6xpeLjC2dWijEBmY2AdNX9HpF8TeTdb9Yb6K1zy+nlR5aKyX2dCUgJTRLWy9db6cpKKz15sJnOX14pmqMnj23UBz/eSOcvt9LhuzvT0nw6OI8df3ipBq/4aCbpFXdgqfMW5kOp/m/mvD3J4VVv8eKJQ83ikSxoLAhIxTUXUrp9bycI/YGYdO7RO5Q6+1urePSP1fr1HRihcvYvNtIfM97j9Oz9zeIQ6+TXncl+DkceqzsNMud2NxvFY5T8XHOhke49sJBee3z96nrezmN1ZxdRQpu5WHF5zIrd/uf7Fy9ayNhhFwGBRrvdjncxbLpeQ4za65dR7yJm3a4XaRAICAgETNJ3kJ8/VX4aBAIm6RDQIBAQEAgICAQEBAICAgEBgYCAQEBAICAgEBAQCAgIBAQEAgICAQGBgIBAQEAgICAQEBAICAgEBAQCAgKjpJT+Ay1LYu2zoK/nAAAAAElFTkSuQmCC' width='200' height='133' class=\"itemThumbnail\">\n",
       "                       </a>\n",
       "                    </div>\n",
       "\n",
       "                    <div class=\"item_right\"     style=\"float: none; width: auto; overflow: hidden;\">\n",
       "                        <a href='https://PS-DBS.maps.arcgis.com/home/item.html?id=538be0b6c9104f6482049110e8dbf65c' target='_blank'><b>Dragon Sightings</b>\n",
       "                        </a>\n",
       "                        <br/><img src='https://PS-DBS.maps.arcgis.com/home/js/jsapi/esri/css/images/item_type_icons/layers16.png' style=\"vertical-align:middle;\" width=16 height=16>Form by bhorne_PS_DBS\n",
       "                        <br/>Last Modified: November 28, 2022\n",
       "                        <br/>0 comments, 2 views\n",
       "                    </div>\n",
       "                </div>\n",
       "                "
      ],
      "text/plain": [
       "<Item title:\"Dragon Sightings\" type:Form owner:bhorne_PS_DBS>"
      ]
     },
     "execution_count": 10,
     "metadata": {},
     "output_type": "execute_result"
    }
   ],
   "source": [
    "hosted_flyr = source.content.get(\"538be0b6c9104f6482049110e8dbf65c\")\n",
    "hosted_flyr"
   ]
  },
  {
   "cell_type": "code",
   "execution_count": 14,
   "metadata": {},
   "outputs": [
    {
     "data": {
      "text/plain": [
       "[<Item title:\"Dragon Sightings\" type:Form owner:bhorne_PS_DBS>]"
      ]
     },
     "execution_count": 14,
     "metadata": {},
     "output_type": "execute_result"
    }
   ],
   "source": [
    "survey_manager = arcgis.apps.survey123.SurveyManager(source)\n",
    "group = source.groups.get('c3d10e7089af45699f944549bd64f08a')\n",
    "sourceForms = group.search('type:form')['results']\n",
    "sourceForms"
   ]
  },
  {
   "cell_type": "code",
   "execution_count": 16,
   "metadata": {},
   "outputs": [
    {
     "name": "stdout",
     "output_type": "stream",
     "text": [
      "Cloned surveys: \n",
      "<Item title:\"Dragon Sightings\" type:Form owner:bhorne_PS>\n"
     ]
    }
   ],
   "source": [
    "import time\n",
    "time.sleep(30)\n",
    "targetForms = target.content.search('type:form group:'+shared_group.id)\n",
    "print(\"Cloned surveys: \", *targetForms, sep=\"\\n\")"
   ]
  },
  {
   "cell_type": "code",
   "execution_count": 17,
   "metadata": {},
   "outputs": [
    {
     "name": "stdout",
     "output_type": "stream",
     "text": [
      "Folder items:\n",
      "<Item title:\"Dragon Sightings\" type:Feature Layer Collection owner:bhorne_PS_DBS>\n",
      "<Item title:\"Dragon Sightings\" type:Form owner:bhorne_PS_DBS>\n",
      "<Item title:\"Dragon Sightings\" type:Web Map owner:bhorne_PS_DBS>\n",
      "<Item title:\"Dragon Sightings\" type:Feature Layer Collection owner:bhorne_PS_DBS>\n",
      "<Item title:\"DrogonWinterfell8x01\" type:Image owner:bhorne_PS_DBS>\n"
     ]
    }
   ],
   "source": [
    "source_item_with_data = survey_manager.get(\"538be0b6c9104f6482049110e8dbf65c\")\n",
    "survey_folder = source_item_with_data.properties['ownerFolder']\n",
    "\n",
    "usr = arcgis.gis.User(source, source.users.me.username)\n",
    "\n",
    "full_folder = usr.folders\n",
    "\n",
    "# Identify the folder associated with the survey\n",
    "fldr = next((f for f in full_folder if f['id'] == survey_folder), 0)\n",
    "\n",
    "#List all the items within that folder to be cloned later on\n",
    "fldr_items = usr.items(folder=fldr)\n",
    "print(\"Folder items:\", *fldr_items, sep=\"\\n\")"
   ]
  },
  {
   "cell_type": "code",
   "execution_count": 18,
   "metadata": {},
   "outputs": [
    {
     "name": "stdout",
     "output_type": "stream",
     "text": [
      "<Item title:\"Dragon Sightings\" type:Feature Layer Collection owner:bhorne_PS>\n",
      "<Item title:\"Dragon Sightings\" type:Feature Layer Collection owner:bhorne_PS>\n",
      "<Item title:\"DrogonWinterfell8x01\" type:Image owner:bhorne_PS>\n",
      "<Item title:\"Dragon Sightings\" type:Form owner:bhorne_PS>\n",
      "<Item title:\"Dragon Sightings\" type:Web Map owner:bhorne_PS>\n",
      "Result feature count:  0\n"
     ]
    }
   ],
   "source": [
    "# Create a new folder with the same name as the source folder to clone the contents to\n",
    "target.content.create_folder(folder=fldr['title']+\"_Python\")\n",
    "\n",
    "# Clone items to the new folder\n",
    "cloned_items = target.content.clone_items(items=fldr_items, folder=fldr['title']+\"_Python\")\n",
    "print(*cloned_items, sep=\"\\n\")\n",
    "print(\"Result feature count: \", cloned_items[0].layers[0].query(where='1=1', return_count_only=True))\n",
    "\n",
    "# Search for the cloned survey and update the form item to ensure all resources are rebuilt\n",
    "search_clone_survey = target.content.search(f\"title: {source_item_with_data.properties['title']} AND owner: {target.users.me.username} Form\")\n",
    "cloned_survey = search_clone_survey[0]\n",
    "download_survey = cloned_survey.download(file_name=cloned_survey.id+'.zip')\n",
    "cloned_survey.update({},download_survey)\n",
    "os.remove(download_survey)"
   ]
  }
 ],
 "metadata": {
  "kernelspec": {
   "display_name": "Python 3",
   "language": "python",
   "name": "python3"
  },
  "language_info": {
   "codemirror_mode": {
    "name": "ipython",
    "version": 3
   },
   "file_extension": ".py",
   "mimetype": "text/x-python",
   "name": "python",
   "nbconvert_exporter": "python",
   "pygments_lexer": "ipython3",
   "version": "3.9.18"
  }
 },
 "nbformat": 4,
 "nbformat_minor": 2
}
