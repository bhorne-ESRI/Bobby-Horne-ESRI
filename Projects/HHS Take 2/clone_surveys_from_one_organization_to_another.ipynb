{
 "cells": [
  {
   "cell_type": "markdown",
   "metadata": {},
   "source": [
    "# Clone surveys from one organization to another\n",
    "\n"
   ]
  },
  {
   "cell_type": "markdown",
   "metadata": {},
   "source": [
    "<div class=\"alert alert-block alert-info\">This notebook uses the ArcGIS API for Python. For more information, see the <a href=\"https://developers.arcgis.com/python/\">ArcGIS API for Python documentation and guides</a>.</div>"
   ]
  },
  {
   "cell_type": "markdown",
   "metadata": {},
   "source": [
    "### Introduction\n",
    "\n",
    "A common question the Survey123 team has received from organization administrators is, \"What's the best way to clone my surveys from one organization to another?\"\n",
    "\n",
    "There are two common use cases for cloning surveys:\n",
    "1. Create a copy of a survey in another ArcGIS organization. For example, a city's transportation and water departments have different ArcGIS Online organizations and the water department would benefit from having a copy of one of the transportation department's surveys as well as its associated web map and dashboard.\n",
    "2. Clone a survey from a development organization in ArcGIS Enterprise to staging and production organizations.\n",
    "\n",
    "This sample Python notebook demonstrates how to clone surveys and associated content from one organization to another. This workflow can be used to clone surveys from ArcGIS Online to ArcGIS Online, ArcGIS Online to ArcGIS Enterprise, or ArcGIS Enterprise to ArcGIS Enterprise. The direction of cloning does not matter.\n",
    "\n",
    "This notebook demonstrates two cloning methods:\n",
    "* <a href='#related-items'>Clone related items</a>\n",
    "* <a href='#full-folder'>Clone survey folder</a>\n",
    "\n",
    "The foundation of the workflow is the <a href='https://developers.arcgis.com/python/api-reference/arcgis.gis.toc.html#arcgis.gis.ContentManager.clone_items' target=_blank>`clone_items()`</a> method in the ArcGIS API for Python. This is the infrastructure that allows us to clone surveys from a source organization to a target organization. Given the different content and item types, possible ArcGIS Enterprise and ArcGIS Online configurations, security considerations, and item dependencies, the `clone_items()` method aims to produce an exact duplicate of an item that retains all of its functionality.\n",
    "\n",
    "Please note that cloning relies on the sharing model to determine the items a user can clone. The user specified in the source organization will need admin access to the content that will be cloned, and the user specified in the target organization will need the ability to create content in that organization.\n",
    "\n",
    "For more information on the `clone_items` method, see the ArcGIS API for Python <a href=\"https://developers.arcgis.com/python/guide/cloning-content/\" target=\"_blank\">Cloning content guide</a> and <a href=\"https://developers.arcgis.com/python/api-reference/arcgis.gis.toc.html?#arcgis.gis.ContentManager.clone_items\" target=\"_blank\">API reference</a>. "
   ]
  },
  {
   "cell_type": "markdown",
   "metadata": {},
   "source": [
    "### Prepare to clone\n",
    "\n",
    "To start, we are going to need two <a href='https://developers.arcgis.com/python/guide/using-the-gis/' target=_blank>GIS</a> connections: one to our \"source\" organization, which is the organization in which the survey and content currently resides that we would like to clone; and another to a \"target\" organization, which is the organization that we would like to clone the survey and content to."
   ]
  },
  {
   "cell_type": "code",
   "execution_count": 11,
   "metadata": {},
   "outputs": [
    {
     "name": "stdout",
     "output_type": "stream",
     "text": [
      "Source GIS: GIS @ https://geohealth.hhs.gov/arcgis version:10.3 \n",
      "Target GIS: GIS @ https://PS-DBS.maps.arcgis.com version:2024.2\n"
     ]
    }
   ],
   "source": [
    "import arcgis\n",
    "from arcgis.gis import GIS\n",
    "import os\n",
    "\n",
    "# Connect to source and target organizations\n",
    "source = GIS(url=\"https://geohealth.hhs.gov/arcgis\", username=\"Cloud.DataTransfer\", password=\"GeoHealth2023!\")\n",
    "target = GIS(url=\"https://ps-dbs.maps.arcgis.com/home\", username=\"bhorne_ps_dbs\", password=\"78tHbDv5\")\n",
    "print(\"Source GIS:\", source,\"\\nTarget GIS:\", target)"
   ]
  },
  {
   "cell_type": "markdown",
   "metadata": {},
   "source": [
    "The first example highlights a workflow where you have a few surveys shared to a group that you would like to clone to a different organization. In order to work with your surveys a <a href='https://developers.arcgis.com/python/api-reference/arcgis.apps.survey123.html#arcgis.apps.survey123.SurveyManager' target=_blank>Survey Manager</a> is defined. A survey in the Survey Manager is a single instance of a survey project that contains the item information and properties and provides access to the underlying survey dataset. In this example, four surveys are shared to a group. Using the group ID, a connection is made to the group and a list is created containing all form items in the group."
   ]
  },
  {
   "cell_type": "code",
   "execution_count": 20,
   "metadata": {},
   "outputs": [
    {
     "data": {
      "text/plain": [
       "[<Item title:\"Palau Points of Interest\" type:Form owner:GeoHealthManager>,\n",
       " <Item title:\"USPHS Awards Nomination\" type:Form owner:GeoHealthManager>]"
      ]
     },
     "execution_count": 20,
     "metadata": {},
     "output_type": "execute_result"
    }
   ],
   "source": [
    "# Get surveys by group ID and then download each format supported\n",
    "survey_manager = arcgis.apps.survey123.SurveyManager(source)\n",
    "group = source.groups.get('c1feb0feaed244429362d550932278ce')\n",
    "sourceForms = group.search('type:form')['results']\n",
    "sourceForms"
   ]
  },
  {
   "cell_type": "markdown",
   "metadata": {},
   "source": [
    "Now that we have your forms as a list, you are ready to clone the content from the source organization to the target organization. As previously noted, a use case for using the `clone_items()` method is to clone surveys between development, staging, and production organizations. This first example clones the surveys from an existing group (as defined above) located in the source organization to the target organization and shares the cloned surveys to a group with the same name in the target organization."
   ]
  },
  {
   "cell_type": "markdown",
   "metadata": {},
   "source": [
    "<a id='related-items'></a>\n",
    "### Clone related items\n",
    "\n",
    "The code below starts by creating a new group in the target organization using the same title and tags as the existing group in the source organization. Once the surveys are cloned, they will be shared to this newly created group. \n",
    "\n",
    "Each form item in the source group is looped through, obtaining the feature service associated with the survey through the `Survey2Service` relationship, as well as any additional items related to the survey using the `Survey2Data` relationship. This would include any linked content or report templates associated with the survey. All related items are merged into a list to be cloned. For more information on related items in ArcGIS, see <a href='https://developers.arcgis.com/rest/users-groups-and-items/relationship-types.htm' target=_blank>Relationship types</a>. \n",
    "\n",
    "Next, a new folder in the target organization is created based on the survey name, and the items in the list are cloned. Since the `copy_data` parameter is set to \"False\" in the `clone_items()` method, the resulting services created in the target organization will not contain any data. This is ideal when cloning from a development environment to a staging or production environment, as you might not wish to retain any test data.\n",
    "\n",
    "Finally, the form items are shared to the group in the target organization that was defined previously, including the feature service, and tags are added to each item."
   ]
  },
  {
   "cell_type": "code",
   "execution_count": 21,
   "metadata": {},
   "outputs": [
    {
     "name": "stdout",
     "output_type": "stream",
     "text": [
      "Source items: \n",
      "<Item title:\"Palau Points of Interest\" type:Form owner:GeoHealthManager>\n",
      "<Item title:\"Palau Points of Interest\" type:Feature Layer Collection owner:GeoHealthManager>\n",
      "<Item title:\"Palau Points of Interest_results\" type:Feature Layer Collection owner:GeoHealthManager>\n",
      "<Item title:\"Palau Points of Interest_sampleTemplateIndividual\" type:Microsoft Word owner:GeoHealthManager>\n",
      "<Item title:\"Koror_Babeldaob_OpenStreetMapBaseMap\" type:Vector Tile Package owner:GeoHealthManager>\n",
      "<Item title:\"Peleliu_Palau_OpenStreetMapBaseMap\" type:Vector Tile Package owner:GeoHealthManager>\n",
      "<Item title:\"Palau Points of Interest\" type:Web Map owner:GeoHealthManager>\n"
     ]
    },
    {
     "ename": "_ItemCreateException",
     "evalue": "('Failed to create Feature Service Palau Points of Interest: list index out of range', <Item title:\"Palau Points of Interest\" type:Feature Layer Collection owner:bhorne_PS_DBS>)",
     "output_type": "error",
     "traceback": [
      "\u001b[1;31m---------------------------------------------------------------------------\u001b[0m",
      "\u001b[1;31mIndexError\u001b[0m                                Traceback (most recent call last)",
      "\u001b[1;32mc:\\Program Files\\ArcGIS\\Pro\\bin\\Python\\envs\\arcgispro-py3\\lib\\site-packages\\arcgis\\_impl\\common\\_clone.py\u001b[0m in \u001b[0;36mclone\u001b[1;34m(self)\u001b[0m\n\u001b[0;32m   3924\u001b[0m                         ]\n\u001b[1;32m-> 3925\u001b[1;33m                     self._add_features(\n\u001b[0m\u001b[0;32m   3926\u001b[0m                         \u001b[0mnew_layers\u001b[0m\u001b[1;33m,\u001b[0m\u001b[1;33m\u001b[0m\u001b[1;33m\u001b[0m\u001b[0m\n",
      "\u001b[1;32mc:\\Program Files\\ArcGIS\\Pro\\bin\\Python\\envs\\arcgispro-py3\\lib\\site-packages\\arcgis\\_impl\\common\\_clone.py\u001b[0m in \u001b[0;36m_add_features\u001b[1;34m(self, layers, relationships, layer_field_mapping, spatial_reference)\u001b[0m\n\u001b[0;32m   2736\u001b[0m                 \u001b[0mobject_id_field\u001b[0m \u001b[1;33m=\u001b[0m \u001b[0mlayers\u001b[0m\u001b[1;33m[\u001b[0m\u001b[0mrelated_layer_id\u001b[0m\u001b[1;33m]\u001b[0m\u001b[1;33m.\u001b[0m\u001b[0mproperties\u001b[0m\u001b[1;33m[\u001b[0m\u001b[1;34m\"objectIdField\"\u001b[0m\u001b[1;33m]\u001b[0m\u001b[1;33m\u001b[0m\u001b[1;33m\u001b[0m\u001b[0m\n\u001b[1;32m-> 2737\u001b[1;33m                 object_id_mapping[related_layer_id] = {\n\u001b[0m\u001b[0;32m   2738\u001b[0m                     related_layer_features[i][\"attributes\"][\n",
      "\u001b[1;32mc:\\Program Files\\ArcGIS\\Pro\\bin\\Python\\envs\\arcgispro-py3\\lib\\site-packages\\arcgis\\_impl\\common\\_clone.py\u001b[0m in \u001b[0;36m<dictcomp>\u001b[1;34m(.0)\u001b[0m\n\u001b[0;32m   2739\u001b[0m                         \u001b[0mobject_id_field\u001b[0m\u001b[1;33m\u001b[0m\u001b[1;33m\u001b[0m\u001b[0m\n\u001b[1;32m-> 2740\u001b[1;33m                     ]: add_results[i][\"objectId\"]\n\u001b[0m\u001b[0;32m   2741\u001b[0m                     \u001b[1;32mfor\u001b[0m \u001b[0mi\u001b[0m \u001b[1;32min\u001b[0m \u001b[0mrange\u001b[0m\u001b[1;33m(\u001b[0m\u001b[1;36m0\u001b[0m\u001b[1;33m,\u001b[0m \u001b[0mlen\u001b[0m\u001b[1;33m(\u001b[0m\u001b[0mrelated_layer_features\u001b[0m\u001b[1;33m)\u001b[0m\u001b[1;33m)\u001b[0m\u001b[1;33m\u001b[0m\u001b[1;33m\u001b[0m\u001b[0m\n",
      "\u001b[1;31mIndexError\u001b[0m: list index out of range",
      "\nDuring handling of the above exception, another exception occurred:\n",
      "\u001b[1;31m_ItemCreateException\u001b[0m                      Traceback (most recent call last)",
      "\u001b[1;32m~\\AppData\\Local\\Temp\\1\\ipykernel_15600\\163321650.py\u001b[0m in \u001b[0;36m<cell line: 5>\u001b[1;34m()\u001b[0m\n\u001b[0;32m     18\u001b[0m \u001b[1;33m\u001b[0m\u001b[0m\n\u001b[0;32m     19\u001b[0m     \u001b[1;31m# Clone all items to the new folder in target environment\u001b[0m\u001b[1;33m\u001b[0m\u001b[1;33m\u001b[0m\u001b[0m\n\u001b[1;32m---> 20\u001b[1;33m     \u001b[0mcloned_items\u001b[0m \u001b[1;33m=\u001b[0m \u001b[0mtarget\u001b[0m\u001b[1;33m.\u001b[0m\u001b[0mcontent\u001b[0m\u001b[1;33m.\u001b[0m\u001b[0mclone_items\u001b[0m\u001b[1;33m(\u001b[0m\u001b[0mitems\u001b[0m\u001b[1;33m=\u001b[0m\u001b[0mall_items\u001b[0m\u001b[1;33m,\u001b[0m \u001b[0mfolder\u001b[0m\u001b[1;33m=\u001b[0m\u001b[0mfolderName\u001b[0m\u001b[1;33m,\u001b[0m \u001b[0mcopy_data\u001b[0m\u001b[1;33m=\u001b[0m\u001b[1;32mTrue\u001b[0m\u001b[1;33m)\u001b[0m\u001b[1;33m\u001b[0m\u001b[1;33m\u001b[0m\u001b[0m\n\u001b[0m\u001b[0;32m     21\u001b[0m \u001b[1;33m\u001b[0m\u001b[0m\n\u001b[0;32m     22\u001b[0m     \u001b[1;31m# Check the feature count in cloned feature layer. Feature count should 0 because existing data is not copied\u001b[0m\u001b[1;33m\u001b[0m\u001b[1;33m\u001b[0m\u001b[0m\n",
      "\u001b[1;32mc:\\Program Files\\ArcGIS\\Pro\\bin\\Python\\envs\\arcgispro-py3\\lib\\site-packages\\arcgis\\gis\\__init__.py\u001b[0m in \u001b[0;36mclone_items\u001b[1;34m(self, items, folder, item_extent, use_org_basemap, copy_data, copy_global_ids, search_existing_items, item_mapping, group_mapping, owner, preserve_item_id, **kwargs)\u001b[0m\n\u001b[0;32m   8560\u001b[0m             \u001b[0mwab_code_attach\u001b[0m\u001b[1;33m=\u001b[0m\u001b[0mkwargs\u001b[0m\u001b[1;33m.\u001b[0m\u001b[0mpop\u001b[0m\u001b[1;33m(\u001b[0m\u001b[1;34m\"copy_code_attachment\"\u001b[0m\u001b[1;33m,\u001b[0m \u001b[1;32mTrue\u001b[0m\u001b[1;33m)\u001b[0m\u001b[1;33m,\u001b[0m\u001b[1;33m\u001b[0m\u001b[1;33m\u001b[0m\u001b[0m\n\u001b[0;32m   8561\u001b[0m         )\n\u001b[1;32m-> 8562\u001b[1;33m         \u001b[1;32mreturn\u001b[0m \u001b[0mdeep_cloner\u001b[0m\u001b[1;33m.\u001b[0m\u001b[0mclone\u001b[0m\u001b[1;33m(\u001b[0m\u001b[1;33m)\u001b[0m\u001b[1;33m\u001b[0m\u001b[1;33m\u001b[0m\u001b[0m\n\u001b[0m\u001b[0;32m   8563\u001b[0m \u001b[1;33m\u001b[0m\u001b[0m\n\u001b[0;32m   8564\u001b[0m     def bulk_update(\n",
      "\u001b[1;32mc:\\Program Files\\ArcGIS\\Pro\\bin\\Python\\envs\\arcgispro-py3\\lib\\site-packages\\arcgis\\_impl\\common\\_clone.py\u001b[0m in \u001b[0;36mclone\u001b[1;34m(self)\u001b[0m\n\u001b[0;32m   1320\u001b[0m         \u001b[1;32melse\u001b[0m\u001b[1;33m:\u001b[0m\u001b[1;33m\u001b[0m\u001b[1;33m\u001b[0m\u001b[0m\n\u001b[0;32m   1321\u001b[0m             \u001b[1;32mwith\u001b[0m \u001b[0mconcurrent\u001b[0m\u001b[1;33m.\u001b[0m\u001b[0mfutures\u001b[0m\u001b[1;33m.\u001b[0m\u001b[0mThreadPoolExecutor\u001b[0m\u001b[1;33m(\u001b[0m\u001b[0mmax_workers\u001b[0m\u001b[1;33m=\u001b[0m\u001b[1;36m20\u001b[0m\u001b[1;33m)\u001b[0m \u001b[1;32mas\u001b[0m \u001b[0mexecutor\u001b[0m\u001b[1;33m:\u001b[0m\u001b[1;33m\u001b[0m\u001b[1;33m\u001b[0m\u001b[0m\n\u001b[1;32m-> 1322\u001b[1;33m                 \u001b[0mresults\u001b[0m \u001b[1;33m=\u001b[0m \u001b[0mexecutor\u001b[0m\u001b[1;33m.\u001b[0m\u001b[0msubmit\u001b[0m\u001b[1;33m(\u001b[0m\u001b[0mself\u001b[0m\u001b[1;33m.\u001b[0m\u001b[0m_clone\u001b[0m\u001b[1;33m,\u001b[0m \u001b[0mexecutor\u001b[0m\u001b[1;33m)\u001b[0m\u001b[1;33m.\u001b[0m\u001b[0mresult\u001b[0m\u001b[1;33m(\u001b[0m\u001b[1;33m)\u001b[0m\u001b[1;33m\u001b[0m\u001b[1;33m\u001b[0m\u001b[0m\n\u001b[0m\u001b[0;32m   1323\u001b[0m                 \u001b[1;32mreturn\u001b[0m \u001b[0mresults\u001b[0m\u001b[1;33m\u001b[0m\u001b[1;33m\u001b[0m\u001b[0m\n\u001b[0;32m   1324\u001b[0m \u001b[1;33m\u001b[0m\u001b[0m\n",
      "\u001b[1;32mc:\\Program Files\\ArcGIS\\Pro\\bin\\Python\\envs\\arcgispro-py3\\lib\\concurrent\\futures\\_base.py\u001b[0m in \u001b[0;36mresult\u001b[1;34m(self, timeout)\u001b[0m\n\u001b[0;32m    444\u001b[0m                     \u001b[1;32mraise\u001b[0m \u001b[0mCancelledError\u001b[0m\u001b[1;33m(\u001b[0m\u001b[1;33m)\u001b[0m\u001b[1;33m\u001b[0m\u001b[1;33m\u001b[0m\u001b[0m\n\u001b[0;32m    445\u001b[0m                 \u001b[1;32melif\u001b[0m \u001b[0mself\u001b[0m\u001b[1;33m.\u001b[0m\u001b[0m_state\u001b[0m \u001b[1;33m==\u001b[0m \u001b[0mFINISHED\u001b[0m\u001b[1;33m:\u001b[0m\u001b[1;33m\u001b[0m\u001b[1;33m\u001b[0m\u001b[0m\n\u001b[1;32m--> 446\u001b[1;33m                     \u001b[1;32mreturn\u001b[0m \u001b[0mself\u001b[0m\u001b[1;33m.\u001b[0m\u001b[0m__get_result\u001b[0m\u001b[1;33m(\u001b[0m\u001b[1;33m)\u001b[0m\u001b[1;33m\u001b[0m\u001b[1;33m\u001b[0m\u001b[0m\n\u001b[0m\u001b[0;32m    447\u001b[0m                 \u001b[1;32melse\u001b[0m\u001b[1;33m:\u001b[0m\u001b[1;33m\u001b[0m\u001b[1;33m\u001b[0m\u001b[0m\n\u001b[0;32m    448\u001b[0m                     \u001b[1;32mraise\u001b[0m \u001b[0mTimeoutError\u001b[0m\u001b[1;33m(\u001b[0m\u001b[1;33m)\u001b[0m\u001b[1;33m\u001b[0m\u001b[1;33m\u001b[0m\u001b[0m\n",
      "\u001b[1;32mc:\\Program Files\\ArcGIS\\Pro\\bin\\Python\\envs\\arcgispro-py3\\lib\\concurrent\\futures\\_base.py\u001b[0m in \u001b[0;36m__get_result\u001b[1;34m(self)\u001b[0m\n\u001b[0;32m    389\u001b[0m         \u001b[1;32mif\u001b[0m \u001b[0mself\u001b[0m\u001b[1;33m.\u001b[0m\u001b[0m_exception\u001b[0m\u001b[1;33m:\u001b[0m\u001b[1;33m\u001b[0m\u001b[1;33m\u001b[0m\u001b[0m\n\u001b[0;32m    390\u001b[0m             \u001b[1;32mtry\u001b[0m\u001b[1;33m:\u001b[0m\u001b[1;33m\u001b[0m\u001b[1;33m\u001b[0m\u001b[0m\n\u001b[1;32m--> 391\u001b[1;33m                 \u001b[1;32mraise\u001b[0m \u001b[0mself\u001b[0m\u001b[1;33m.\u001b[0m\u001b[0m_exception\u001b[0m\u001b[1;33m\u001b[0m\u001b[1;33m\u001b[0m\u001b[0m\n\u001b[0m\u001b[0;32m    392\u001b[0m             \u001b[1;32mfinally\u001b[0m\u001b[1;33m:\u001b[0m\u001b[1;33m\u001b[0m\u001b[1;33m\u001b[0m\u001b[0m\n\u001b[0;32m    393\u001b[0m                 \u001b[1;31m# Break a reference cycle with the exception in self._exception\u001b[0m\u001b[1;33m\u001b[0m\u001b[1;33m\u001b[0m\u001b[0m\n",
      "\u001b[1;32mc:\\Program Files\\ArcGIS\\Pro\\bin\\Python\\envs\\arcgispro-py3\\lib\\concurrent\\futures\\thread.py\u001b[0m in \u001b[0;36mrun\u001b[1;34m(self)\u001b[0m\n\u001b[0;32m     56\u001b[0m \u001b[1;33m\u001b[0m\u001b[0m\n\u001b[0;32m     57\u001b[0m         \u001b[1;32mtry\u001b[0m\u001b[1;33m:\u001b[0m\u001b[1;33m\u001b[0m\u001b[1;33m\u001b[0m\u001b[0m\n\u001b[1;32m---> 58\u001b[1;33m             \u001b[0mresult\u001b[0m \u001b[1;33m=\u001b[0m \u001b[0mself\u001b[0m\u001b[1;33m.\u001b[0m\u001b[0mfn\u001b[0m\u001b[1;33m(\u001b[0m\u001b[1;33m*\u001b[0m\u001b[0mself\u001b[0m\u001b[1;33m.\u001b[0m\u001b[0margs\u001b[0m\u001b[1;33m,\u001b[0m \u001b[1;33m**\u001b[0m\u001b[0mself\u001b[0m\u001b[1;33m.\u001b[0m\u001b[0mkwargs\u001b[0m\u001b[1;33m)\u001b[0m\u001b[1;33m\u001b[0m\u001b[1;33m\u001b[0m\u001b[0m\n\u001b[0m\u001b[0;32m     59\u001b[0m         \u001b[1;32mexcept\u001b[0m \u001b[0mBaseException\u001b[0m \u001b[1;32mas\u001b[0m \u001b[0mexc\u001b[0m\u001b[1;33m:\u001b[0m\u001b[1;33m\u001b[0m\u001b[1;33m\u001b[0m\u001b[0m\n\u001b[0;32m     60\u001b[0m             \u001b[0mself\u001b[0m\u001b[1;33m.\u001b[0m\u001b[0mfuture\u001b[0m\u001b[1;33m.\u001b[0m\u001b[0mset_exception\u001b[0m\u001b[1;33m(\u001b[0m\u001b[0mexc\u001b[0m\u001b[1;33m)\u001b[0m\u001b[1;33m\u001b[0m\u001b[1;33m\u001b[0m\u001b[0m\n",
      "\u001b[1;32mc:\\Program Files\\ArcGIS\\Pro\\bin\\Python\\envs\\arcgispro-py3\\lib\\site-packages\\arcgis\\_impl\\common\\_clone.py\u001b[0m in \u001b[0;36m_clone\u001b[1;34m(self, excecutor)\u001b[0m\n\u001b[0;32m   1294\u001b[0m                         \u001b[1;32mif\u001b[0m \u001b[0mitem\u001b[0m\u001b[1;33m:\u001b[0m\u001b[1;33m\u001b[0m\u001b[1;33m\u001b[0m\u001b[0m\n\u001b[0;32m   1295\u001b[0m                             \u001b[0mitem\u001b[0m\u001b[1;33m.\u001b[0m\u001b[0mdelete\u001b[0m\u001b[1;33m(\u001b[0m\u001b[1;33m)\u001b[0m\u001b[1;33m\u001b[0m\u001b[1;33m\u001b[0m\u001b[0m\n\u001b[1;32m-> 1296\u001b[1;33m                     \u001b[1;32mraise\u001b[0m \u001b[0mex\u001b[0m\u001b[1;33m\u001b[0m\u001b[1;33m\u001b[0m\u001b[0m\n\u001b[0m\u001b[0;32m   1297\u001b[0m \u001b[1;33m\u001b[0m\u001b[0m\n\u001b[0;32m   1298\u001b[0m             \u001b[0mlevel\u001b[0m \u001b[1;33m+=\u001b[0m \u001b[1;36m1\u001b[0m\u001b[1;33m\u001b[0m\u001b[1;33m\u001b[0m\u001b[0m\n",
      "\u001b[1;32mc:\\Program Files\\ArcGIS\\Pro\\bin\\Python\\envs\\arcgispro-py3\\lib\\concurrent\\futures\\thread.py\u001b[0m in \u001b[0;36mrun\u001b[1;34m(self)\u001b[0m\n\u001b[0;32m     56\u001b[0m \u001b[1;33m\u001b[0m\u001b[0m\n\u001b[0;32m     57\u001b[0m         \u001b[1;32mtry\u001b[0m\u001b[1;33m:\u001b[0m\u001b[1;33m\u001b[0m\u001b[1;33m\u001b[0m\u001b[0m\n\u001b[1;32m---> 58\u001b[1;33m             \u001b[0mresult\u001b[0m \u001b[1;33m=\u001b[0m \u001b[0mself\u001b[0m\u001b[1;33m.\u001b[0m\u001b[0mfn\u001b[0m\u001b[1;33m(\u001b[0m\u001b[1;33m*\u001b[0m\u001b[0mself\u001b[0m\u001b[1;33m.\u001b[0m\u001b[0margs\u001b[0m\u001b[1;33m,\u001b[0m \u001b[1;33m**\u001b[0m\u001b[0mself\u001b[0m\u001b[1;33m.\u001b[0m\u001b[0mkwargs\u001b[0m\u001b[1;33m)\u001b[0m\u001b[1;33m\u001b[0m\u001b[1;33m\u001b[0m\u001b[0m\n\u001b[0m\u001b[0;32m     59\u001b[0m         \u001b[1;32mexcept\u001b[0m \u001b[0mBaseException\u001b[0m \u001b[1;32mas\u001b[0m \u001b[0mexc\u001b[0m\u001b[1;33m:\u001b[0m\u001b[1;33m\u001b[0m\u001b[1;33m\u001b[0m\u001b[0m\n\u001b[0;32m     60\u001b[0m             \u001b[0mself\u001b[0m\u001b[1;33m.\u001b[0m\u001b[0mfuture\u001b[0m\u001b[1;33m.\u001b[0m\u001b[0mset_exception\u001b[0m\u001b[1;33m(\u001b[0m\u001b[0mexc\u001b[0m\u001b[1;33m)\u001b[0m\u001b[1;33m\u001b[0m\u001b[1;33m\u001b[0m\u001b[0m\n",
      "\u001b[1;32mc:\\Program Files\\ArcGIS\\Pro\\bin\\Python\\envs\\arcgispro-py3\\lib\\site-packages\\arcgis\\_impl\\common\\_clone.py\u001b[0m in \u001b[0;36mclone\u001b[1;34m(self)\u001b[0m\n\u001b[0;32m   3994\u001b[0m             \u001b[1;32mreturn\u001b[0m \u001b[0mnew_item\u001b[0m\u001b[1;33m\u001b[0m\u001b[1;33m\u001b[0m\u001b[0m\n\u001b[0;32m   3995\u001b[0m         \u001b[1;32mexcept\u001b[0m \u001b[0mException\u001b[0m \u001b[1;32mas\u001b[0m \u001b[0mex\u001b[0m\u001b[1;33m:\u001b[0m\u001b[1;33m\u001b[0m\u001b[1;33m\u001b[0m\u001b[0m\n\u001b[1;32m-> 3996\u001b[1;33m             raise _ItemCreateException(\n\u001b[0m\u001b[0;32m   3997\u001b[0m                 \"Failed to create {0} {1}: {2}\".format(\n\u001b[0;32m   3998\u001b[0m                     \u001b[0moriginal_item\u001b[0m\u001b[1;33m[\u001b[0m\u001b[1;34m\"type\"\u001b[0m\u001b[1;33m]\u001b[0m\u001b[1;33m,\u001b[0m \u001b[0moriginal_item\u001b[0m\u001b[1;33m[\u001b[0m\u001b[1;34m\"title\"\u001b[0m\u001b[1;33m]\u001b[0m\u001b[1;33m,\u001b[0m \u001b[0mstr\u001b[0m\u001b[1;33m(\u001b[0m\u001b[0mex\u001b[0m\u001b[1;33m)\u001b[0m\u001b[1;33m\u001b[0m\u001b[1;33m\u001b[0m\u001b[0m\n",
      "\u001b[1;31m_ItemCreateException\u001b[0m: ('Failed to create Feature Service Palau Points of Interest: list index out of range', <Item title:\"Palau Points of Interest\" type:Feature Layer Collection owner:bhorne_PS_DBS>)"
     ]
    }
   ],
   "source": [
    "# Create new group in the target environment\n",
    "#shared_group = target.groups.create(title=group.title, tags=group.tags)\n",
    "\n",
    "# Clone source items to the target environment\n",
    "for form_item in sourceForms:\n",
    "\n",
    "    # Obtain the feature service associated with the survey\n",
    "    related_items = form_item.related_items('Survey2Service','forward')\n",
    "    # Obtain the additional items that have a relationship with the survey\n",
    "    additional_items = form_item.related_items('Survey2Data','forward')\n",
    "    all_items = [form_item] + related_items + additional_items\n",
    "    print(\"Source items: \", *all_items, sep=\"\\n\")\n",
    "    \n",
    "    # Create new folder according to survey name \n",
    "    title = form_item.title.replace(\" \", \"_\")\n",
    "    folderName = \"Survey-\" + title\n",
    "    target.content.create_folder(folderName)\n",
    "    \n",
    "    # Clone all items to the new folder in target environment\n",
    "    cloned_items = target.content.clone_items(items=all_items, folder=folderName, copy_data=True)\n",
    "    \n",
    "    # Check the feature count in cloned feature layer. Feature count should 0 because existing data is not copied\n",
    "    #print(\"Result feature count: \", cloned_items[0].layers[0].query(where='1=1', return_count_only=True))\n",
    "    \n",
    "    for item in cloned_items:\n",
    "        if item.type == 'Form':\n",
    "            # Update the form item to ensure all resources are rebuilt\n",
    "            downloaded_item = item.download(file_name=item.id+'.zip')\n",
    "            item.update({}, downloaded_item)\n",
    "            os.remove(downloaded_item)\n",
    "            # Share the form item to the group\n",
    "            item.update(item_properties={'tags':'PrdEnv, PythonAPI'})\n",
    "            item.share(groups=shared_group.id)\n",
    "            # Share source feature service to group\n",
    "            source_fs = item.related_items('Survey2Service','forward')[0]\n",
    "            source_fs.update(item_properties={'tags':'PrdEnv, PythonAPI'})\n",
    "            source_fs.share(groups=shared_group.id)\n",
    "        else:\n",
    "            pass"
   ]
  },
  {
   "cell_type": "markdown",
   "metadata": {},
   "source": [
    "As a confidence check, let's query the newly created group and confirm our four surveys have been shared. "
   ]
  },
  {
   "cell_type": "code",
   "execution_count": 4,
   "metadata": {
    "scrolled": true
   },
   "outputs": [
    {
     "name": "stdout",
     "output_type": "stream",
     "text": [
      "Cloned surveys: \n",
      "<Item title:\"COVID-19 Symptoms Check\" type:Form owner:survey123_publisher>\n",
      "<Item title:\"COVID-19 Testing Request\" type:Form owner:survey123_publisher>\n",
      "<Item title:\"COVID-19 Inpatient Screening\" type:Form owner:survey123_publisher>\n",
      "<Item title:\"COVID-19 Community Support\" type:Form owner:survey123_publisher>\n"
     ]
    }
   ],
   "source": [
    "# Check items in the new group in target environment.\n",
    "import time\n",
    "time.sleep(30)\n",
    "targetForms = target.content.search('type:form group:'+shared_group.id)\n",
    "print(\"Cloned surveys: \", *targetForms, sep=\"\\n\")"
   ]
  },
  {
   "cell_type": "markdown",
   "metadata": {},
   "source": [
    "The example above is a useful workflow for cloning surveys between development, staging, and production environments and will only clone items that are linked to the form item, including: report templates, linked web maps, CSVs, and map packages. But what if you would like to clone not only the survey and its related items, but also the survey data that's already been collected? Additionally, what if you have web maps, web apps, or dashboards that use the survey data but aren't linked to the survey?  \n",
    "\n",
    "If those items are stored in the survey's folder, a slightly different method can be used to clone all the content in this folder."
   ]
  },
  {
   "cell_type": "markdown",
   "metadata": {},
   "source": [
    "<a id='full-folder'></a>\n",
    "### Clone survey folder\n",
    "\n",
    "The code below demonstrates connecting to one specific survey in your organization. Using the properties of the survey, the folder ID where the survey resides is assigned to a variable. Next, all the folders in the source organization for the source username are listed. Using list comprehension, the folder in the `full_folder` variable is matched with the folder ID obtained from the survey properties.\n",
    "\n",
    "Once the correct folder has been identified the contents of the folder are listed."
   ]
  },
  {
   "cell_type": "code",
   "execution_count": 8,
   "metadata": {},
   "outputs": [
    {
     "name": "stdout",
     "output_type": "stream",
     "text": [
      "Folder items:\n",
      "<Item title:\"ASPRGIS Tasker - Feature Layer\" type:Feature Layer Collection owner:GeoHealthManager>\n",
      "<Item title:\"ASPRGIS Tasker Input Form\" type:Form owner:GeoHealthManager>\n",
      "<Item title:\"ASPRGIS Tasker Webmap\" type:Web Map owner:GeoHealthManager>\n",
      "<Item title:\"00. Parking Lot\" type:Web Map owner:GeoHealthManager>\n",
      "<Item title:\"01. New Request\" type:Web Map owner:GeoHealthManager>\n",
      "<Item title:\"02. Assigned\" type:Web Map owner:GeoHealthManager>\n",
      "<Item title:\"04. QA/QC\" type:Web Map owner:GeoHealthManager>\n",
      "<Item title:\"03. In Progress\" type:Web Map owner:GeoHealthManager>\n",
      "<Item title:\"05. Completed\" type:Web Map owner:GeoHealthManager>\n",
      "<Item title:\"ASPRGIS Tasker - Manager\" type:Web Mapping Application owner:GeoHealthManager>\n",
      "<Item title:\"ASPRGIS Tasker - Survey_stakeholder\" type:Feature Layer Collection owner:GeoHealthManager>\n"
     ]
    }
   ],
   "source": [
    "survey_manager = arcgis.apps.survey123.SurveyManager(source)\n",
    "source_item_with_data = survey_manager.get(\"eed349abdab64aa4b856ff464a9ba0a5\")\n",
    "survey_folder = source_item_with_data.properties['ownerFolder']\n",
    "\n",
    "usr = arcgis.gis.User(source, 'GeoHealthManager')\n",
    "\n",
    "full_folder = usr.folders\n",
    "\n",
    "# Identify the folder associated with the survey\n",
    "fldr = next((f for f in full_folder if f['id'] == survey_folder), 0)\n",
    "\n",
    "#List all the items within that folder to be cloned later on\n",
    "fldr_items = usr.items(folder=fldr)\n",
    "print(\"Folder items:\", *fldr_items, sep=\"\\n\")"
   ]
  },
  {
   "cell_type": "code",
   "execution_count": 9,
   "metadata": {},
   "outputs": [
    {
     "data": {
      "text/plain": [
       "<Survey @ ASPRGIS Tasker Input Form>"
      ]
     },
     "execution_count": 9,
     "metadata": {},
     "output_type": "execute_result"
    }
   ],
   "source": [
    "source_item_with_data"
   ]
  },
  {
   "cell_type": "markdown",
   "metadata": {},
   "source": [
    "Now that all items to be cloned  are in a list, a new folder is created in the target organization to store the content. After the folder is created the content is cloned to the target environment. Since the `copy_data` parameter is not defined the default value for the parameter is \"True\", meaning all the underlying data will also be cloned. This means the resulting content in the target organization will be an identical clone of the original data. If you do not wish to retain the source data, setting the `copy_data` parameter to \"False\" will only clone the data schema and architecture to the target organization. The survey, web maps, web apps, dashboards, and other items will be configured as per their original items; the only difference is the feature layer will be empty."
   ]
  },
  {
   "cell_type": "code",
   "execution_count": 10,
   "metadata": {},
   "outputs": [
    {
     "ename": "SyntaxError",
     "evalue": "invalid syntax (1763941117.py, line 6)",
     "output_type": "error",
     "traceback": [
      "\u001b[1;36m  File \u001b[1;32m\"C:\\Users\\bob10704\\AppData\\Local\\Temp\\1\\ipykernel_15600\\1763941117.py\"\u001b[1;36m, line \u001b[1;32m6\u001b[0m\n\u001b[1;33m    print(*cloned_items, sep=\"\\n\")\u001b[0m\n\u001b[1;37m    ^\u001b[0m\n\u001b[1;31mSyntaxError\u001b[0m\u001b[1;31m:\u001b[0m invalid syntax\n"
     ]
    }
   ],
   "source": [
    "# Create a new folder with the same name as the source folder to clone the contents to\n",
    "target.content.create_folder(folder=fldr['title']+\"_Python\")\n",
    "\n",
    "# Clone items to the new folder\n",
    "cloned_items = target.content.clone_items(items=fldr_items, folder=fldr(['title']+\"_Python\")\n",
    "print(*cloned_items, sep=\"\\n\")\n",
    "print(\"Result feature count: \", cloned_items[0].layers[0].query(where='1=1', return_count_only=True))\n",
    "\n",
    "# Search for the cloned survey and update the form item to ensure all resources are rebuilt\n",
    "search_clone_survey = target.content.search(f\"title: {source_item_with_data.properties['title']} AND owner: {target.users.me.username} Form\")\n",
    "cloned_survey = search_clone_survey[0]\n",
    "download_survey = cloned_survey.download(file_name=cloned_survey.id+'.zip')\n",
    "cloned_survey.update({},download_survey)\n",
    "os.remove(download_survey)"
   ]
  },
  {
   "cell_type": "markdown",
   "metadata": {},
   "source": [
    "This notebook covered two use cases for the `clone_items()` method and is intended to be used as a guide; you can take what's here and incorporate it into your own workflows.\n",
    "\n",
    "What workflows or use cases do you have that we missed? Please let us know your use cases and workflows and we can work on incorporating them into the notebook.\n",
    "\n",
    "Notes on limitations:\n",
    "- Clone fails with non-ASCII characters in service name.\n",
    "- Cloning is limited to 1000 records.\n",
    "- BUG-000136846 - The clone_items() method fails when attempting to clone a public hosted feature layer view hosted by another organization with the error message, \"User does not have permissions to access this service.\"\n",
    "- BUG-000141004 - ArcGIS API for Python clone_items() method isn’t re-creating the item info URL’s for surveys published from the web designer.\n",
    "     - The workaround is to download the survey from the target environment and immediatly update it using the file downloaded. "
   ]
  },
  {
   "cell_type": "code",
   "execution_count": null,
   "metadata": {},
   "outputs": [],
   "source": []
  }
 ],
 "metadata": {
  "esriNotebookRuntime": {
   "notebookRuntimeName": "ArcGIS Notebook Python 3 Standard",
   "notebookRuntimeVersion": "4.0"
  },
  "kernelspec": {
   "display_name": "Python 3",
   "language": "python",
   "name": "python3"
  },
  "language_info": {
   "codemirror_mode": {
    "name": "ipython",
    "version": 3
   },
   "file_extension": ".py",
   "mimetype": "text/x-python",
   "name": "python",
   "nbconvert_exporter": "python",
   "pygments_lexer": "ipython3",
   "version": "3.9.18"
  }
 },
 "nbformat": 4,
 "nbformat_minor": 4
}
