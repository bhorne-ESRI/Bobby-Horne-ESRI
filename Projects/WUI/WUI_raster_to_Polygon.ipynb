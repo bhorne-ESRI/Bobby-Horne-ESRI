{
 "cells": [
  {
   "cell_type": "code",
   "execution_count": 1,
   "metadata": {},
   "outputs": [],
   "source": [
    "import arcpy\n",
    "arcpy.env.workspace = r\"C:\\Users\\bob10704\\Desktop\\Projects\\1.Active Projects\\USFA WUI\\USFA WUI\\Landuse.gdb\\Landuse.gdb\""
   ]
  },
  {
   "cell_type": "code",
   "execution_count": 4,
   "metadata": {},
   "outputs": [],
   "source": [
    "inRaster = \"US_Wildlands\"\n",
    "outPolygons = r\"C:\\Users\\bob10704\\Desktop\\Projects\\1.Active Projects\\USFA WUI\\USFA WUI\\Nationawide_WUI.gdb\\wildlands\"\n",
    "field = \"VALUE\""
   ]
  },
  {
   "cell_type": "code",
   "execution_count": 5,
   "metadata": {},
   "outputs": [],
   "source": [
    "arcpy.conversion.RasterToPolygon(inRaster, outPolygons, \"NO_SIMPLIFY\", field)"
   ]
  },
  {
   "cell_type": "code",
   "execution_count": null,
   "metadata": {},
   "outputs": [],
   "source": []
  }
 ],
 "metadata": {
  "kernelspec": {
   "display_name": "Python 3",
   "language": "python",
   "name": "python3"
  },
  "language_info": {
   "codemirror_mode": {
    "name": "ipython",
    "version": 3
   },
   "file_extension": ".py",
   "mimetype": "text/x-python",
   "name": "python",
   "nbconvert_exporter": "python",
   "pygments_lexer": "ipython3",
   "version": "3.9.11"
  },
  "orig_nbformat": 4,
  "vscode": {
   "interpreter": {
    "hash": "ce21b655b4d6c9e397d5ad93d5666c623f49909f6d0cc2f72076dafcf1b3ecfb"
   }
  }
 },
 "nbformat": 4,
 "nbformat_minor": 2
}
